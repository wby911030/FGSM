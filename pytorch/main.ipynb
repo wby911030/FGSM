{
 "cells": [
  {
   "cell_type": "code",
   "execution_count": 1,
   "metadata": {},
   "outputs": [
    {
     "name": "stdout",
     "output_type": "stream",
     "text": [
      "Using cpu device\n"
     ]
    }
   ],
   "source": [
    "import torch\n",
    "import numpy as np\n",
    "from sklearn.model_selection import train_test_split\n",
    "import cv2\n",
    "import os\n",
    "import matplotlib.pyplot as plt\n",
    "from utils.model import BaseModel\n",
    "from utils.metrics import CategoryAccuracy\n",
    "\n",
    "device = \"cuda\" if torch.cuda.is_available() else \"cpu\"   \n",
    "print(f\"Using {device} device\")"
   ]
  },
  {
   "cell_type": "code",
   "execution_count": 2,
   "metadata": {},
   "outputs": [],
   "source": [
    "eps = 0.01\n",
    "\n",
    "def FGSM(model, x, y, loss_func = torch.nn.CrossEntropyLoss(), epsilon = eps):\n",
    "    model.eval()\n",
    "    x.requires_grad = True\n",
    "    pred = model(x)\n",
    "    loss = loss_func(pred, y)\n",
    "    loss.backward()\n",
    "    signed_grad = torch.sign(x.grad)\n",
    "    adv_x = x + epsilon * signed_grad\n",
    "    adv_x = torch.clamp(adv_x, 0.0, 1.0)\n",
    "    return adv_x"
   ]
  },
  {
   "cell_type": "code",
   "execution_count": 3,
   "metadata": {},
   "outputs": [
    {
     "name": "stdout",
     "output_type": "stream",
     "text": [
      "done\n"
     ]
    }
   ],
   "source": [
    "path = \"../ORL3232/\"\n",
    "folders = sorted(os.listdir(path)[:-1], key = lambda x : int(x))\n",
    "\n",
    "imgs = []\n",
    "labels = []\n",
    "\n",
    "for folder in folders:\n",
    "    p = path + folder + '/'\n",
    "    files = os.listdir(p)\n",
    "    files = [p+x for x in files if x.endswith(\".bmp\")]\n",
    "    for file in files:\n",
    "        img = cv2.imread(file, 0) / 255.0\n",
    "        imgs.append(np.reshape(img, [32, 32, 1]))\n",
    "        labels.append(int(folder) - 1)\n",
    "\n",
    "print(\"done\")"
   ]
  },
  {
   "cell_type": "code",
   "execution_count": 4,
   "metadata": {},
   "outputs": [],
   "source": [
    "x_data = imgs.copy() * 2\n",
    "y_data = labels.copy() * 2\n",
    "\n",
    "x_train, x_test, y_train, y_test = train_test_split(x_data, y_data, test_size=0.2)\n",
    "\n",
    "x_train = torch.tensor(np.array(x_train), dtype=torch.float32)\n",
    "x_train = torch.permute(x_train, [0, 3, 1, 2])\n",
    "y_train = torch.tensor(np.array(y_train), dtype=torch.int64)\n",
    "\n",
    "x_test = torch.tensor(np.array(x_test), dtype=torch.float32)\n",
    "x_test = torch.permute(x_test, [0, 3, 1, 2])\n",
    "y_test = torch.tensor(np.array(y_test), dtype=torch.int64)\n",
    "\n",
    "assert x_train.shape[0] == y_train.shape[0]"
   ]
  },
  {
   "cell_type": "code",
   "execution_count": 5,
   "metadata": {},
   "outputs": [],
   "source": [
    "class Model(BaseModel):\n",
    "    def __init__(self, *args, **kwargs):\n",
    "        super().__init__(*args, **kwargs)\n",
    "        self.pool = torch.nn.MaxPool2d(2)\n",
    "        self.flat = torch.nn.Flatten()\n",
    "        self.relu = torch.nn.ReLU()\n",
    "        self.conv1 = None\n",
    "        self.conv2 = torch.nn.Conv2d(24, 16, 3)\n",
    "        self.conv3 = torch.nn.Conv2d(16, 12, 3)\n",
    "        self.linear1 = None\n",
    "        self.linear2 = torch.nn.Linear(64, 64)\n",
    "        self.linear3 = torch.nn.Linear(64, 40)\n",
    "    \n",
    "    def forward(self, input):\n",
    "        x = input\n",
    "        if self.conv1 is None:\n",
    "            self.conv1 = torch.nn.Conv2d(x.shape[1], 24, 3).to(x.device)\n",
    "        x = self.relu(self.pool(self.conv1(x)))\n",
    "        x = self.relu(self.pool(self.conv2(x)))\n",
    "        x = self.relu(self.pool(self.conv3(x)))\n",
    "        x = self.flat(x)\n",
    "        if self.linear1 is None:\n",
    "            self.linear1 = torch.nn.Linear(x.shape[1], 64).to(x.device)\n",
    "        x = self.relu(self.linear1(x))\n",
    "        x = self.relu(self.linear2(x))\n",
    "        x = self.linear3(x)\n",
    "        return x"
   ]
  },
  {
   "cell_type": "code",
   "execution_count": 6,
   "metadata": {},
   "outputs": [],
   "source": [
    "model = Model().to(device)\n",
    "opt = torch.optim.Adam(model.parameters())\n",
    "model.compile(opt, torch.nn.CrossEntropyLoss(), CategoryAccuracy(len(folders)), device)"
   ]
  },
  {
   "cell_type": "code",
   "execution_count": 7,
   "metadata": {},
   "outputs": [
    {
     "name": "stderr",
     "output_type": "stream",
     "text": [
      "Epoch 1/50: 100%|██████████| 80/80 [00:00<00:00, 115.84batch/s, loss=3.68, accuracy=0.0141]\n",
      "Epoch 2/50: 100%|██████████| 80/80 [00:01<00:00, 77.86batch/s, loss=3.68, accuracy=0.025]\n",
      "Epoch 3/50: 100%|██████████| 80/80 [00:00<00:00, 131.77batch/s, loss=3.77, accuracy=0.0203]\n",
      "Epoch 4/50: 100%|██████████| 80/80 [00:00<00:00, 117.24batch/s, loss=3.44, accuracy=0.0563]\n",
      "Epoch 5/50: 100%|██████████| 80/80 [00:00<00:00, 121.97batch/s, loss=2.92, accuracy=0.114]\n",
      "Epoch 6/50: 100%|██████████| 80/80 [00:00<00:00, 122.50batch/s, loss=2.31, accuracy=0.202]\n",
      "Epoch 7/50: 100%|██████████| 80/80 [00:00<00:00, 130.62batch/s, loss=2.11, accuracy=0.241]\n",
      "Epoch 8/50: 100%|██████████| 80/80 [00:00<00:00, 136.74batch/s, loss=2.77, accuracy=0.347]\n",
      "Epoch 9/50: 100%|██████████| 80/80 [00:00<00:00, 121.76batch/s, loss=2.34, accuracy=0.4]\n",
      "Epoch 10/50: 100%|██████████| 80/80 [00:00<00:00, 134.46batch/s, loss=1.78, accuracy=0.436]\n",
      "Epoch 11/50: 100%|██████████| 80/80 [00:00<00:00, 137.53batch/s, loss=1.18, accuracy=0.434]\n",
      "Epoch 12/50: 100%|██████████| 80/80 [00:00<00:00, 145.92batch/s, loss=2.51, accuracy=0.472]\n",
      "Epoch 13/50: 100%|██████████| 80/80 [00:00<00:00, 132.72batch/s, loss=1.41, accuracy=0.478]\n",
      "Epoch 14/50: 100%|██████████| 80/80 [00:00<00:00, 146.45batch/s, loss=1.19, accuracy=0.505]\n",
      "Epoch 15/50: 100%|██████████| 80/80 [00:00<00:00, 134.21batch/s, loss=0.789, accuracy=0.562]\n",
      "Epoch 16/50: 100%|██████████| 80/80 [00:00<00:00, 140.92batch/s, loss=1.54, accuracy=0.583]\n",
      "Epoch 17/50: 100%|██████████| 80/80 [00:00<00:00, 127.70batch/s, loss=1.67, accuracy=0.6]\n",
      "Epoch 18/50: 100%|██████████| 80/80 [00:00<00:00, 136.06batch/s, loss=1.29, accuracy=0.608]\n",
      "Epoch 19/50: 100%|██████████| 80/80 [00:00<00:00, 144.88batch/s, loss=0.834, accuracy=0.662]\n",
      "Epoch 20/50: 100%|██████████| 80/80 [00:00<00:00, 124.06batch/s, loss=0.651, accuracy=0.655]\n",
      "Epoch 21/50: 100%|██████████| 80/80 [00:00<00:00, 130.07batch/s, loss=1, accuracy=0.697]\n",
      "Epoch 22/50: 100%|██████████| 80/80 [00:00<00:00, 127.69batch/s, loss=1.03, accuracy=0.716]\n",
      "Epoch 23/50: 100%|██████████| 80/80 [00:00<00:00, 132.16batch/s, loss=1.04, accuracy=0.745]\n",
      "Epoch 24/50: 100%|██████████| 80/80 [00:00<00:00, 131.61batch/s, loss=1.03, accuracy=0.756]\n",
      "Epoch 25/50: 100%|██████████| 80/80 [00:00<00:00, 138.60batch/s, loss=0.803, accuracy=0.764]\n",
      "Epoch 26/50: 100%|██████████| 80/80 [00:00<00:00, 120.53batch/s, loss=0.753, accuracy=0.797]\n",
      "Epoch 27/50: 100%|██████████| 80/80 [00:00<00:00, 132.32batch/s, loss=1.55, accuracy=0.789]\n",
      "Epoch 28/50: 100%|██████████| 80/80 [00:00<00:00, 130.07batch/s, loss=0.94, accuracy=0.808]\n",
      "Epoch 29/50: 100%|██████████| 80/80 [00:00<00:00, 126.77batch/s, loss=0.604, accuracy=0.794]\n",
      "Epoch 30/50: 100%|██████████| 80/80 [00:00<00:00, 131.98batch/s, loss=0.617, accuracy=0.844]\n",
      "Epoch 31/50: 100%|██████████| 80/80 [00:00<00:00, 137.65batch/s, loss=0.194, accuracy=0.833]\n",
      "Epoch 32/50: 100%|██████████| 80/80 [00:00<00:00, 120.93batch/s, loss=0.855, accuracy=0.858]\n",
      "Epoch 33/50: 100%|██████████| 80/80 [00:00<00:00, 136.95batch/s, loss=0.502, accuracy=0.861]\n",
      "Epoch 34/50: 100%|██████████| 80/80 [00:00<00:00, 131.55batch/s, loss=0.203, accuracy=0.873]\n",
      "Epoch 35/50: 100%|██████████| 80/80 [00:00<00:00, 124.52batch/s, loss=0.671, accuracy=0.869]\n",
      "Epoch 36/50: 100%|██████████| 80/80 [00:00<00:00, 130.72batch/s, loss=0.262, accuracy=0.892]\n",
      "Epoch 37/50: 100%|██████████| 80/80 [00:00<00:00, 113.25batch/s, loss=0.417, accuracy=0.883]\n",
      "Epoch 38/50: 100%|██████████| 80/80 [00:00<00:00, 127.28batch/s, loss=0.285, accuracy=0.903]\n",
      "Epoch 39/50: 100%|██████████| 80/80 [00:00<00:00, 127.31batch/s, loss=0.4, accuracy=0.897]\n",
      "Epoch 40/50: 100%|██████████| 80/80 [00:00<00:00, 131.96batch/s, loss=0.474, accuracy=0.898]\n",
      "Epoch 41/50: 100%|██████████| 80/80 [00:00<00:00, 126.06batch/s, loss=1.07, accuracy=0.895]\n",
      "Epoch 42/50: 100%|██████████| 80/80 [00:00<00:00, 141.28batch/s, loss=0.0322, accuracy=0.911]\n",
      "Epoch 43/50: 100%|██████████| 80/80 [00:00<00:00, 133.70batch/s, loss=0.467, accuracy=0.92]\n",
      "Epoch 44/50: 100%|██████████| 80/80 [00:00<00:00, 137.74batch/s, loss=0.504, accuracy=0.927]\n",
      "Epoch 45/50: 100%|██████████| 80/80 [00:00<00:00, 133.66batch/s, loss=0.0748, accuracy=0.928]\n",
      "Epoch 46/50: 100%|██████████| 80/80 [00:00<00:00, 137.42batch/s, loss=0.213, accuracy=0.931]\n",
      "Epoch 47/50: 100%|██████████| 80/80 [00:00<00:00, 136.57batch/s, loss=0.775, accuracy=0.939]\n",
      "Epoch 48/50: 100%|██████████| 80/80 [00:00<00:00, 146.19batch/s, loss=0.232, accuracy=0.934]\n",
      "Epoch 49/50: 100%|██████████| 80/80 [00:00<00:00, 123.63batch/s, loss=0.0774, accuracy=0.944]\n",
      "Epoch 50/50: 100%|██████████| 80/80 [00:00<00:00, 145.01batch/s, loss=0.277, accuracy=0.952]\n"
     ]
    }
   ],
   "source": [
    "history = model.fit(x_train, y_train, 8, 50)"
   ]
  },
  {
   "cell_type": "code",
   "execution_count": 8,
   "metadata": {},
   "outputs": [
    {
     "name": "stdout",
     "output_type": "stream",
     "text": [
      "Accuracy of clean data : 0.9\n",
      "Accuracy of adversarial data : 0.36875\n"
     ]
    }
   ],
   "source": [
    "print(\"Accuracy of clean data : {}\".format(model.evaluate(x_test, y_test)))\n",
    "\n",
    "adv_x = FGSM(model, x_test, y_test)\n",
    "print(\"Accuracy of adversarial data : {}\".format(model.evaluate(adv_x, y_test)))"
   ]
  },
  {
   "cell_type": "code",
   "execution_count": 9,
   "metadata": {},
   "outputs": [],
   "source": [
    "torch.save(model, \"base_model.pt\")"
   ]
  },
  {
   "cell_type": "code",
   "execution_count": 10,
   "metadata": {},
   "outputs": [],
   "source": [
    "class AdversarialModel(BaseModel):\n",
    "    def __init__(self, base_model, FGSM):\n",
    "        super().__init__()\n",
    "        self.base_model = base_model\n",
    "        self.fgsm = FGSM\n",
    "\n",
    "    def forward(self, inputs):\n",
    "        if self.training:\n",
    "            x, y = inputs \n",
    "            adv_x = self.fgsm(self.base_model, x, y)  \n",
    "            clean_preds = self.base_model(x)\n",
    "            adv_preds = self.base_model(adv_x)\n",
    "            return (clean_preds, adv_preds)\n",
    "        else:\n",
    "            try:\n",
    "                x, _ = inputs\n",
    "            except:\n",
    "                x = inputs \n",
    "            return self.base_model(x)"
   ]
  },
  {
   "cell_type": "code",
   "execution_count": 11,
   "metadata": {},
   "outputs": [],
   "source": [
    "class AdversarialLoss(torch.nn.Module):\n",
    "    def __init__(self, alpha):\n",
    "        super().__init__()\n",
    "        self.loss_func = torch.nn.CrossEntropyLoss()\n",
    "        self.alpha = alpha\n",
    "\n",
    "    def forward(self, y_pred, y_true):\n",
    "        clean_preds, adv_preds = y_pred\n",
    "        loss_clean = self.loss_func(clean_preds, y_true)\n",
    "        loss_adv = self.loss_func(adv_preds, y_true)\n",
    "        return self.alpha * loss_clean + (1-self.alpha) * loss_adv"
   ]
  },
  {
   "cell_type": "code",
   "execution_count": null,
   "metadata": {},
   "outputs": [],
   "source": [
    "model_adv = AdversarialModel(torch.load(\"base_model.pt\"), FGSM).to(device)\n",
    "opt_adv = torch.optim.Adam(model_adv.parameters())\n",
    "model_adv.compile(opt_adv, AdversarialLoss(0.5), CategoryAccuracy(len(folders)), device=device)"
   ]
  },
  {
   "cell_type": "code",
   "execution_count": 13,
   "metadata": {},
   "outputs": [
    {
     "name": "stderr",
     "output_type": "stream",
     "text": [
      "Epoch 1/50: 100%|██████████| 80/80 [00:01<00:00, 70.12batch/s, loss=0.587, accuracy=0.858]\n",
      "Epoch 2/50: 100%|██████████| 80/80 [00:01<00:00, 69.66batch/s, loss=0.603, accuracy=0.908]\n",
      "Epoch 3/50: 100%|██████████| 80/80 [00:01<00:00, 63.72batch/s, loss=0.632, accuracy=0.887]\n",
      "Epoch 4/50: 100%|██████████| 80/80 [00:01<00:00, 70.46batch/s, loss=1.33, accuracy=0.894]\n",
      "Epoch 5/50: 100%|██████████| 80/80 [00:01<00:00, 57.65batch/s, loss=1.25, accuracy=0.919]\n",
      "Epoch 6/50: 100%|██████████| 80/80 [00:01<00:00, 58.52batch/s, loss=0.913, accuracy=0.923]\n",
      "Epoch 7/50: 100%|██████████| 80/80 [00:01<00:00, 63.87batch/s, loss=0.553, accuracy=0.927]\n",
      "Epoch 8/50: 100%|██████████| 80/80 [00:01<00:00, 62.82batch/s, loss=0.427, accuracy=0.919]\n",
      "Epoch 9/50: 100%|██████████| 80/80 [00:01<00:00, 63.85batch/s, loss=0.761, accuracy=0.917]\n",
      "Epoch 10/50: 100%|██████████| 80/80 [00:01<00:00, 55.88batch/s, loss=0.534, accuracy=0.928]\n",
      "Epoch 11/50: 100%|██████████| 80/80 [00:01<00:00, 60.36batch/s, loss=0.929, accuracy=0.942]\n",
      "Epoch 12/50: 100%|██████████| 80/80 [00:01<00:00, 56.94batch/s, loss=0.328, accuracy=0.952]\n",
      "Epoch 13/50: 100%|██████████| 80/80 [00:01<00:00, 58.14batch/s, loss=0.752, accuracy=0.939]\n",
      "Epoch 14/50: 100%|██████████| 80/80 [00:01<00:00, 61.33batch/s, loss=0.272, accuracy=0.952]\n",
      "Epoch 15/50: 100%|██████████| 80/80 [00:01<00:00, 55.02batch/s, loss=0.731, accuracy=0.95]\n",
      "Epoch 16/50: 100%|██████████| 80/80 [00:01<00:00, 58.62batch/s, loss=0.53, accuracy=0.956]\n",
      "Epoch 17/50: 100%|██████████| 80/80 [00:01<00:00, 59.34batch/s, loss=0.802, accuracy=0.938]\n",
      "Epoch 18/50: 100%|██████████| 80/80 [00:01<00:00, 57.72batch/s, loss=0.879, accuracy=0.956]\n",
      "Epoch 19/50: 100%|██████████| 80/80 [00:01<00:00, 60.03batch/s, loss=0.731, accuracy=0.952]\n",
      "Epoch 20/50: 100%|██████████| 80/80 [00:01<00:00, 59.28batch/s, loss=0.474, accuracy=0.953]\n",
      "Epoch 21/50: 100%|██████████| 80/80 [00:01<00:00, 61.62batch/s, loss=0.629, accuracy=0.969]\n",
      "Epoch 22/50: 100%|██████████| 80/80 [00:01<00:00, 60.61batch/s, loss=0.475, accuracy=0.963]\n",
      "Epoch 23/50: 100%|██████████| 80/80 [00:01<00:00, 60.18batch/s, loss=0.114, accuracy=0.97]\n",
      "Epoch 24/50: 100%|██████████| 80/80 [00:01<00:00, 57.36batch/s, loss=0.714, accuracy=0.964]\n",
      "Epoch 25/50: 100%|██████████| 80/80 [00:01<00:00, 59.76batch/s, loss=0.592, accuracy=0.972]\n",
      "Epoch 26/50: 100%|██████████| 80/80 [00:01<00:00, 61.29batch/s, loss=0.194, accuracy=0.977]\n",
      "Epoch 27/50: 100%|██████████| 80/80 [00:01<00:00, 59.61batch/s, loss=0.633, accuracy=0.959]\n",
      "Epoch 28/50: 100%|██████████| 80/80 [00:01<00:00, 53.48batch/s, loss=0.385, accuracy=0.97]\n",
      "Epoch 29/50: 100%|██████████| 80/80 [00:01<00:00, 52.36batch/s, loss=0.246, accuracy=0.98]\n",
      "Epoch 30/50: 100%|██████████| 80/80 [00:01<00:00, 53.94batch/s, loss=0.772, accuracy=0.975]\n",
      "Epoch 31/50: 100%|██████████| 80/80 [00:01<00:00, 48.95batch/s, loss=0.524, accuracy=0.978]\n",
      "Epoch 32/50: 100%|██████████| 80/80 [00:01<00:00, 50.34batch/s, loss=0.113, accuracy=0.97]\n",
      "Epoch 33/50: 100%|██████████| 80/80 [00:01<00:00, 49.76batch/s, loss=0.0488, accuracy=0.986]\n",
      "Epoch 34/50: 100%|██████████| 80/80 [00:01<00:00, 50.28batch/s, loss=0.207, accuracy=0.988]\n",
      "Epoch 35/50: 100%|██████████| 80/80 [00:01<00:00, 48.87batch/s, loss=0.351, accuracy=0.989]\n",
      "Epoch 36/50: 100%|██████████| 80/80 [00:01<00:00, 48.09batch/s, loss=0.579, accuracy=0.98]\n",
      "Epoch 37/50: 100%|██████████| 80/80 [00:01<00:00, 49.77batch/s, loss=0.351, accuracy=0.984]\n",
      "Epoch 38/50: 100%|██████████| 80/80 [00:01<00:00, 48.45batch/s, loss=0.27, accuracy=0.983]\n",
      "Epoch 39/50: 100%|██████████| 80/80 [00:01<00:00, 48.66batch/s, loss=0.955, accuracy=0.991]\n",
      "Epoch 40/50: 100%|██████████| 80/80 [00:01<00:00, 49.17batch/s, loss=0.219, accuracy=0.98]\n",
      "Epoch 41/50: 100%|██████████| 80/80 [00:01<00:00, 50.46batch/s, loss=0.449, accuracy=0.989]\n",
      "Epoch 42/50: 100%|██████████| 80/80 [00:01<00:00, 49.08batch/s, loss=0.2, accuracy=0.989]\n",
      "Epoch 43/50: 100%|██████████| 80/80 [00:01<00:00, 49.37batch/s, loss=0.0243, accuracy=0.995]\n",
      "Epoch 44/50: 100%|██████████| 80/80 [00:01<00:00, 50.19batch/s, loss=0.147, accuracy=0.994]\n",
      "Epoch 45/50: 100%|██████████| 80/80 [00:01<00:00, 53.26batch/s, loss=0.202, accuracy=0.989]\n",
      "Epoch 46/50: 100%|██████████| 80/80 [00:01<00:00, 50.94batch/s, loss=0.323, accuracy=0.989]\n",
      "Epoch 47/50: 100%|██████████| 80/80 [00:01<00:00, 53.50batch/s, loss=0.0777, accuracy=0.994]\n",
      "Epoch 48/50: 100%|██████████| 80/80 [00:01<00:00, 51.00batch/s, loss=0.0932, accuracy=0.995]\n",
      "Epoch 49/50: 100%|██████████| 80/80 [00:01<00:00, 50.88batch/s, loss=0.385, accuracy=0.994]\n",
      "Epoch 50/50: 100%|██████████| 80/80 [00:01<00:00, 52.96batch/s, loss=0.239, accuracy=0.995]\n"
     ]
    }
   ],
   "source": [
    "history_adv = model_adv.fit((x_train, y_train), y_train, 8, 50)"
   ]
  },
  {
   "cell_type": "code",
   "execution_count": 14,
   "metadata": {},
   "outputs": [
    {
     "name": "stdout",
     "output_type": "stream",
     "text": [
      "Accuracy of clean data : 0.95625\n",
      "Accuracy of adversarial data : 0.85625\n"
     ]
    }
   ],
   "source": [
    "print(\"Accuracy of clean data : {}\".format(model_adv.evaluate(x_test, y_test)))\n",
    "\n",
    "adv_x = FGSM(model_adv, x_test, y_test)\n",
    "print(\"Accuracy of adversarial data : {}\".format(model_adv.evaluate(adv_x, y_test)))"
   ]
  },
  {
   "cell_type": "code",
   "execution_count": 15,
   "metadata": {},
   "outputs": [],
   "source": [
    "def display_images(img, adv_img, model, model_adv):\n",
    "    model.eval()\n",
    "    model_adv.eval()\n",
    "    fig, axes = plt.subplots(2, 2)\n",
    "    epsilons = [0, eps]\n",
    "    descriptions = ['Epsilon = {:0.3f}'.format(eps) for eps in epsilons]\n",
    "    for i in range(2):\n",
    "        for j in range(2):\n",
    "            description = \"Origin Model, \" + descriptions[i] if j == 0 else \"Adv Model, \" + descriptions[i]\n",
    "            if i == 0:\n",
    "                pred = model(img) if j == 0 else model_adv(img)\n",
    "                label = torch.argmax(pred, -1).item()\n",
    "                confidence = torch.softmax(pred, -1)[0, label]\n",
    "                axes[i, j].imshow(cv2.cvtColor(torch.permute(img, [0, 2, 3, 1])[0].detach().numpy(), cv2.COLOR_BGR2RGB))\n",
    "                axes[i, j].set_title('{} \\n {} : {:.2f}% Confidence'.format(description, label, confidence*100))\n",
    "                axes[i, j].axis('off')\n",
    "            else:\n",
    "                pred = model(adv_img[0]) if j == 0 else model_adv(adv_img[1])\n",
    "                label = torch.argmax(pred, -1).item()\n",
    "                confidence = torch.softmax(pred, -1)[0, label]\n",
    "                axes[i, j].imshow(cv2.cvtColor(torch.permute(adv_img[j], [0, 2, 3, 1])[0].detach().numpy(), cv2.COLOR_BGR2RGB))\n",
    "                axes[i, j].set_title('{} \\n {} : {:.2f}% Confidence'.format(description, label, confidence*100))\n",
    "                axes[i, j].axis('off')\n",
    "    plt.tight_layout()\n",
    "    plt.show()"
   ]
  },
  {
   "cell_type": "code",
   "execution_count": 16,
   "metadata": {},
   "outputs": [
    {
     "name": "stdout",
     "output_type": "stream",
     "text": [
      "True Label : 18\n"
     ]
    },
    {
     "data": {
      "image/png": "[encoded data removed]",
      "text/plain": [
       "<Figure size 640x480 with 4 Axes>"
      ]
     },
     "metadata": {},
     "output_type": "display_data"
    }
   ],
   "source": [
    "model.eval()\n",
    "model_adv.eval()\n",
    "adv_x1 = FGSM(model, x_test, y_test)\n",
    "adv_x2 = FGSM(model_adv, x_test, y_test)\n",
    "\n",
    "for i in range(x_test.shape[0]):\n",
    "    img = x_test[i:i+1]\n",
    "    label = y_test[i:i+1]\n",
    "    if(torch.argmax(model(img), -1)[0] == label):\n",
    "        adv_x = [adv_x1[i:i+1], adv_x2[i:i+1]]\n",
    "        if(torch.argmax(model(img), -1)[0] != torch.argmax(model(adv_x[0]), -1)[0]):\n",
    "            if(torch.argmax(model_adv(img), -1)[0] == torch.argmax(model_adv(adv_x[1]), -1)[0]):\n",
    "                print(\"True Label : {}\".format(label.item()))\n",
    "                display_images(img, adv_x, model, model_adv)\n",
    "                break\n"
   ]
  }
 ],
 "metadata": {
  "kernelspec": {
   "display_name": "pytorch",
   "language": "python",
   "name": "python3"
  },
  "language_info": {
   "codemirror_mode": {
    "name": "ipython",
    "version": 3
   },
   "file_extension": ".py",
   "mimetype": "text/x-python",
   "name": "python",
   "nbconvert_exporter": "python",
   "pygments_lexer": "ipython3",
   "version": "3.12.8"
  }
 },
 "nbformat": 4,
 "nbformat_minor": 2
}
