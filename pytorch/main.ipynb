{
 "cells": [
  {
   "cell_type": "code",
   "execution_count": 1,
   "metadata": {},
   "outputs": [
    {
     "name": "stdout",
     "output_type": "stream",
     "text": [
      "Using cpu device\n"
     ]
    }
   ],
   "source": [
    "import torch\n",
    "import numpy as np\n",
    "from sklearn.model_selection import train_test_split\n",
    "import cv2\n",
    "import os\n",
    "import matplotlib.pyplot as plt\n",
    "from utils.model import BaseModel\n",
    "from utils.metrics import CategoryAccuracy\n",
    "\n",
    "device = \"cuda\" if torch.cuda.is_available() else \"cpu\"   \n",
    "print(f\"Using {device} device\")"
   ]
  },
  {
   "cell_type": "code",
   "execution_count": 2,
   "metadata": {},
   "outputs": [],
   "source": [
    "eps = 0.01\n",
    "\n",
    "def FGSM(model, x, y, loss_func = torch.nn.CrossEntropyLoss(), epsilon = eps):\n",
    "    model.eval()\n",
    "    x.requires_grad = True\n",
    "    pred = model(x)\n",
    "    loss = loss_func(pred, y)\n",
    "    loss.backward()\n",
    "    signed_grad = torch.sign(x.grad)\n",
    "    adv_x = x + epsilon * signed_grad\n",
    "    adv_x = torch.clamp(adv_x, 0.0, 1.0)\n",
    "    return adv_x"
   ]
  },
  {
   "cell_type": "code",
   "execution_count": 3,
   "metadata": {},
   "outputs": [
    {
     "name": "stdout",
     "output_type": "stream",
     "text": [
      "done\n"
     ]
    }
   ],
   "source": [
    "path = \"../ORL3232/\"\n",
    "folders = sorted(os.listdir(path)[:-1], key = lambda x : int(x))\n",
    "\n",
    "imgs = []\n",
    "labels = []\n",
    "\n",
    "for folder in folders:\n",
    "    p = path + folder + '/'\n",
    "    files = os.listdir(p)\n",
    "    files = [p+x for x in files if x.endswith(\".bmp\")]\n",
    "    for file in files:\n",
    "        img = cv2.imread(file, 0) / 255.0\n",
    "        imgs.append(np.reshape(img, [32, 32, 1]))\n",
    "        labels.append(int(folder) - 1)\n",
    "\n",
    "print(\"done\")"
   ]
  },
  {
   "cell_type": "code",
   "execution_count": 4,
   "metadata": {},
   "outputs": [],
   "source": [
    "x_data = imgs.copy() * 2\n",
    "y_data = labels.copy() * 2\n",
    "\n",
    "x_train, x_test, y_train, y_test = train_test_split(x_data, y_data, test_size=0.2)\n",
    "\n",
    "x_train = torch.tensor(np.array(x_train), dtype=torch.float32)\n",
    "x_train = torch.permute(x_train, [0, 3, 1, 2])\n",
    "y_train = torch.tensor(np.array(y_train), dtype=torch.int64)\n",
    "\n",
    "x_test = torch.tensor(np.array(x_test), dtype=torch.float32)\n",
    "x_test = torch.permute(x_test, [0, 3, 1, 2])\n",
    "y_test = torch.tensor(np.array(y_test), dtype=torch.int64)\n",
    "\n",
    "assert x_train.shape[0] == y_train.shape[0]"
   ]
  },
  {
   "cell_type": "code",
   "execution_count": 5,
   "metadata": {},
   "outputs": [],
   "source": [
    "class Model(BaseModel):\n",
    "    def __init__(self, *args, **kwargs):\n",
    "        super().__init__(*args, **kwargs)\n",
    "        self.pool = torch.nn.MaxPool2d(2)\n",
    "        self.flat = torch.nn.Flatten()\n",
    "        self.relu = torch.nn.ReLU()\n",
    "        self.conv1 = None\n",
    "        self.conv2 = torch.nn.Conv2d(24, 16, 3)\n",
    "        self.conv3 = torch.nn.Conv2d(16, 12, 3)\n",
    "        self.linear1 = None\n",
    "        self.linear2 = torch.nn.Linear(64, 64)\n",
    "        self.linear3 = torch.nn.Linear(64, 40)\n",
    "    \n",
    "    def forward(self, input):\n",
    "        x = input\n",
    "        if self.conv1 is None:\n",
    "            self.conv1 = torch.nn.Conv2d(x.shape[1], 24, 3).to(x.device)\n",
    "        x = self.relu(self.pool(self.conv1(x)))\n",
    "        x = self.relu(self.pool(self.conv2(x)))\n",
    "        x = self.relu(self.pool(self.conv3(x)))\n",
    "        x = self.flat(x)\n",
    "        if self.linear1 is None:\n",
    "            self.linear1 = torch.nn.Linear(x.shape[1], 64).to(x.device)\n",
    "        x = self.relu(self.linear1(x))\n",
    "        x = self.relu(self.linear2(x))\n",
    "        x = self.linear3(x)\n",
    "        return x"
   ]
  },
  {
   "cell_type": "code",
   "execution_count": 6,
   "metadata": {},
   "outputs": [],
   "source": [
    "model = Model().to(device)\n",
    "opt = torch.optim.Adam(model.parameters())\n",
    "model.compile(opt, torch.nn.CrossEntropyLoss(), CategoryAccuracy(len(folders)), device)"
   ]
  },
  {
   "cell_type": "code",
   "execution_count": 7,
   "metadata": {},
   "outputs": [
    {
     "name": "stderr",
     "output_type": "stream",
     "text": [
      "Epoch 1/50: 100%|██████████| 80/80 [00:00<00:00, 133.28batch/s, loss=3.67, accuracy=0.0281]\n",
      "Epoch 2/50: 100%|██████████| 80/80 [00:00<00:00, 134.70batch/s, loss=3.66, accuracy=0.0234]\n",
      "Epoch 3/50: 100%|██████████| 80/80 [00:00<00:00, 135.10batch/s, loss=3.67, accuracy=0.0297]\n",
      "Epoch 4/50: 100%|██████████| 80/80 [00:00<00:00, 125.78batch/s, loss=3.56, accuracy=0.075]\n",
      "Epoch 5/50: 100%|██████████| 80/80 [00:00<00:00, 125.84batch/s, loss=2.72, accuracy=0.148]\n",
      "Epoch 6/50: 100%|██████████| 80/80 [00:00<00:00, 132.70batch/s, loss=2.19, accuracy=0.247]\n",
      "Epoch 7/50: 100%|██████████| 80/80 [00:00<00:00, 136.53batch/s, loss=2.17, accuracy=0.306]\n",
      "Epoch 8/50: 100%|██████████| 80/80 [00:00<00:00, 137.07batch/s, loss=1.4, accuracy=0.35]\n",
      "Epoch 9/50: 100%|██████████| 80/80 [00:00<00:00, 123.15batch/s, loss=2.11, accuracy=0.38]\n",
      "Epoch 10/50: 100%|██████████| 80/80 [00:00<00:00, 137.15batch/s, loss=1.72, accuracy=0.423]\n",
      "Epoch 11/50: 100%|██████████| 80/80 [00:00<00:00, 125.95batch/s, loss=1.46, accuracy=0.43]\n",
      "Epoch 12/50: 100%|██████████| 80/80 [00:00<00:00, 131.64batch/s, loss=1.34, accuracy=0.47]\n",
      "Epoch 13/50: 100%|██████████| 80/80 [00:00<00:00, 118.96batch/s, loss=1.42, accuracy=0.506]\n",
      "Epoch 14/50: 100%|██████████| 80/80 [00:00<00:00, 130.36batch/s, loss=1.65, accuracy=0.533]\n",
      "Epoch 15/50: 100%|██████████| 80/80 [00:00<00:00, 125.50batch/s, loss=0.81, accuracy=0.559]\n",
      "Epoch 16/50: 100%|██████████| 80/80 [00:00<00:00, 117.78batch/s, loss=1.89, accuracy=0.613]\n",
      "Epoch 17/50: 100%|██████████| 80/80 [00:00<00:00, 128.16batch/s, loss=1.71, accuracy=0.623]\n",
      "Epoch 18/50: 100%|██████████| 80/80 [00:00<00:00, 131.96batch/s, loss=0.525, accuracy=0.656]\n",
      "Epoch 19/50: 100%|██████████| 80/80 [00:00<00:00, 131.02batch/s, loss=1.05, accuracy=0.655]\n",
      "Epoch 20/50: 100%|██████████| 80/80 [00:00<00:00, 114.32batch/s, loss=1.13, accuracy=0.672]\n",
      "Epoch 21/50: 100%|██████████| 80/80 [00:00<00:00, 129.28batch/s, loss=1.46, accuracy=0.689]\n",
      "Epoch 22/50: 100%|██████████| 80/80 [00:00<00:00, 119.64batch/s, loss=0.975, accuracy=0.736]\n",
      "Epoch 23/50: 100%|██████████| 80/80 [00:00<00:00, 131.42batch/s, loss=0.648, accuracy=0.75]\n",
      "Epoch 24/50: 100%|██████████| 80/80 [00:00<00:00, 117.55batch/s, loss=1.4, accuracy=0.758]\n",
      "Epoch 25/50: 100%|██████████| 80/80 [00:00<00:00, 131.27batch/s, loss=1.14, accuracy=0.777]\n",
      "Epoch 26/50: 100%|██████████| 80/80 [00:00<00:00, 124.44batch/s, loss=1, accuracy=0.778]\n",
      "Epoch 27/50: 100%|██████████| 80/80 [00:00<00:00, 114.84batch/s, loss=0.584, accuracy=0.8]\n",
      "Epoch 28/50: 100%|██████████| 80/80 [00:00<00:00, 122.36batch/s, loss=0.354, accuracy=0.802]\n",
      "Epoch 29/50: 100%|██████████| 80/80 [00:00<00:00, 115.54batch/s, loss=0.456, accuracy=0.811]\n",
      "Epoch 30/50: 100%|██████████| 80/80 [00:00<00:00, 122.59batch/s, loss=1.04, accuracy=0.836]\n",
      "Epoch 31/50: 100%|██████████| 80/80 [00:00<00:00, 118.54batch/s, loss=0.671, accuracy=0.847]\n",
      "Epoch 32/50: 100%|██████████| 80/80 [00:00<00:00, 126.77batch/s, loss=0.257, accuracy=0.856]\n",
      "Epoch 33/50: 100%|██████████| 80/80 [00:00<00:00, 116.14batch/s, loss=0.622, accuracy=0.891]\n",
      "Epoch 34/50: 100%|██████████| 80/80 [00:00<00:00, 119.96batch/s, loss=1.15, accuracy=0.853]\n",
      "Epoch 35/50: 100%|██████████| 80/80 [00:00<00:00, 133.77batch/s, loss=1.01, accuracy=0.88]\n",
      "Epoch 36/50: 100%|██████████| 80/80 [00:00<00:00, 116.27batch/s, loss=0.488, accuracy=0.889]\n",
      "Epoch 37/50: 100%|██████████| 80/80 [00:00<00:00, 130.89batch/s, loss=0.409, accuracy=0.889]\n",
      "Epoch 38/50: 100%|██████████| 80/80 [00:00<00:00, 124.15batch/s, loss=0.174, accuracy=0.898]\n",
      "Epoch 39/50: 100%|██████████| 80/80 [00:00<00:00, 122.95batch/s, loss=0.511, accuracy=0.925]\n",
      "Epoch 40/50: 100%|██████████| 80/80 [00:00<00:00, 128.31batch/s, loss=0.168, accuracy=0.925]\n",
      "Epoch 41/50: 100%|██████████| 80/80 [00:00<00:00, 132.88batch/s, loss=0.129, accuracy=0.914]\n",
      "Epoch 42/50: 100%|██████████| 80/80 [00:00<00:00, 117.54batch/s, loss=0.302, accuracy=0.917]\n",
      "Epoch 43/50: 100%|██████████| 80/80 [00:00<00:00, 132.93batch/s, loss=0.35, accuracy=0.922]\n",
      "Epoch 44/50: 100%|██████████| 80/80 [00:00<00:00, 120.90batch/s, loss=0.57, accuracy=0.919]\n",
      "Epoch 45/50: 100%|██████████| 80/80 [00:00<00:00, 120.12batch/s, loss=0.467, accuracy=0.936]\n",
      "Epoch 46/50: 100%|██████████| 80/80 [00:00<00:00, 138.34batch/s, loss=0.583, accuracy=0.939]\n",
      "Epoch 47/50: 100%|██████████| 80/80 [00:00<00:00, 116.29batch/s, loss=0.0364, accuracy=0.927]\n",
      "Epoch 48/50: 100%|██████████| 80/80 [00:00<00:00, 135.57batch/s, loss=0.301, accuracy=0.941]\n",
      "Epoch 49/50: 100%|██████████| 80/80 [00:00<00:00, 130.97batch/s, loss=0.485, accuracy=0.952]\n",
      "Epoch 50/50: 100%|██████████| 80/80 [00:00<00:00, 130.64batch/s, loss=0.0811, accuracy=0.945]\n"
     ]
    }
   ],
   "source": [
    "history = model.fit(x_train, y_train, 8, 50)"
   ]
  },
  {
   "cell_type": "code",
   "execution_count": 8,
   "metadata": {},
   "outputs": [
    {
     "name": "stdout",
     "output_type": "stream",
     "text": [
      "Accuracy of clean data : 0.9\n",
      "Accuracy of adversarial data : 0.38125\n"
     ]
    }
   ],
   "source": [
    "print(\"Accuracy of clean data : {}\".format(model.evaluate(x_test, y_test)))\n",
    "\n",
    "adv_x = FGSM(model, x_test, y_test)\n",
    "print(\"Accuracy of adversarial data : {}\".format(model.evaluate(adv_x, y_test)))"
   ]
  },
  {
   "cell_type": "code",
   "execution_count": 9,
   "metadata": {},
   "outputs": [],
   "source": [
    "torch.save(model, \"base_model.pt\")"
   ]
  },
  {
   "cell_type": "code",
   "execution_count": 10,
   "metadata": {},
   "outputs": [],
   "source": [
    "class AdversarialModel(BaseModel):\n",
    "    def __init__(self, base_model, FGSM):\n",
    "        super().__init__()\n",
    "        self.base_model = base_model\n",
    "        self.fgsm = FGSM\n",
    "\n",
    "    def forward(self, inputs):\n",
    "        if self.training:\n",
    "            x, y = inputs \n",
    "            adv_x = self.fgsm(self.base_model, x, y)  \n",
    "            clean_preds = self.base_model(x)\n",
    "            adv_preds = self.base_model(adv_x)\n",
    "            return (clean_preds, adv_preds)\n",
    "        else:\n",
    "            try:\n",
    "                x, _ = inputs\n",
    "            except:\n",
    "                x = inputs \n",
    "            return self.base_model(x)"
   ]
  },
  {
   "cell_type": "code",
   "execution_count": 11,
   "metadata": {},
   "outputs": [],
   "source": [
    "class AdversarialLoss(torch.nn.Module):\n",
    "    def __init__(self):\n",
    "        super().__init__()\n",
    "        self.loss_func = torch.nn.CrossEntropyLoss()\n",
    "\n",
    "    def forward(self, y_pred, y_true):\n",
    "        clean_preds, adv_preds = y_pred\n",
    "        loss_clean = self.loss_func(clean_preds, y_true)\n",
    "        loss_adv = self.loss_func(adv_preds, y_true)\n",
    "        return 0.5 * loss_clean + 0.5 * loss_adv"
   ]
  },
  {
   "cell_type": "code",
   "execution_count": null,
   "metadata": {},
   "outputs": [],
   "source": [
    "model_adv = AdversarialModel(torch.load(\"base_model.pt\"), FGSM).to(device)\n",
    "opt_adv = torch.optim.Adam(model_adv.parameters())\n",
    "model_adv.compile(opt_adv, AdversarialLoss(), CategoryAccuracy(len(folders)), device=device)"
   ]
  },
  {
   "cell_type": "code",
   "execution_count": 13,
   "metadata": {},
   "outputs": [
    {
     "name": "stderr",
     "output_type": "stream",
     "text": [
      "Epoch 1/50: 100%|██████████| 80/80 [00:01<00:00, 62.18batch/s, loss=0.707, accuracy=0.864]\n",
      "Epoch 2/50: 100%|██████████| 80/80 [00:01<00:00, 67.15batch/s, loss=0.774, accuracy=0.914]\n",
      "Epoch 3/50: 100%|██████████| 80/80 [00:01<00:00, 68.41batch/s, loss=1.71, accuracy=0.909]\n",
      "Epoch 4/50: 100%|██████████| 80/80 [00:01<00:00, 61.04batch/s, loss=0.532, accuracy=0.905]\n",
      "Epoch 5/50: 100%|██████████| 80/80 [00:01<00:00, 59.92batch/s, loss=1.29, accuracy=0.928]\n",
      "Epoch 6/50: 100%|██████████| 80/80 [00:01<00:00, 58.21batch/s, loss=0.509, accuracy=0.936]\n",
      "Epoch 7/50: 100%|██████████| 80/80 [00:01<00:00, 61.79batch/s, loss=0.903, accuracy=0.948]\n",
      "Epoch 8/50: 100%|██████████| 80/80 [00:01<00:00, 54.78batch/s, loss=0.596, accuracy=0.922]\n",
      "Epoch 9/50: 100%|██████████| 80/80 [00:01<00:00, 59.00batch/s, loss=0.525, accuracy=0.948]\n",
      "Epoch 10/50: 100%|██████████| 80/80 [00:01<00:00, 61.55batch/s, loss=1.29, accuracy=0.933]\n",
      "Epoch 11/50: 100%|██████████| 80/80 [00:01<00:00, 63.19batch/s, loss=1.77, accuracy=0.939]\n",
      "Epoch 12/50: 100%|██████████| 80/80 [00:01<00:00, 56.37batch/s, loss=0.491, accuracy=0.942]\n",
      "Epoch 13/50: 100%|██████████| 80/80 [00:01<00:00, 53.17batch/s, loss=0.333, accuracy=0.948]\n",
      "Epoch 14/50: 100%|██████████| 80/80 [00:01<00:00, 63.69batch/s, loss=0.348, accuracy=0.956]\n",
      "Epoch 15/50: 100%|██████████| 80/80 [00:01<00:00, 63.89batch/s, loss=0.514, accuracy=0.964]\n",
      "Epoch 16/50: 100%|██████████| 80/80 [00:01<00:00, 60.79batch/s, loss=0.611, accuracy=0.952]\n",
      "Epoch 17/50: 100%|██████████| 80/80 [00:01<00:00, 53.50batch/s, loss=0.415, accuracy=0.953]\n",
      "Epoch 18/50: 100%|██████████| 80/80 [00:01<00:00, 53.76batch/s, loss=0.452, accuracy=0.967]\n",
      "Epoch 19/50: 100%|██████████| 80/80 [00:01<00:00, 49.61batch/s, loss=0.704, accuracy=0.958]\n",
      "Epoch 20/50: 100%|██████████| 80/80 [00:01<00:00, 48.55batch/s, loss=0.671, accuracy=0.955]\n",
      "Epoch 21/50: 100%|██████████| 80/80 [00:01<00:00, 58.93batch/s, loss=0.607, accuracy=0.966]\n",
      "Epoch 22/50: 100%|██████████| 80/80 [00:01<00:00, 56.49batch/s, loss=0.636, accuracy=0.981]\n",
      "Epoch 23/50: 100%|██████████| 80/80 [00:01<00:00, 60.77batch/s, loss=0.26, accuracy=0.97]\n",
      "Epoch 24/50: 100%|██████████| 80/80 [00:01<00:00, 62.10batch/s, loss=0.557, accuracy=0.964]\n",
      "Epoch 25/50: 100%|██████████| 80/80 [00:01<00:00, 61.18batch/s, loss=0.151, accuracy=0.983]\n",
      "Epoch 26/50: 100%|██████████| 80/80 [00:01<00:00, 59.08batch/s, loss=0.0848, accuracy=0.98]\n",
      "Epoch 27/50: 100%|██████████| 80/80 [00:01<00:00, 58.11batch/s, loss=0.452, accuracy=0.977]\n",
      "Epoch 28/50: 100%|██████████| 80/80 [00:01<00:00, 61.75batch/s, loss=0.509, accuracy=0.984]\n",
      "Epoch 29/50: 100%|██████████| 80/80 [00:01<00:00, 58.62batch/s, loss=0.106, accuracy=0.97]\n",
      "Epoch 30/50: 100%|██████████| 80/80 [00:01<00:00, 62.23batch/s, loss=0.596, accuracy=0.98]\n",
      "Epoch 31/50: 100%|██████████| 80/80 [00:01<00:00, 57.79batch/s, loss=0.432, accuracy=0.989]\n",
      "Epoch 32/50: 100%|██████████| 80/80 [00:01<00:00, 57.86batch/s, loss=0.258, accuracy=0.988]\n",
      "Epoch 33/50: 100%|██████████| 80/80 [00:01<00:00, 56.12batch/s, loss=0.13, accuracy=0.994]\n",
      "Epoch 34/50: 100%|██████████| 80/80 [00:01<00:00, 57.16batch/s, loss=0.327, accuracy=0.988]\n",
      "Epoch 35/50: 100%|██████████| 80/80 [00:01<00:00, 56.65batch/s, loss=0.114, accuracy=0.984]\n",
      "Epoch 36/50: 100%|██████████| 80/80 [00:01<00:00, 58.45batch/s, loss=0.308, accuracy=0.983]\n",
      "Epoch 37/50: 100%|██████████| 80/80 [00:01<00:00, 59.41batch/s, loss=0.177, accuracy=0.988]\n",
      "Epoch 38/50: 100%|██████████| 80/80 [00:01<00:00, 59.88batch/s, loss=0.453, accuracy=0.988]\n",
      "Epoch 39/50: 100%|██████████| 80/80 [00:01<00:00, 59.70batch/s, loss=0.279, accuracy=0.995]\n",
      "Epoch 40/50: 100%|██████████| 80/80 [00:01<00:00, 62.00batch/s, loss=0.255, accuracy=0.992]\n",
      "Epoch 41/50: 100%|██████████| 80/80 [00:01<00:00, 58.87batch/s, loss=0.263, accuracy=0.992]\n",
      "Epoch 42/50: 100%|██████████| 80/80 [00:01<00:00, 61.62batch/s, loss=0.203, accuracy=0.995]\n",
      "Epoch 43/50: 100%|██████████| 80/80 [00:01<00:00, 59.91batch/s, loss=0.223, accuracy=0.995]\n",
      "Epoch 44/50: 100%|██████████| 80/80 [00:01<00:00, 63.29batch/s, loss=0.514, accuracy=0.988]\n",
      "Epoch 45/50: 100%|██████████| 80/80 [00:01<00:00, 61.02batch/s, loss=0.611, accuracy=0.988]\n",
      "Epoch 46/50: 100%|██████████| 80/80 [00:01<00:00, 62.35batch/s, loss=0.306, accuracy=0.992]\n",
      "Epoch 47/50: 100%|██████████| 80/80 [00:01<00:00, 59.83batch/s, loss=0.257, accuracy=0.998]\n",
      "Epoch 48/50: 100%|██████████| 80/80 [00:01<00:00, 60.23batch/s, loss=0.278, accuracy=0.991]\n",
      "Epoch 49/50: 100%|██████████| 80/80 [00:01<00:00, 62.20batch/s, loss=0.153, accuracy=0.992]\n",
      "Epoch 50/50: 100%|██████████| 80/80 [00:01<00:00, 58.37batch/s, loss=0.0513, accuracy=0.994]\n"
     ]
    }
   ],
   "source": [
    "history_adv = model_adv.fit((x_train, y_train), y_train, 8, 50)"
   ]
  },
  {
   "cell_type": "code",
   "execution_count": 14,
   "metadata": {},
   "outputs": [
    {
     "name": "stdout",
     "output_type": "stream",
     "text": [
      "Accuracy of clean data : 0.96875\n",
      "Accuracy of adversarial data : 0.825\n"
     ]
    }
   ],
   "source": [
    "print(\"Accuracy of clean data : {}\".format(model_adv.evaluate(x_test, y_test)))\n",
    "\n",
    "adv_x = FGSM(model_adv, x_test, y_test)\n",
    "print(\"Accuracy of adversarial data : {}\".format(model_adv.evaluate(adv_x, y_test)))"
   ]
  },
  {
   "cell_type": "code",
   "execution_count": 15,
   "metadata": {},
   "outputs": [],
   "source": [
    "def display_images(img, adv_img, model, model_adv):\n",
    "    model.eval()\n",
    "    model_adv.eval()\n",
    "    fig, axes = plt.subplots(2, 2)\n",
    "    epsilons = [0, eps]\n",
    "    descriptions = ['Epsilon = {:0.3f}'.format(eps) for eps in epsilons]\n",
    "    for i in range(2):\n",
    "        for j in range(2):\n",
    "            description = \"Origin Model, \" + descriptions[i] if j == 0 else \"Adv Model, \" + descriptions[i]\n",
    "            if i == 0:\n",
    "                pred = model(img) if j == 0 else model_adv(img)\n",
    "                label = torch.argmax(pred, -1).item()\n",
    "                confidence = torch.softmax(pred, -1)[0, label]\n",
    "                axes[i, j].imshow(cv2.cvtColor(torch.permute(img, [0, 2, 3, 1])[0].detach().numpy(), cv2.COLOR_BGR2RGB))\n",
    "                axes[i, j].set_title('{} \\n {} : {:.2f}% Confidence'.format(description, label, confidence*100))\n",
    "                axes[i, j].axis('off')\n",
    "            else:\n",
    "                pred = model(adv_img[0]) if j == 0 else model_adv(adv_img[1])\n",
    "                label = torch.argmax(pred, -1).item()\n",
    "                confidence = torch.softmax(pred, -1)[0, label]\n",
    "                axes[i, j].imshow(cv2.cvtColor(torch.permute(adv_img[j], [0, 2, 3, 1])[0].detach().numpy(), cv2.COLOR_BGR2RGB))\n",
    "                axes[i, j].set_title('{} \\n {} : {:.2f}% Confidence'.format(description, label, confidence*100))\n",
    "                axes[i, j].axis('off')\n",
    "    plt.tight_layout()\n",
    "    plt.show()"
   ]
  },
  {
   "cell_type": "code",
   "execution_count": 16,
   "metadata": {},
   "outputs": [
    {
     "name": "stdout",
     "output_type": "stream",
     "text": [
      "True Label : 1\n"
     ]
    },
    {
     "data": {
      "image/png": "[encoded data removed]",
      "text/plain": [
       "<Figure size 640x480 with 4 Axes>"
      ]
     },
     "metadata": {},
     "output_type": "display_data"
    }
   ],
   "source": [
    "model.eval()\n",
    "model_adv.eval()\n",
    "adv_x1 = FGSM(model, x_test, y_test)\n",
    "adv_x2 = FGSM(model_adv, x_test, y_test)\n",
    "\n",
    "for i in range(x_test.shape[0]):\n",
    "    img = x_test[i:i+1]\n",
    "    label = y_test[i:i+1]\n",
    "    if(torch.argmax(model(img), -1)[0] == label):\n",
    "        adv_x = [adv_x1[i:i+1], adv_x2[i:i+1]]\n",
    "        if(torch.argmax(model(img), -1)[0] != torch.argmax(model(adv_x[0]), -1)[0]):\n",
    "            if(torch.argmax(model_adv(img), -1)[0] == torch.argmax(model_adv(adv_x[1]), -1)[0]):\n",
    "                print(\"True Label : {}\".format(label.item()))\n",
    "                display_images(img, adv_x, model, model_adv)\n",
    "                break\n"
   ]
  }
 ],
 "metadata": {
  "kernelspec": {
   "display_name": "pytorch",
   "language": "python",
   "name": "python3"
  },
  "language_info": {
   "codemirror_mode": {
    "name": "ipython",
    "version": 3
   },
   "file_extension": ".py",
   "mimetype": "text/x-python",
   "name": "python",
   "nbconvert_exporter": "python",
   "pygments_lexer": "ipython3",
   "version": "3.12.8"
  }
 },
 "nbformat": 4,
 "nbformat_minor": 2
}
