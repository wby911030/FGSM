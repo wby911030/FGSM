{
 "cells": [
  {
   "cell_type": "code",
   "execution_count": 17,
   "metadata": {},
   "outputs": [
    {
     "name": "stdout",
     "output_type": "stream",
     "text": [
      "Using cpu device\n"
     ]
    }
   ],
   "source": [
    "import torch\n",
    "import numpy as np\n",
    "from sklearn.model_selection import train_test_split\n",
    "import cv2\n",
    "import os\n",
    "import matplotlib.pyplot as plt\n",
    "from utils.model import BaseModel\n",
    "from utils.metrics import CategoryAccuracy\n",
    "\n",
    "device = \"cuda\" if torch.cuda.is_available() else \"cpu\"   \n",
    "print(f\"Using {device} device\")"
   ]
  },
  {
   "cell_type": "code",
   "execution_count": 18,
   "metadata": {},
   "outputs": [],
   "source": [
    "eps = 0.01\n",
    "\n",
    "def FGSM(model, x, y, loss_func = torch.nn.CrossEntropyLoss(), epsilon = eps):\n",
    "    model.eval()\n",
    "    x.requires_grad = True\n",
    "    pred = model(x)\n",
    "    loss = loss_func(pred, y)\n",
    "    loss.backward()\n",
    "    signed_grad = torch.sign(x.grad)\n",
    "    adv_x = x + epsilon * signed_grad\n",
    "    adv_x = torch.clamp(adv_x, 0.0, 1.0)\n",
    "    return adv_x"
   ]
  },
  {
   "cell_type": "code",
   "execution_count": 19,
   "metadata": {},
   "outputs": [
    {
     "name": "stdout",
     "output_type": "stream",
     "text": [
      "done\n"
     ]
    }
   ],
   "source": [
    "path = \"../ORL3232/\"\n",
    "folders = sorted(os.listdir(path)[:-1], key = lambda x : int(x))\n",
    "\n",
    "imgs = []\n",
    "labels = []\n",
    "\n",
    "for folder in folders:\n",
    "    p = path + folder + '/'\n",
    "    files = os.listdir(p)\n",
    "    files = [p+x for x in files if x.endswith(\".bmp\")]\n",
    "    for file in files:\n",
    "        img = cv2.imread(file, 0) / 255.0\n",
    "        imgs.append(np.reshape(img, [32, 32, 1]))\n",
    "        labels.append(int(folder) - 1)\n",
    "\n",
    "print(\"done\")"
   ]
  },
  {
   "cell_type": "code",
   "execution_count": 20,
   "metadata": {},
   "outputs": [],
   "source": [
    "x_data = imgs.copy() * 2\n",
    "y_data = labels.copy() * 2\n",
    "\n",
    "x_train, x_test, y_train, y_test = train_test_split(x_data, y_data, test_size=0.2)\n",
    "\n",
    "x_train = torch.tensor(np.array(x_train), dtype=torch.float32)\n",
    "x_train = torch.permute(x_train, [0, 3, 1, 2])\n",
    "y_train = torch.tensor(np.array(y_train), dtype=torch.int64)\n",
    "\n",
    "x_test = torch.tensor(np.array(x_test), dtype=torch.float32)\n",
    "x_test = torch.permute(x_test, [0, 3, 1, 2])\n",
    "y_test = torch.tensor(np.array(y_test), dtype=torch.int64)\n",
    "\n",
    "assert x_train.shape[0] == y_train.shape[0]"
   ]
  },
  {
   "cell_type": "code",
   "execution_count": 21,
   "metadata": {},
   "outputs": [],
   "source": [
    "class Model(BaseModel):\n",
    "    def __init__(self, *args, **kwargs):\n",
    "        super().__init__(*args, **kwargs)\n",
    "        self.pool = torch.nn.MaxPool2d(2)\n",
    "        self.flat = torch.nn.Flatten()\n",
    "        self.relu = torch.nn.ReLU()\n",
    "        self.conv1 = torch.nn.Conv2d(1, 24, 3)\n",
    "        self.conv2 = torch.nn.Conv2d(24, 16, 3)\n",
    "        self.conv3 = torch.nn.Conv2d(16, 12, 3)\n",
    "        self.linear1 = None\n",
    "        self.linear2 = torch.nn.Linear(64, 64)\n",
    "        self.linear3 = torch.nn.Linear(64, 40)\n",
    "    \n",
    "    def forward(self, input):\n",
    "        x = input\n",
    "        x = self.relu(self.pool(self.conv1(x)))\n",
    "        x = self.relu(self.pool(self.conv2(x)))\n",
    "        x = self.relu(self.pool(self.conv3(x)))\n",
    "        x = self.flat(x)\n",
    "        if self.linear1 is None:\n",
    "            self.linear1 = torch.nn.Linear(x.shape[1], 64).to(x.device)\n",
    "        x = self.relu(self.linear1(x))\n",
    "        x = self.relu(self.linear2(x))\n",
    "        x = self.linear3(x)\n",
    "        return x"
   ]
  },
  {
   "cell_type": "code",
   "execution_count": 22,
   "metadata": {},
   "outputs": [],
   "source": [
    "model = Model().to(device)\n",
    "opt = torch.optim.Adam(model.parameters())\n",
    "model.compile(opt, torch.nn.CrossEntropyLoss(), CategoryAccuracy(len(folders)), device)"
   ]
  },
  {
   "cell_type": "code",
   "execution_count": 23,
   "metadata": {},
   "outputs": [
    {
     "name": "stderr",
     "output_type": "stream",
     "text": [
      "Epoch 1/50: 100%|██████████| 80/80 [00:00<00:00, 111.86batch/s, loss=3.73, accuracy=0.0234]\n",
      "Epoch 2/50: 100%|██████████| 80/80 [00:00<00:00, 124.00batch/s, loss=3.69, accuracy=0.0203]\n",
      "Epoch 3/50: 100%|██████████| 80/80 [00:00<00:00, 120.83batch/s, loss=3.72, accuracy=0.0266]\n",
      "Epoch 4/50: 100%|██████████| 80/80 [00:00<00:00, 119.03batch/s, loss=3.69, accuracy=0.0266]\n",
      "Epoch 5/50: 100%|██████████| 80/80 [00:00<00:00, 117.94batch/s, loss=3.67, accuracy=0.0422]\n",
      "Epoch 6/50: 100%|██████████| 80/80 [00:00<00:00, 127.50batch/s, loss=3.36, accuracy=0.0406]\n",
      "Epoch 7/50: 100%|██████████| 80/80 [00:00<00:00, 121.62batch/s, loss=2.48, accuracy=0.0953]\n",
      "Epoch 8/50: 100%|██████████| 80/80 [00:00<00:00, 115.75batch/s, loss=2.91, accuracy=0.211]\n",
      "Epoch 9/50: 100%|██████████| 80/80 [00:00<00:00, 123.60batch/s, loss=2.69, accuracy=0.294]\n",
      "Epoch 10/50: 100%|██████████| 80/80 [00:00<00:00, 121.47batch/s, loss=1.96, accuracy=0.417]\n",
      "Epoch 11/50: 100%|██████████| 80/80 [00:00<00:00, 111.13batch/s, loss=1.98, accuracy=0.453]\n",
      "Epoch 12/50: 100%|██████████| 80/80 [00:00<00:00, 119.45batch/s, loss=1.32, accuracy=0.541]\n",
      "Epoch 13/50: 100%|██████████| 80/80 [00:00<00:00, 116.83batch/s, loss=1.46, accuracy=0.575]\n",
      "Epoch 14/50: 100%|██████████| 80/80 [00:00<00:00, 119.92batch/s, loss=1.31, accuracy=0.603]\n",
      "Epoch 15/50: 100%|██████████| 80/80 [00:00<00:00, 113.79batch/s, loss=1.56, accuracy=0.673]\n",
      "Epoch 16/50: 100%|██████████| 80/80 [00:00<00:00, 126.56batch/s, loss=0.945, accuracy=0.702]\n",
      "Epoch 17/50: 100%|██████████| 80/80 [00:00<00:00, 120.00batch/s, loss=0.85, accuracy=0.761]\n",
      "Epoch 18/50: 100%|██████████| 80/80 [00:00<00:00, 126.46batch/s, loss=0.73, accuracy=0.781]\n",
      "Epoch 19/50: 100%|██████████| 80/80 [00:00<00:00, 113.35batch/s, loss=0.87, accuracy=0.816]\n",
      "Epoch 20/50: 100%|██████████| 80/80 [00:00<00:00, 119.52batch/s, loss=0.668, accuracy=0.809]\n",
      "Epoch 21/50: 100%|██████████| 80/80 [00:00<00:00, 113.80batch/s, loss=0.225, accuracy=0.848]\n",
      "Epoch 22/50: 100%|██████████| 80/80 [00:00<00:00, 109.99batch/s, loss=0.494, accuracy=0.863]\n",
      "Epoch 23/50: 100%|██████████| 80/80 [00:00<00:00, 117.54batch/s, loss=0.305, accuracy=0.875]\n",
      "Epoch 24/50: 100%|██████████| 80/80 [00:00<00:00, 113.49batch/s, loss=0.605, accuracy=0.88]\n",
      "Epoch 25/50: 100%|██████████| 80/80 [00:00<00:00, 106.09batch/s, loss=0.354, accuracy=0.891]\n",
      "Epoch 26/50: 100%|██████████| 80/80 [00:00<00:00, 115.67batch/s, loss=0.813, accuracy=0.912]\n",
      "Epoch 27/50: 100%|██████████| 80/80 [00:00<00:00, 111.56batch/s, loss=0.345, accuracy=0.917]\n",
      "Epoch 28/50: 100%|██████████| 80/80 [00:00<00:00, 119.23batch/s, loss=0.183, accuracy=0.927]\n",
      "Epoch 29/50: 100%|██████████| 80/80 [00:00<00:00, 111.96batch/s, loss=0.241, accuracy=0.952]\n",
      "Epoch 30/50: 100%|██████████| 80/80 [00:00<00:00, 104.39batch/s, loss=0.144, accuracy=0.958]\n",
      "Epoch 31/50: 100%|██████████| 80/80 [00:00<00:00, 96.95batch/s, loss=0.267, accuracy=0.936] \n",
      "Epoch 32/50: 100%|██████████| 80/80 [00:00<00:00, 97.31batch/s, loss=0.521, accuracy=0.958]\n",
      "Epoch 33/50: 100%|██████████| 80/80 [00:00<00:00, 104.16batch/s, loss=0.435, accuracy=0.955]\n",
      "Epoch 34/50: 100%|██████████| 80/80 [00:00<00:00, 96.60batch/s, loss=0.109, accuracy=0.975] \n",
      "Epoch 35/50: 100%|██████████| 80/80 [00:00<00:00, 107.22batch/s, loss=0.11, accuracy=0.959]\n",
      "Epoch 36/50: 100%|██████████| 80/80 [00:00<00:00, 105.27batch/s, loss=0.249, accuracy=0.977]\n",
      "Epoch 37/50: 100%|██████████| 80/80 [00:00<00:00, 97.83batch/s, loss=0.164, accuracy=0.991] \n",
      "Epoch 38/50: 100%|██████████| 80/80 [00:00<00:00, 103.43batch/s, loss=0.0355, accuracy=0.981]\n",
      "Epoch 39/50: 100%|██████████| 80/80 [00:00<00:00, 101.06batch/s, loss=0.0169, accuracy=0.991]\n",
      "Epoch 40/50: 100%|██████████| 80/80 [00:00<00:00, 99.91batch/s, loss=0.0683, accuracy=0.992] \n",
      "Epoch 41/50: 100%|██████████| 80/80 [00:00<00:00, 110.98batch/s, loss=0.0339, accuracy=0.991]\n",
      "Epoch 42/50: 100%|██████████| 80/80 [00:00<00:00, 98.80batch/s, loss=0.0291, accuracy=0.998]\n",
      "Epoch 43/50: 100%|██████████| 80/80 [00:00<00:00, 109.05batch/s, loss=0.181, accuracy=0.995]\n",
      "Epoch 44/50: 100%|██████████| 80/80 [00:00<00:00, 105.73batch/s, loss=0.0243, accuracy=0.994]\n",
      "Epoch 45/50: 100%|██████████| 80/80 [00:00<00:00, 100.13batch/s, loss=0.029, accuracy=0.995]\n",
      "Epoch 46/50: 100%|██████████| 80/80 [00:00<00:00, 111.73batch/s, loss=0.0311, accuracy=0.991]\n",
      "Epoch 47/50: 100%|██████████| 80/80 [00:00<00:00, 97.68batch/s, loss=0.0263, accuracy=0.997]\n",
      "Epoch 48/50: 100%|██████████| 80/80 [00:00<00:00, 104.15batch/s, loss=0.111, accuracy=1]\n",
      "Epoch 49/50: 100%|██████████| 80/80 [00:00<00:00, 111.23batch/s, loss=0.0287, accuracy=0.998]\n",
      "Epoch 50/50: 100%|██████████| 80/80 [00:00<00:00, 99.68batch/s, loss=0.0144, accuracy=0.984] \n"
     ]
    }
   ],
   "source": [
    "history = model.fit(x_train, y_train, 8, 50)"
   ]
  },
  {
   "cell_type": "code",
   "execution_count": 24,
   "metadata": {},
   "outputs": [
    {
     "name": "stdout",
     "output_type": "stream",
     "text": [
      "Accuracy of clean data : 0.91875\n",
      "Accuracy of adversarial data : 0.4625\n"
     ]
    }
   ],
   "source": [
    "print(\"Accuracy of clean data : {}\".format(model.evaluate(x_test, y_test)))\n",
    "\n",
    "adv_x = FGSM(model, x_test, y_test)\n",
    "print(\"Accuracy of adversarial data : {}\".format(model.evaluate(adv_x, y_test)))"
   ]
  },
  {
   "cell_type": "code",
   "execution_count": 25,
   "metadata": {},
   "outputs": [],
   "source": [
    "torch.save(model, \"base_model.pt\")"
   ]
  },
  {
   "cell_type": "code",
   "execution_count": 26,
   "metadata": {},
   "outputs": [],
   "source": [
    "class AdversarialModel(BaseModel):\n",
    "    def __init__(self, base_model, FGSM):\n",
    "        super().__init__()\n",
    "        self.base_model = base_model\n",
    "        self.fgsm = FGSM\n",
    "\n",
    "    def forward(self, inputs):\n",
    "        if self.training:\n",
    "            x, y = inputs \n",
    "            adv_x = self.fgsm(self.base_model, x, y)  \n",
    "            clean_preds = self.base_model(x)\n",
    "            adv_preds = self.base_model(adv_x)\n",
    "            return (clean_preds, adv_preds)\n",
    "        else:\n",
    "            x = inputs \n",
    "            return self.base_model(x)"
   ]
  },
  {
   "cell_type": "code",
   "execution_count": 27,
   "metadata": {},
   "outputs": [],
   "source": [
    "class AdversarialLoss(torch.nn.Module):\n",
    "    def __init__(self):\n",
    "        super().__init__()\n",
    "        self.loss_func = torch.nn.CrossEntropyLoss()\n",
    "\n",
    "    def forward(self, y_pred, y_true):\n",
    "        clean_preds, adv_preds = y_pred\n",
    "        loss_clean = self.loss_func(clean_preds, y_true)\n",
    "        loss_adv = self.loss_func(adv_preds, y_true)\n",
    "        return 0.5 * loss_clean + 0.5 * loss_adv"
   ]
  },
  {
   "cell_type": "code",
   "execution_count": 28,
   "metadata": {},
   "outputs": [
    {
     "name": "stderr",
     "output_type": "stream",
     "text": [
      "C:\\Users\\wby95\\AppData\\Local\\Temp\\ipykernel_3052\\2189455323.py:1: FutureWarning: You are using `torch.load` with `weights_only=False` (the current default value), which uses the default pickle module implicitly. It is possible to construct malicious pickle data which will execute arbitrary code during unpickling (See https://github.com/pytorch/pytorch/blob/main/SECURITY.md#untrusted-models for more details). In a future release, the default value for `weights_only` will be flipped to `True`. This limits the functions that could be executed during unpickling. Arbitrary objects will no longer be allowed to be loaded via this mode unless they are explicitly allowlisted by the user via `torch.serialization.add_safe_globals`. We recommend you start setting `weights_only=True` for any use case where you don't have full control of the loaded file. Please open an issue on GitHub for any issues related to this experimental feature.\n",
      "  model_adv = AdversarialModel(torch.load(\"base_model.pt\"), FGSM).to(device)\n"
     ]
    }
   ],
   "source": [
    "model_adv = AdversarialModel(torch.load(\"base_model.pt\"), FGSM).to(device)\n",
    "opt_adv = torch.optim.Adam(model_adv.parameters())\n",
    "model_adv.compile(opt_adv, AdversarialLoss(), CategoryAccuracy(len(folders)), device, data_format=\"tuple\")"
   ]
  },
  {
   "cell_type": "code",
   "execution_count": 29,
   "metadata": {},
   "outputs": [
    {
     "name": "stderr",
     "output_type": "stream",
     "text": [
      "Epoch 1/50: 100%|██████████| 80/80 [00:01<00:00, 55.44batch/s, loss=0.821, accuracy=0.922]\n",
      "Epoch 2/50: 100%|██████████| 80/80 [00:01<00:00, 56.95batch/s, loss=0.948, accuracy=0.948]\n",
      "Epoch 3/50: 100%|██████████| 80/80 [00:01<00:00, 53.08batch/s, loss=0.709, accuracy=0.972]\n",
      "Epoch 4/50: 100%|██████████| 80/80 [00:01<00:00, 46.67batch/s, loss=0.945, accuracy=0.983]\n",
      "Epoch 5/50: 100%|██████████| 80/80 [00:01<00:00, 51.75batch/s, loss=0.215, accuracy=0.973]\n",
      "Epoch 6/50: 100%|██████████| 80/80 [00:01<00:00, 53.22batch/s, loss=0.767, accuracy=0.986]\n",
      "Epoch 7/50: 100%|██████████| 80/80 [00:01<00:00, 49.13batch/s, loss=0.265, accuracy=0.991]\n",
      "Epoch 8/50: 100%|██████████| 80/80 [00:01<00:00, 53.45batch/s, loss=0.492, accuracy=0.981]\n",
      "Epoch 9/50: 100%|██████████| 80/80 [00:01<00:00, 54.20batch/s, loss=0.455, accuracy=0.991]\n",
      "Epoch 10/50: 100%|██████████| 80/80 [00:01<00:00, 50.79batch/s, loss=0.246, accuracy=0.995]\n",
      "Epoch 11/50: 100%|██████████| 80/80 [00:01<00:00, 51.07batch/s, loss=0.41, accuracy=0.992]\n",
      "Epoch 12/50: 100%|██████████| 80/80 [00:01<00:00, 50.13batch/s, loss=0.208, accuracy=0.981]\n",
      "Epoch 13/50: 100%|██████████| 80/80 [00:01<00:00, 50.31batch/s, loss=0.308, accuracy=0.989]\n",
      "Epoch 14/50: 100%|██████████| 80/80 [00:01<00:00, 47.82batch/s, loss=0.328, accuracy=0.992]\n",
      "Epoch 15/50: 100%|██████████| 80/80 [00:01<00:00, 51.87batch/s, loss=0.738, accuracy=0.991]\n",
      "Epoch 16/50: 100%|██████████| 80/80 [00:01<00:00, 50.25batch/s, loss=0.259, accuracy=0.994]\n",
      "Epoch 17/50: 100%|██████████| 80/80 [00:01<00:00, 53.06batch/s, loss=0.778, accuracy=0.994]\n",
      "Epoch 18/50: 100%|██████████| 80/80 [00:01<00:00, 53.52batch/s, loss=0.384, accuracy=0.998]\n",
      "Epoch 19/50: 100%|██████████| 80/80 [00:01<00:00, 52.64batch/s, loss=0.651, accuracy=0.992]\n",
      "Epoch 20/50: 100%|██████████| 80/80 [00:01<00:00, 54.41batch/s, loss=0.55, accuracy=0.995]\n",
      "Epoch 21/50: 100%|██████████| 80/80 [00:01<00:00, 52.30batch/s, loss=0.44, accuracy=0.997]\n",
      "Epoch 22/50: 100%|██████████| 80/80 [00:01<00:00, 53.28batch/s, loss=0.233, accuracy=0.997]\n",
      "Epoch 23/50: 100%|██████████| 80/80 [00:01<00:00, 49.58batch/s, loss=0.807, accuracy=0.998]\n",
      "Epoch 24/50: 100%|██████████| 80/80 [00:01<00:00, 53.58batch/s, loss=0.746, accuracy=0.998]\n",
      "Epoch 25/50: 100%|██████████| 80/80 [00:01<00:00, 49.34batch/s, loss=0.605, accuracy=0.998]\n",
      "Epoch 26/50: 100%|██████████| 80/80 [00:01<00:00, 53.61batch/s, loss=0.147, accuracy=0.992]\n",
      "Epoch 27/50: 100%|██████████| 80/80 [00:01<00:00, 51.54batch/s, loss=0.326, accuracy=1]\n",
      "Epoch 28/50: 100%|██████████| 80/80 [00:01<00:00, 50.61batch/s, loss=0.463, accuracy=1]\n",
      "Epoch 29/50: 100%|██████████| 80/80 [00:01<00:00, 50.62batch/s, loss=0.345, accuracy=1]\n",
      "Epoch 30/50: 100%|██████████| 80/80 [00:01<00:00, 49.43batch/s, loss=0.0517, accuracy=0.997]\n",
      "Epoch 31/50: 100%|██████████| 80/80 [00:01<00:00, 54.62batch/s, loss=0.0375, accuracy=0.997]\n",
      "Epoch 32/50: 100%|██████████| 80/80 [00:01<00:00, 53.62batch/s, loss=0.407, accuracy=1]\n",
      "Epoch 33/50: 100%|██████████| 80/80 [00:01<00:00, 54.32batch/s, loss=0.18, accuracy=0.997]\n",
      "Epoch 34/50: 100%|██████████| 80/80 [00:01<00:00, 52.30batch/s, loss=0.0797, accuracy=0.995]\n",
      "Epoch 35/50: 100%|██████████| 80/80 [00:01<00:00, 52.12batch/s, loss=0.283, accuracy=1]\n",
      "Epoch 36/50: 100%|██████████| 80/80 [00:01<00:00, 52.39batch/s, loss=0.198, accuracy=1]\n",
      "Epoch 37/50: 100%|██████████| 80/80 [00:01<00:00, 56.06batch/s, loss=0.0214, accuracy=1]\n",
      "Epoch 38/50: 100%|██████████| 80/80 [00:01<00:00, 57.96batch/s, loss=0.106, accuracy=0.997]\n",
      "Epoch 39/50: 100%|██████████| 80/80 [00:01<00:00, 58.27batch/s, loss=0.0808, accuracy=0.998]\n",
      "Epoch 40/50: 100%|██████████| 80/80 [00:01<00:00, 59.81batch/s, loss=0.269, accuracy=1]\n",
      "Epoch 41/50: 100%|██████████| 80/80 [00:01<00:00, 61.64batch/s, loss=0.896, accuracy=0.997]\n",
      "Epoch 42/50: 100%|██████████| 80/80 [00:01<00:00, 60.07batch/s, loss=0.0605, accuracy=0.998]\n",
      "Epoch 43/50: 100%|██████████| 80/80 [00:01<00:00, 62.37batch/s, loss=0.166, accuracy=1]\n",
      "Epoch 44/50: 100%|██████████| 80/80 [00:01<00:00, 59.50batch/s, loss=0.245, accuracy=0.998]\n",
      "Epoch 45/50: 100%|██████████| 80/80 [00:01<00:00, 61.72batch/s, loss=0.127, accuracy=1]\n",
      "Epoch 46/50: 100%|██████████| 80/80 [00:01<00:00, 59.03batch/s, loss=0.0447, accuracy=1]\n",
      "Epoch 47/50: 100%|██████████| 80/80 [00:01<00:00, 58.86batch/s, loss=0.169, accuracy=0.998]\n",
      "Epoch 48/50: 100%|██████████| 80/80 [00:01<00:00, 56.32batch/s, loss=0.0544, accuracy=1]\n",
      "Epoch 49/50: 100%|██████████| 80/80 [00:01<00:00, 56.86batch/s, loss=0.0351, accuracy=0.997]\n",
      "Epoch 50/50: 100%|██████████| 80/80 [00:01<00:00, 55.49batch/s, loss=0.121, accuracy=1]\n"
     ]
    }
   ],
   "source": [
    "history_adv = model_adv.fit(x_train, y_train, 8, 50)"
   ]
  },
  {
   "cell_type": "code",
   "execution_count": 30,
   "metadata": {},
   "outputs": [
    {
     "name": "stdout",
     "output_type": "stream",
     "text": [
      "Accuracy of clean data : 1.0\n",
      "Accuracy of adversarial data : 0.9125\n"
     ]
    }
   ],
   "source": [
    "print(\"Accuracy of clean data : {}\".format(model_adv.evaluate(x_test, y_test)))\n",
    "\n",
    "adv_x = FGSM(model_adv, x_test, y_test)\n",
    "print(\"Accuracy of adversarial data : {}\".format(model_adv.evaluate(adv_x, y_test)))"
   ]
  },
  {
   "cell_type": "code",
   "execution_count": 31,
   "metadata": {},
   "outputs": [],
   "source": [
    "def display_images(img, adv_img, model, model_adv):\n",
    "    model.eval()\n",
    "    model_adv.eval()\n",
    "    fig, axes = plt.subplots(2, 2)\n",
    "    epsilons = [0, eps]\n",
    "    descriptions = ['Epsilon = {:0.3f}'.format(eps) for eps in epsilons]\n",
    "    for i in range(2):\n",
    "        for j in range(2):\n",
    "            description = \"Origin Model, \" + descriptions[i] if j == 0 else \"Adv Model, \" + descriptions[i]\n",
    "            if i == 0:\n",
    "                pred = model(img) if j == 0 else model_adv(img)\n",
    "                label = torch.argmax(pred, -1).item()\n",
    "                confidence = torch.softmax(pred, -1)[0, label]\n",
    "                axes[i, j].imshow(cv2.cvtColor(torch.permute(img, [0, 2, 3, 1])[0].detach().numpy(), cv2.COLOR_BGR2RGB))\n",
    "                axes[i, j].set_title('{} \\n {} : {:.2f}% Confidence'.format(description, label, confidence*100))\n",
    "                axes[i, j].axis('off')\n",
    "            else:\n",
    "                pred = model(adv_img[0]) if j == 0 else model_adv(adv_img[1])\n",
    "                label = torch.argmax(pred, -1).item()\n",
    "                confidence = torch.softmax(pred, -1)[0, label]\n",
    "                axes[i, j].imshow(cv2.cvtColor(torch.permute(adv_img[j], [0, 2, 3, 1])[0].detach().numpy(), cv2.COLOR_BGR2RGB))\n",
    "                axes[i, j].set_title('{} \\n {} : {:.2f}% Confidence'.format(description, label, confidence*100))\n",
    "                axes[i, j].axis('off')\n",
    "    plt.tight_layout()\n",
    "    plt.show()"
   ]
  },
  {
   "cell_type": "code",
   "execution_count": 32,
   "metadata": {},
   "outputs": [
    {
     "name": "stdout",
     "output_type": "stream",
     "text": [
      "True Label : 29\n"
     ]
    },
    {
     "data": {
      "image/png": "[encoded data removed]",
      "text/plain": [
       "<Figure size 640x480 with 4 Axes>"
      ]
     },
     "metadata": {},
     "output_type": "display_data"
    }
   ],
   "source": [
    "model.eval()\n",
    "model_adv.eval()\n",
    "adv_x1 = FGSM(model, x_test, y_test)\n",
    "adv_x2 = FGSM(model_adv, x_test, y_test)\n",
    "\n",
    "for i in range(x_test.shape[0]):\n",
    "    img = x_test[i:i+1]\n",
    "    label = y_test[i:i+1]\n",
    "    if(torch.argmax(model(img), -1)[0] == label):\n",
    "        adv_x = [adv_x1[i:i+1], adv_x2[i:i+1]]\n",
    "        if(torch.argmax(model(img), -1)[0] != torch.argmax(model(adv_x[0]), -1)[0]):\n",
    "            if(torch.argmax(model_adv(img), -1)[0] == torch.argmax(model_adv(adv_x[1]), -1)[0]):\n",
    "                print(\"True Label : {}\".format(label.item()))\n",
    "                display_images(img, adv_x, model, model_adv)\n",
    "                break\n"
   ]
  }
 ],
 "metadata": {
  "kernelspec": {
   "display_name": "pytorch",
   "language": "python",
   "name": "python3"
  },
  "language_info": {
   "codemirror_mode": {
    "name": "ipython",
    "version": 3
   },
   "file_extension": ".py",
   "mimetype": "text/x-python",
   "name": "python",
   "nbconvert_exporter": "python",
   "pygments_lexer": "ipython3",
   "version": "3.12.8"
  }
 },
 "nbformat": 4,
 "nbformat_minor": 2
}
