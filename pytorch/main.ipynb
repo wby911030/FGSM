{
 "cells": [
  {
   "cell_type": "code",
   "execution_count": 41,
   "metadata": {},
   "outputs": [
    {
     "name": "stdout",
     "output_type": "stream",
     "text": [
      "Using cpu device\n"
     ]
    }
   ],
   "source": [
    "import torch\n",
    "import numpy as np\n",
    "from sklearn.model_selection import train_test_split\n",
    "import cv2\n",
    "import os\n",
    "import matplotlib.pyplot as plt\n",
    "from utils.model import BaseModel\n",
    "from utils.metrics import CategoryAccuracy\n",
    "\n",
    "device = \"cuda\" if torch.cuda.is_available() else \"cpu\"   \n",
    "print(f\"Using {device} device\")"
   ]
  },
  {
   "cell_type": "code",
   "execution_count": 42,
   "metadata": {},
   "outputs": [],
   "source": [
    "eps = 0.01\n",
    "\n",
    "def FGSM(model, x, y, loss_func = torch.nn.CrossEntropyLoss(), epsilon = eps):\n",
    "    model.eval()\n",
    "    x.requires_grad = True\n",
    "    pred = model(x)\n",
    "    loss = loss_func(pred, y)\n",
    "    loss.backward()\n",
    "    signed_grad = torch.sign(x.grad)\n",
    "    adv_x = x + epsilon * signed_grad\n",
    "    adv_x = torch.clamp(adv_x, 0.0, 1.0)\n",
    "    return adv_x"
   ]
  },
  {
   "cell_type": "code",
   "execution_count": 43,
   "metadata": {},
   "outputs": [
    {
     "name": "stdout",
     "output_type": "stream",
     "text": [
      "done\n"
     ]
    }
   ],
   "source": [
    "path = \"../ORL3232/\"\n",
    "folders = sorted(os.listdir(path)[:-1], key = lambda x : int(x))\n",
    "\n",
    "imgs = []\n",
    "labels = []\n",
    "\n",
    "for folder in folders:\n",
    "    p = path + folder + '/'\n",
    "    files = os.listdir(p)\n",
    "    files = [p+x for x in files if x.endswith(\".bmp\")]\n",
    "    for file in files:\n",
    "        img = cv2.imread(file, 0) / 255.0\n",
    "        imgs.append(np.reshape(img, [32, 32, 1]))\n",
    "        labels.append(int(folder) - 1)\n",
    "\n",
    "print(\"done\")"
   ]
  },
  {
   "cell_type": "code",
   "execution_count": 44,
   "metadata": {},
   "outputs": [],
   "source": [
    "x_data = imgs.copy() * 2\n",
    "y_data = labels.copy() * 2\n",
    "\n",
    "x_train, x_test, y_train, y_test = train_test_split(x_data, y_data, test_size=0.2)\n",
    "\n",
    "x_train = torch.tensor(np.array(x_train), dtype=torch.float32)\n",
    "x_train = torch.permute(x_train, [0, 3, 1, 2])\n",
    "y_train = torch.tensor(np.array(y_train), dtype=torch.int64)\n",
    "\n",
    "x_test = torch.tensor(np.array(x_test), dtype=torch.float32)\n",
    "x_test = torch.permute(x_test, [0, 3, 1, 2])\n",
    "y_test = torch.tensor(np.array(y_test), dtype=torch.int64)\n",
    "\n",
    "assert x_train.shape[0] == y_train.shape[0]"
   ]
  },
  {
   "cell_type": "code",
   "execution_count": 45,
   "metadata": {},
   "outputs": [],
   "source": [
    "class Model(BaseModel):\n",
    "    def __init__(self, *args, **kwargs):\n",
    "        super().__init__(*args, **kwargs)\n",
    "        self.pool = torch.nn.MaxPool2d(2)\n",
    "        self.flat = torch.nn.Flatten()\n",
    "        self.relu = torch.nn.ReLU()\n",
    "        self.conv1 = None\n",
    "        self.conv2 = torch.nn.Conv2d(24, 16, 3)\n",
    "        self.conv3 = torch.nn.Conv2d(16, 12, 3)\n",
    "        self.linear1 = None\n",
    "        self.linear2 = torch.nn.Linear(64, 64)\n",
    "        self.linear3 = torch.nn.Linear(64, 40)\n",
    "    \n",
    "    def forward(self, input):\n",
    "        x = input\n",
    "        if self.conv1 is None:\n",
    "            self.conv1 = torch.nn.Conv2d(x.shape[1], 24, 3).to(x.device)\n",
    "        x = self.relu(self.pool(self.conv1(x)))\n",
    "        x = self.relu(self.pool(self.conv2(x)))\n",
    "        x = self.relu(self.pool(self.conv3(x)))\n",
    "        x = self.flat(x)\n",
    "        if self.linear1 is None:\n",
    "            self.linear1 = torch.nn.Linear(x.shape[1], 64).to(x.device)\n",
    "        x = self.relu(self.linear1(x))\n",
    "        x = self.relu(self.linear2(x))\n",
    "        x = self.linear3(x)\n",
    "        return x"
   ]
  },
  {
   "cell_type": "code",
   "execution_count": 46,
   "metadata": {},
   "outputs": [],
   "source": [
    "model = Model().to(device)\n",
    "opt = torch.optim.Adam(model.parameters())\n",
    "model.compile(opt, torch.nn.CrossEntropyLoss(), CategoryAccuracy(len(folders)), device)"
   ]
  },
  {
   "cell_type": "code",
   "execution_count": 47,
   "metadata": {},
   "outputs": [
    {
     "name": "stderr",
     "output_type": "stream",
     "text": [
      "Epoch 1/50: 100%|██████████| 80/80 [00:00<00:00, 117.96batch/s, loss=3.71, accuracy=0.0187]\n",
      "Epoch 2/50: 100%|██████████| 80/80 [00:00<00:00, 124.00batch/s, loss=3.7, accuracy=0.0234]\n",
      "Epoch 3/50: 100%|██████████| 80/80 [00:00<00:00, 125.78batch/s, loss=3.57, accuracy=0.0469]\n",
      "Epoch 4/50: 100%|██████████| 80/80 [00:00<00:00, 112.89batch/s, loss=3.43, accuracy=0.0734]\n",
      "Epoch 5/50: 100%|██████████| 80/80 [00:00<00:00, 129.22batch/s, loss=2.92, accuracy=0.147]\n",
      "Epoch 6/50: 100%|██████████| 80/80 [00:00<00:00, 124.46batch/s, loss=2.55, accuracy=0.22]\n",
      "Epoch 7/50: 100%|██████████| 80/80 [00:00<00:00, 130.41batch/s, loss=2.59, accuracy=0.291]\n",
      "Epoch 8/50: 100%|██████████| 80/80 [00:00<00:00, 113.92batch/s, loss=1.93, accuracy=0.359]\n",
      "Epoch 9/50: 100%|██████████| 80/80 [00:00<00:00, 126.91batch/s, loss=2.09, accuracy=0.38]\n",
      "Epoch 10/50: 100%|██████████| 80/80 [00:00<00:00, 120.84batch/s, loss=1.32, accuracy=0.439]\n",
      "Epoch 11/50: 100%|██████████| 80/80 [00:00<00:00, 126.64batch/s, loss=2.36, accuracy=0.473]\n",
      "Epoch 12/50: 100%|██████████| 80/80 [00:00<00:00, 114.12batch/s, loss=1.36, accuracy=0.516]\n",
      "Epoch 13/50: 100%|██████████| 80/80 [00:00<00:00, 123.54batch/s, loss=1.06, accuracy=0.553]\n",
      "Epoch 14/50: 100%|██████████| 80/80 [00:00<00:00, 121.50batch/s, loss=0.882, accuracy=0.566]\n",
      "Epoch 15/50: 100%|██████████| 80/80 [00:00<00:00, 133.93batch/s, loss=1.04, accuracy=0.617]\n",
      "Epoch 16/50: 100%|██████████| 80/80 [00:00<00:00, 136.42batch/s, loss=1.14, accuracy=0.645]\n",
      "Epoch 17/50: 100%|██████████| 80/80 [00:00<00:00, 137.41batch/s, loss=0.883, accuracy=0.691]\n",
      "Epoch 18/50: 100%|██████████| 80/80 [00:00<00:00, 141.87batch/s, loss=0.776, accuracy=0.723]\n",
      "Epoch 19/50: 100%|██████████| 80/80 [00:00<00:00, 137.77batch/s, loss=0.913, accuracy=0.762]\n",
      "Epoch 20/50: 100%|██████████| 80/80 [00:00<00:00, 130.32batch/s, loss=1.1, accuracy=0.753]\n",
      "Epoch 21/50: 100%|██████████| 80/80 [00:00<00:00, 132.78batch/s, loss=0.74, accuracy=0.797]\n",
      "Epoch 22/50: 100%|██████████| 80/80 [00:00<00:00, 146.94batch/s, loss=0.786, accuracy=0.784]\n",
      "Epoch 23/50: 100%|██████████| 80/80 [00:00<00:00, 127.36batch/s, loss=0.621, accuracy=0.806]\n",
      "Epoch 24/50: 100%|██████████| 80/80 [00:00<00:00, 146.32batch/s, loss=0.591, accuracy=0.823]\n",
      "Epoch 25/50: 100%|██████████| 80/80 [00:00<00:00, 133.35batch/s, loss=0.928, accuracy=0.852]\n",
      "Epoch 26/50: 100%|██████████| 80/80 [00:00<00:00, 140.09batch/s, loss=0.477, accuracy=0.847]\n",
      "Epoch 27/50: 100%|██████████| 80/80 [00:00<00:00, 124.82batch/s, loss=0.614, accuracy=0.875]\n",
      "Epoch 28/50: 100%|██████████| 80/80 [00:00<00:00, 144.59batch/s, loss=1.02, accuracy=0.884]\n",
      "Epoch 29/50: 100%|██████████| 80/80 [00:00<00:00, 136.37batch/s, loss=0.146, accuracy=0.902]\n",
      "Epoch 30/50: 100%|██████████| 80/80 [00:00<00:00, 131.76batch/s, loss=0.26, accuracy=0.919]\n",
      "Epoch 31/50: 100%|██████████| 80/80 [00:00<00:00, 126.58batch/s, loss=0.226, accuracy=0.906]\n",
      "Epoch 32/50: 100%|██████████| 80/80 [00:00<00:00, 138.85batch/s, loss=0.538, accuracy=0.928]\n",
      "Epoch 33/50: 100%|██████████| 80/80 [00:00<00:00, 126.17batch/s, loss=0.574, accuracy=0.936]\n",
      "Epoch 34/50: 100%|██████████| 80/80 [00:00<00:00, 129.09batch/s, loss=0.263, accuracy=0.938]\n",
      "Epoch 35/50: 100%|██████████| 80/80 [00:00<00:00, 133.53batch/s, loss=0.84, accuracy=0.945]\n",
      "Epoch 36/50: 100%|██████████| 80/80 [00:00<00:00, 132.63batch/s, loss=0.174, accuracy=0.966]\n",
      "Epoch 37/50: 100%|██████████| 80/80 [00:00<00:00, 134.88batch/s, loss=0.0827, accuracy=0.95]\n",
      "Epoch 38/50: 100%|██████████| 80/80 [00:00<00:00, 131.34batch/s, loss=0.295, accuracy=0.959]\n",
      "Epoch 39/50: 100%|██████████| 80/80 [00:00<00:00, 127.95batch/s, loss=0.399, accuracy=0.973]\n",
      "Epoch 40/50: 100%|██████████| 80/80 [00:00<00:00, 134.99batch/s, loss=0.107, accuracy=0.972]\n",
      "Epoch 41/50: 100%|██████████| 80/80 [00:00<00:00, 143.30batch/s, loss=0.0383, accuracy=0.97]\n",
      "Epoch 42/50: 100%|██████████| 80/80 [00:00<00:00, 127.37batch/s, loss=0.131, accuracy=0.98]\n",
      "Epoch 43/50: 100%|██████████| 80/80 [00:00<00:00, 138.77batch/s, loss=0.0338, accuracy=0.98]\n",
      "Epoch 44/50: 100%|██████████| 80/80 [00:00<00:00, 135.97batch/s, loss=0.131, accuracy=0.98]\n",
      "Epoch 45/50: 100%|██████████| 80/80 [00:00<00:00, 127.59batch/s, loss=0.0122, accuracy=0.978]\n",
      "Epoch 46/50: 100%|██████████| 80/80 [00:00<00:00, 130.16batch/s, loss=0.244, accuracy=0.986]\n",
      "Epoch 47/50: 100%|██████████| 80/80 [00:00<00:00, 135.79batch/s, loss=0.119, accuracy=0.981]\n",
      "Epoch 48/50: 100%|██████████| 80/80 [00:00<00:00, 117.05batch/s, loss=0.116, accuracy=0.991]\n",
      "Epoch 49/50: 100%|██████████| 80/80 [00:00<00:00, 140.19batch/s, loss=0.0641, accuracy=0.991]\n",
      "Epoch 50/50: 100%|██████████| 80/80 [00:00<00:00, 129.78batch/s, loss=0.0174, accuracy=0.98]\n"
     ]
    }
   ],
   "source": [
    "history = model.fit(x_train, y_train, 8, 50)"
   ]
  },
  {
   "cell_type": "code",
   "execution_count": 48,
   "metadata": {},
   "outputs": [
    {
     "name": "stdout",
     "output_type": "stream",
     "text": [
      "Accuracy of clean data : 0.975\n",
      "Accuracy of adversarial data : 0.475\n"
     ]
    }
   ],
   "source": [
    "print(\"Accuracy of clean data : {}\".format(model.evaluate(x_test, y_test)))\n",
    "\n",
    "adv_x = FGSM(model, x_test, y_test)\n",
    "print(\"Accuracy of adversarial data : {}\".format(model.evaluate(adv_x, y_test)))"
   ]
  },
  {
   "cell_type": "code",
   "execution_count": 49,
   "metadata": {},
   "outputs": [],
   "source": [
    "torch.save(model, \"base_model.pt\")"
   ]
  },
  {
   "cell_type": "code",
   "execution_count": 50,
   "metadata": {},
   "outputs": [],
   "source": [
    "class AdversarialModel(BaseModel):\n",
    "    def __init__(self, base_model, FGSM):\n",
    "        super().__init__()\n",
    "        self.base_model = base_model\n",
    "        self.fgsm = FGSM\n",
    "\n",
    "    def forward(self, inputs):\n",
    "        if self.training:\n",
    "            x, y = inputs \n",
    "            adv_x = self.fgsm(self.base_model, x, y)  \n",
    "            clean_preds = self.base_model(x)\n",
    "            adv_preds = self.base_model(adv_x)\n",
    "            return (clean_preds, adv_preds)\n",
    "        else:\n",
    "            if isinstance(inputs, torch.Tensor):\n",
    "                x = inputs\n",
    "            else:\n",
    "                x, _ = inputs\n",
    "            return self.base_model(x)"
   ]
  },
  {
   "cell_type": "code",
   "execution_count": 51,
   "metadata": {},
   "outputs": [],
   "source": [
    "class AdversarialLoss(torch.nn.Module):\n",
    "    def __init__(self, alpha):\n",
    "        super().__init__()\n",
    "        self.loss_func = torch.nn.CrossEntropyLoss()\n",
    "        self.alpha = alpha\n",
    "\n",
    "    def forward(self, y_pred, y_true):\n",
    "        clean_preds, adv_preds = y_pred\n",
    "        loss_clean = self.loss_func(clean_preds, y_true)\n",
    "        loss_adv = self.loss_func(adv_preds, y_true)\n",
    "        return self.alpha * loss_clean + (1-self.alpha) * loss_adv"
   ]
  },
  {
   "cell_type": "code",
   "execution_count": null,
   "metadata": {},
   "outputs": [],
   "source": [
    "model_adv = AdversarialModel(torch.load(\"base_model.pt\"), FGSM).to(device)\n",
    "opt_adv = torch.optim.Adam(model_adv.parameters())\n",
    "model_adv.compile(opt_adv, AdversarialLoss(0.5), CategoryAccuracy(len(folders)), device=device)"
   ]
  },
  {
   "cell_type": "code",
   "execution_count": 53,
   "metadata": {},
   "outputs": [
    {
     "name": "stderr",
     "output_type": "stream",
     "text": [
      "Epoch 1/50: 100%|██████████| 80/80 [00:01<00:00, 57.38batch/s, loss=1.09, accuracy=0.895]\n",
      "Epoch 2/50: 100%|██████████| 80/80 [00:01<00:00, 65.17batch/s, loss=0.697, accuracy=0.93]\n",
      "Epoch 3/50: 100%|██████████| 80/80 [00:01<00:00, 65.85batch/s, loss=0.799, accuracy=0.939]\n",
      "Epoch 4/50: 100%|██████████| 80/80 [00:01<00:00, 56.11batch/s, loss=0.545, accuracy=0.939]\n",
      "Epoch 5/50: 100%|██████████| 80/80 [00:01<00:00, 57.20batch/s, loss=0.637, accuracy=0.958]\n",
      "Epoch 6/50: 100%|██████████| 80/80 [00:01<00:00, 53.03batch/s, loss=0.557, accuracy=0.952]\n",
      "Epoch 7/50: 100%|██████████| 80/80 [00:01<00:00, 55.35batch/s, loss=0.449, accuracy=0.969]\n",
      "Epoch 8/50: 100%|██████████| 80/80 [00:01<00:00, 65.27batch/s, loss=0.277, accuracy=0.964]\n",
      "Epoch 9/50: 100%|██████████| 80/80 [00:01<00:00, 66.02batch/s, loss=1.4, accuracy=0.953]\n",
      "Epoch 10/50: 100%|██████████| 80/80 [00:01<00:00, 64.43batch/s, loss=0.418, accuracy=0.978]\n",
      "Epoch 11/50: 100%|██████████| 80/80 [00:01<00:00, 67.00batch/s, loss=1.24, accuracy=0.981]\n",
      "Epoch 12/50: 100%|██████████| 80/80 [00:01<00:00, 67.30batch/s, loss=0.432, accuracy=0.984]\n",
      "Epoch 13/50: 100%|██████████| 80/80 [00:01<00:00, 66.64batch/s, loss=0.118, accuracy=0.963]\n",
      "Epoch 14/50: 100%|██████████| 80/80 [00:01<00:00, 68.27batch/s, loss=0.55, accuracy=0.983]\n",
      "Epoch 15/50: 100%|██████████| 80/80 [00:01<00:00, 65.22batch/s, loss=0.235, accuracy=0.98]\n",
      "Epoch 16/50: 100%|██████████| 80/80 [00:01<00:00, 67.57batch/s, loss=0.69, accuracy=0.966]\n",
      "Epoch 17/50: 100%|██████████| 80/80 [00:01<00:00, 65.80batch/s, loss=0.283, accuracy=0.991]\n",
      "Epoch 18/50: 100%|██████████| 80/80 [00:01<00:00, 55.33batch/s, loss=0.476, accuracy=0.986]\n",
      "Epoch 19/50: 100%|██████████| 80/80 [00:01<00:00, 55.64batch/s, loss=0.119, accuracy=0.989]\n",
      "Epoch 20/50: 100%|██████████| 80/80 [00:01<00:00, 56.06batch/s, loss=0.662, accuracy=0.984]\n",
      "Epoch 21/50: 100%|██████████| 80/80 [00:01<00:00, 54.71batch/s, loss=0.252, accuracy=0.997]\n",
      "Epoch 22/50: 100%|██████████| 80/80 [00:01<00:00, 56.39batch/s, loss=0.655, accuracy=0.995]\n",
      "Epoch 23/50: 100%|██████████| 80/80 [00:01<00:00, 58.38batch/s, loss=0.241, accuracy=0.986]\n",
      "Epoch 24/50: 100%|██████████| 80/80 [00:01<00:00, 58.44batch/s, loss=0.515, accuracy=0.98]\n",
      "Epoch 25/50: 100%|██████████| 80/80 [00:01<00:00, 55.69batch/s, loss=0.103, accuracy=0.991]\n",
      "Epoch 26/50: 100%|██████████| 80/80 [00:01<00:00, 58.47batch/s, loss=0.396, accuracy=0.994]\n",
      "Epoch 27/50: 100%|██████████| 80/80 [00:01<00:00, 60.84batch/s, loss=1.18, accuracy=0.978]\n",
      "Epoch 28/50: 100%|██████████| 80/80 [00:01<00:00, 57.61batch/s, loss=0.189, accuracy=0.989]\n",
      "Epoch 29/50: 100%|██████████| 80/80 [00:01<00:00, 61.19batch/s, loss=0.244, accuracy=0.994]\n",
      "Epoch 30/50: 100%|██████████| 80/80 [00:01<00:00, 59.84batch/s, loss=0.287, accuracy=0.992]\n",
      "Epoch 31/50: 100%|██████████| 80/80 [00:01<00:00, 62.11batch/s, loss=0.13, accuracy=0.994]\n",
      "Epoch 32/50: 100%|██████████| 80/80 [00:01<00:00, 58.15batch/s, loss=0.658, accuracy=0.998]\n",
      "Epoch 33/50: 100%|██████████| 80/80 [00:01<00:00, 59.76batch/s, loss=0.439, accuracy=0.997]\n",
      "Epoch 34/50: 100%|██████████| 80/80 [00:01<00:00, 62.46batch/s, loss=0.188, accuracy=0.994]\n",
      "Epoch 35/50: 100%|██████████| 80/80 [00:01<00:00, 60.75batch/s, loss=0.113, accuracy=0.997]\n",
      "Epoch 36/50: 100%|██████████| 80/80 [00:01<00:00, 55.16batch/s, loss=0.349, accuracy=0.995]\n",
      "Epoch 37/50: 100%|██████████| 80/80 [00:01<00:00, 60.78batch/s, loss=0.576, accuracy=0.997]\n",
      "Epoch 38/50: 100%|██████████| 80/80 [00:01<00:00, 61.57batch/s, loss=0.129, accuracy=0.997]\n",
      "Epoch 39/50: 100%|██████████| 80/80 [00:01<00:00, 59.10batch/s, loss=1.09, accuracy=0.983]\n",
      "Epoch 40/50: 100%|██████████| 80/80 [00:01<00:00, 61.45batch/s, loss=0.175, accuracy=0.992]\n",
      "Epoch 41/50: 100%|██████████| 80/80 [00:01<00:00, 57.84batch/s, loss=0.0611, accuracy=0.998]\n",
      "Epoch 42/50: 100%|██████████| 80/80 [00:01<00:00, 60.48batch/s, loss=0.0809, accuracy=0.998]\n",
      "Epoch 43/50: 100%|██████████| 80/80 [00:01<00:00, 57.50batch/s, loss=0.33, accuracy=0.998]\n",
      "Epoch 44/50: 100%|██████████| 80/80 [00:01<00:00, 53.62batch/s, loss=0.216, accuracy=0.998]\n",
      "Epoch 45/50: 100%|██████████| 80/80 [00:01<00:00, 56.60batch/s, loss=0.144, accuracy=0.997]\n",
      "Epoch 46/50: 100%|██████████| 80/80 [00:01<00:00, 60.02batch/s, loss=0.0531, accuracy=0.995]\n",
      "Epoch 47/50: 100%|██████████| 80/80 [00:01<00:00, 55.62batch/s, loss=0.189, accuracy=0.998]\n",
      "Epoch 48/50: 100%|██████████| 80/80 [00:01<00:00, 56.49batch/s, loss=0.0927, accuracy=0.998]\n",
      "Epoch 49/50: 100%|██████████| 80/80 [00:01<00:00, 58.82batch/s, loss=0.142, accuracy=1]\n",
      "Epoch 50/50: 100%|██████████| 80/80 [00:01<00:00, 56.90batch/s, loss=0.16, accuracy=0.997]\n"
     ]
    }
   ],
   "source": [
    "history_adv = model_adv.fit((x_train, y_train), y_train, 8, 50)"
   ]
  },
  {
   "cell_type": "code",
   "execution_count": 54,
   "metadata": {},
   "outputs": [
    {
     "name": "stdout",
     "output_type": "stream",
     "text": [
      "Accuracy of clean data : 1.0\n",
      "Accuracy of adversarial data : 0.9625\n"
     ]
    }
   ],
   "source": [
    "print(\"Accuracy of clean data : {}\".format(model_adv.evaluate(x_test, y_test)))\n",
    "\n",
    "adv_x = FGSM(model_adv, x_test, y_test)\n",
    "print(\"Accuracy of adversarial data : {}\".format(model_adv.evaluate(adv_x, y_test)))"
   ]
  },
  {
   "cell_type": "code",
   "execution_count": 55,
   "metadata": {},
   "outputs": [],
   "source": [
    "def display_images(img, adv_img, model, model_adv):\n",
    "    model.eval()\n",
    "    model_adv.eval()\n",
    "    fig, axes = plt.subplots(2, 2)\n",
    "    epsilons = [0, eps]\n",
    "    descriptions = ['Epsilon = {:0.3f}'.format(eps) for eps in epsilons]\n",
    "    for i in range(2):\n",
    "        for j in range(2):\n",
    "            description = \"Origin Model, \" + descriptions[i] if j == 0 else \"Adv Model, \" + descriptions[i]\n",
    "            if i == 0:\n",
    "                pred = model(img) if j == 0 else model_adv(img)\n",
    "                label = torch.argmax(pred, -1).item()\n",
    "                confidence = torch.softmax(pred, -1)[0, label]\n",
    "                axes[i, j].imshow(cv2.cvtColor(torch.permute(img, [0, 2, 3, 1])[0].detach().numpy(), cv2.COLOR_BGR2RGB))\n",
    "                axes[i, j].set_title('{} \\n {} : {:.2f}% Confidence'.format(description, label, confidence*100))\n",
    "                axes[i, j].axis('off')\n",
    "            else:\n",
    "                pred = model(adv_img[0]) if j == 0 else model_adv(adv_img[1])\n",
    "                label = torch.argmax(pred, -1).item()\n",
    "                confidence = torch.softmax(pred, -1)[0, label]\n",
    "                axes[i, j].imshow(cv2.cvtColor(torch.permute(adv_img[j], [0, 2, 3, 1])[0].detach().numpy(), cv2.COLOR_BGR2RGB))\n",
    "                axes[i, j].set_title('{} \\n {} : {:.2f}% Confidence'.format(description, label, confidence*100))\n",
    "                axes[i, j].axis('off')\n",
    "    plt.tight_layout()\n",
    "    plt.show()"
   ]
  },
  {
   "cell_type": "code",
   "execution_count": 56,
   "metadata": {},
   "outputs": [
    {
     "name": "stdout",
     "output_type": "stream",
     "text": [
      "True Label : 30\n"
     ]
    },
    {
     "data": {
      "image/png": "[encoded data removed]",
      "text/plain": [
       "<Figure size 640x480 with 4 Axes>"
      ]
     },
     "metadata": {},
     "output_type": "display_data"
    }
   ],
   "source": [
    "model.eval()\n",
    "model_adv.eval()\n",
    "adv_x1 = FGSM(model, x_test, y_test)\n",
    "adv_x2 = FGSM(model_adv, x_test, y_test)\n",
    "\n",
    "for i in range(x_test.shape[0]):\n",
    "    img = x_test[i:i+1]\n",
    "    label = y_test[i:i+1]\n",
    "    if(torch.argmax(model(img), -1)[0] == label):\n",
    "        adv_x = [adv_x1[i:i+1], adv_x2[i:i+1]]\n",
    "        if(torch.argmax(model(img), -1)[0] != torch.argmax(model(adv_x[0]), -1)[0]):\n",
    "            if(torch.argmax(model_adv(img), -1)[0] == torch.argmax(model_adv(adv_x[1]), -1)[0]):\n",
    "                print(\"True Label : {}\".format(label.item()))\n",
    "                display_images(img, adv_x, model, model_adv)\n",
    "                break\n"
   ]
  }
 ],
 "metadata": {
  "kernelspec": {
   "display_name": "pytorch",
   "language": "python",
   "name": "python3"
  },
  "language_info": {
   "codemirror_mode": {
    "name": "ipython",
    "version": 3
   },
   "file_extension": ".py",
   "mimetype": "text/x-python",
   "name": "python",
   "nbconvert_exporter": "python",
   "pygments_lexer": "ipython3",
   "version": "3.12.8"
  }
 },
 "nbformat": 4,
 "nbformat_minor": 2
}
