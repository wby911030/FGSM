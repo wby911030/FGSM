{
 "cells": [
  {
   "cell_type": "code",
   "execution_count": 13,
   "metadata": {},
   "outputs": [
    {
     "name": "stdout",
     "output_type": "stream",
     "text": [
      "Using cpu device\n"
     ]
    }
   ],
   "source": [
    "import torch\n",
    "import numpy as np\n",
    "from sklearn.model_selection import train_test_split\n",
    "import cv2\n",
    "import os\n",
    "import matplotlib.pyplot as plt\n",
    "from utils.model import BaseModel\n",
    "from utils.metrics import CategoryAccuracy\n",
    "\n",
    "device = \"cuda\" if torch.cuda.is_available() else \"cpu\"   \n",
    "print(f\"Using {device} device\")"
   ]
  },
  {
   "cell_type": "code",
   "execution_count": 14,
   "metadata": {},
   "outputs": [],
   "source": [
    "eps = 0.01\n",
    "\n",
    "def FGSM(model, x, y, loss_func = torch.nn.CrossEntropyLoss(), epsilon = eps):\n",
    "    model.eval()\n",
    "    x.requires_grad = True\n",
    "    pred = model(x)\n",
    "    loss = loss_func(pred, y)\n",
    "    loss.backward()\n",
    "    signed_grad = torch.sign(x.grad)\n",
    "    adv_x = x + epsilon * signed_grad\n",
    "    adv_x = torch.clamp(adv_x, 0.0, 1.0)\n",
    "    return adv_x"
   ]
  },
  {
   "cell_type": "code",
   "execution_count": 15,
   "metadata": {},
   "outputs": [
    {
     "name": "stdout",
     "output_type": "stream",
     "text": [
      "done\n"
     ]
    }
   ],
   "source": [
    "path = \"../ORL3232/\"\n",
    "folders = sorted(os.listdir(path)[:-1], key = lambda x : int(x))\n",
    "\n",
    "imgs = []\n",
    "labels = []\n",
    "\n",
    "for folder in folders:\n",
    "    p = path + folder + '/'\n",
    "    files = os.listdir(p)\n",
    "    files = [p+x for x in files if x.endswith(\".bmp\")]\n",
    "    for file in files:\n",
    "        img = cv2.imread(file, 0) / 255.0\n",
    "        imgs.append(np.reshape(img, [32, 32, 1]))\n",
    "        labels.append(int(folder) - 1)\n",
    "\n",
    "print(\"done\")"
   ]
  },
  {
   "cell_type": "code",
   "execution_count": 16,
   "metadata": {},
   "outputs": [],
   "source": [
    "x_data = imgs.copy() * 2\n",
    "y_data = labels.copy() * 2\n",
    "\n",
    "x_train, x_test, y_train, y_test = train_test_split(x_data, y_data, test_size=0.2)\n",
    "\n",
    "x_train = torch.tensor(np.array(x_train), dtype=torch.float32)\n",
    "x_train = torch.permute(x_train, [0, 3, 1, 2])\n",
    "y_train = torch.tensor(np.array(y_train), dtype=torch.int64)\n",
    "\n",
    "x_test = torch.tensor(np.array(x_test), dtype=torch.float32)\n",
    "x_test = torch.permute(x_test, [0, 3, 1, 2])\n",
    "y_test = torch.tensor(np.array(y_test), dtype=torch.int64)\n",
    "\n",
    "assert x_train.shape[0] == y_train.shape[0]"
   ]
  },
  {
   "cell_type": "code",
   "execution_count": 17,
   "metadata": {},
   "outputs": [],
   "source": [
    "class Model(BaseModel):\n",
    "    def __init__(self, *args, **kwargs):\n",
    "        super().__init__(*args, **kwargs)\n",
    "        self.pool = torch.nn.MaxPool2d(2)\n",
    "        self.flat = torch.nn.Flatten()\n",
    "        self.relu = torch.nn.ReLU()\n",
    "        self.conv1 = torch.nn.Conv2d(1, 24, 3)\n",
    "        self.conv2 = torch.nn.Conv2d(24, 16, 3)\n",
    "        self.conv3 = torch.nn.Conv2d(16, 12, 3)\n",
    "        self.linear1 = None\n",
    "        self.linear2 = torch.nn.Linear(64, 64)\n",
    "        self.linear3 = torch.nn.Linear(64, 40)\n",
    "    \n",
    "    def forward(self, input):\n",
    "        x = input\n",
    "        x = self.relu(self.pool(self.conv1(x)))\n",
    "        x = self.relu(self.pool(self.conv2(x)))\n",
    "        x = self.relu(self.pool(self.conv3(x)))\n",
    "        x = self.flat(x)\n",
    "        if self.linear1 is None:\n",
    "            self.linear1 = torch.nn.Linear(x.shape[1], 64).to(x.device)\n",
    "        x = self.relu(self.linear1(x))\n",
    "        x = self.relu(self.linear2(x))\n",
    "        x = self.linear3(x)\n",
    "        return x"
   ]
  },
  {
   "cell_type": "code",
   "execution_count": 18,
   "metadata": {},
   "outputs": [],
   "source": [
    "model = Model().to(device)\n",
    "opt = torch.optim.Adam(model.parameters())\n",
    "model.compile(opt, torch.nn.CrossEntropyLoss(), CategoryAccuracy(len(folders)), device)"
   ]
  },
  {
   "cell_type": "code",
   "execution_count": 19,
   "metadata": {},
   "outputs": [
    {
     "name": "stderr",
     "output_type": "stream",
     "text": [
      "Epoch 1/50: 100%|██████████| 80/80 [00:00<00:00, 122.52batch/s, loss=3.69, accuracy=0.0219]\n",
      "Epoch 2/50: 100%|██████████| 80/80 [00:00<00:00, 139.76batch/s, loss=3.71, accuracy=0.0172]\n",
      "Epoch 3/50: 100%|██████████| 80/80 [00:00<00:00, 154.93batch/s, loss=3.66, accuracy=0.0391]\n",
      "Epoch 4/50: 100%|██████████| 80/80 [00:00<00:00, 150.16batch/s, loss=3.45, accuracy=0.0406]\n",
      "Epoch 5/50: 100%|██████████| 80/80 [00:00<00:00, 140.48batch/s, loss=2.77, accuracy=0.0953]\n",
      "Epoch 6/50: 100%|██████████| 80/80 [00:00<00:00, 150.15batch/s, loss=2.47, accuracy=0.188]\n",
      "Epoch 7/50: 100%|██████████| 80/80 [00:00<00:00, 151.95batch/s, loss=2.2, accuracy=0.281]\n",
      "Epoch 8/50: 100%|██████████| 80/80 [00:00<00:00, 156.46batch/s, loss=2.76, accuracy=0.344]\n",
      "Epoch 9/50: 100%|██████████| 80/80 [00:00<00:00, 139.06batch/s, loss=2.28, accuracy=0.405]\n",
      "Epoch 10/50: 100%|██████████| 80/80 [00:00<00:00, 152.65batch/s, loss=2.07, accuracy=0.467]\n",
      "Epoch 11/50: 100%|██████████| 80/80 [00:00<00:00, 142.77batch/s, loss=1.28, accuracy=0.5]\n",
      "Epoch 12/50: 100%|██████████| 80/80 [00:00<00:00, 148.77batch/s, loss=2.24, accuracy=0.562]\n",
      "Epoch 13/50: 100%|██████████| 80/80 [00:00<00:00, 131.93batch/s, loss=0.613, accuracy=0.609]\n",
      "Epoch 14/50: 100%|██████████| 80/80 [00:00<00:00, 148.21batch/s, loss=0.671, accuracy=0.619]\n",
      "Epoch 15/50: 100%|██████████| 80/80 [00:00<00:00, 130.62batch/s, loss=1.2, accuracy=0.652]\n",
      "Epoch 16/50: 100%|██████████| 80/80 [00:00<00:00, 147.64batch/s, loss=0.519, accuracy=0.67]\n",
      "Epoch 17/50: 100%|██████████| 80/80 [00:00<00:00, 117.65batch/s, loss=1.27, accuracy=0.706]\n",
      "Epoch 18/50: 100%|██████████| 80/80 [00:00<00:00, 141.54batch/s, loss=1.58, accuracy=0.717]\n",
      "Epoch 19/50: 100%|██████████| 80/80 [00:00<00:00, 133.49batch/s, loss=1.39, accuracy=0.736]\n",
      "Epoch 20/50: 100%|██████████| 80/80 [00:00<00:00, 142.63batch/s, loss=0.644, accuracy=0.734]\n",
      "Epoch 21/50: 100%|██████████| 80/80 [00:00<00:00, 120.83batch/s, loss=0.449, accuracy=0.792]\n",
      "Epoch 22/50: 100%|██████████| 80/80 [00:00<00:00, 129.06batch/s, loss=0.567, accuracy=0.806]\n",
      "Epoch 23/50: 100%|██████████| 80/80 [00:00<00:00, 120.63batch/s, loss=0.293, accuracy=0.803]\n",
      "Epoch 24/50: 100%|██████████| 80/80 [00:00<00:00, 118.84batch/s, loss=0.499, accuracy=0.828]\n",
      "Epoch 25/50: 100%|██████████| 80/80 [00:00<00:00, 122.83batch/s, loss=1.08, accuracy=0.848]\n",
      "Epoch 26/50: 100%|██████████| 80/80 [00:00<00:00, 127.21batch/s, loss=0.812, accuracy=0.85]\n",
      "Epoch 27/50: 100%|██████████| 80/80 [00:00<00:00, 127.19batch/s, loss=0.838, accuracy=0.875]\n",
      "Epoch 28/50: 100%|██████████| 80/80 [00:00<00:00, 126.38batch/s, loss=0.456, accuracy=0.9]\n",
      "Epoch 29/50: 100%|██████████| 80/80 [00:00<00:00, 142.61batch/s, loss=0.0823, accuracy=0.884]\n",
      "Epoch 30/50: 100%|██████████| 80/80 [00:00<00:00, 127.13batch/s, loss=0.605, accuracy=0.898]\n",
      "Epoch 31/50: 100%|██████████| 80/80 [00:00<00:00, 127.92batch/s, loss=0.648, accuracy=0.916]\n",
      "Epoch 32/50: 100%|██████████| 80/80 [00:00<00:00, 126.98batch/s, loss=0.291, accuracy=0.942]\n",
      "Epoch 33/50: 100%|██████████| 80/80 [00:00<00:00, 102.52batch/s, loss=0.187, accuracy=0.927]\n",
      "Epoch 34/50: 100%|██████████| 80/80 [00:00<00:00, 132.20batch/s, loss=0.171, accuracy=0.952]\n",
      "Epoch 35/50: 100%|██████████| 80/80 [00:00<00:00, 128.04batch/s, loss=0.191, accuracy=0.939]\n",
      "Epoch 36/50: 100%|██████████| 80/80 [00:00<00:00, 129.36batch/s, loss=0.119, accuracy=0.961]\n",
      "Epoch 37/50: 100%|██████████| 80/80 [00:00<00:00, 120.31batch/s, loss=0.128, accuracy=0.973]\n",
      "Epoch 38/50: 100%|██████████| 80/80 [00:00<00:00, 142.29batch/s, loss=0.11, accuracy=0.95]\n",
      "Epoch 39/50: 100%|██████████| 80/80 [00:00<00:00, 119.93batch/s, loss=0.172, accuracy=0.981]\n",
      "Epoch 40/50: 100%|██████████| 80/80 [00:00<00:00, 140.79batch/s, loss=0.25, accuracy=0.977]\n",
      "Epoch 41/50: 100%|██████████| 80/80 [00:00<00:00, 127.07batch/s, loss=0.584, accuracy=0.961]\n",
      "Epoch 42/50: 100%|██████████| 80/80 [00:00<00:00, 127.28batch/s, loss=0.0651, accuracy=0.967]\n",
      "Epoch 43/50: 100%|██████████| 80/80 [00:00<00:00, 129.42batch/s, loss=0.206, accuracy=0.978]\n",
      "Epoch 44/50: 100%|██████████| 80/80 [00:00<00:00, 128.51batch/s, loss=0.0536, accuracy=0.981]\n",
      "Epoch 45/50: 100%|██████████| 80/80 [00:00<00:00, 131.32batch/s, loss=0.0925, accuracy=0.984]\n",
      "Epoch 46/50: 100%|██████████| 80/80 [00:00<00:00, 130.31batch/s, loss=0.0378, accuracy=0.989]\n",
      "Epoch 47/50: 100%|██████████| 80/80 [00:00<00:00, 135.42batch/s, loss=0.092, accuracy=0.973]\n",
      "Epoch 48/50: 100%|██████████| 80/80 [00:00<00:00, 119.79batch/s, loss=0.0512, accuracy=0.984]\n",
      "Epoch 49/50: 100%|██████████| 80/80 [00:00<00:00, 142.16batch/s, loss=0.0566, accuracy=0.997]\n",
      "Epoch 50/50: 100%|██████████| 80/80 [00:00<00:00, 120.66batch/s, loss=0.0572, accuracy=0.997]\n"
     ]
    }
   ],
   "source": [
    "history = model.fit(x_train, y_train, 8, 50)"
   ]
  },
  {
   "cell_type": "code",
   "execution_count": 20,
   "metadata": {},
   "outputs": [
    {
     "name": "stdout",
     "output_type": "stream",
     "text": [
      "Accuracy of clean data : 0.9625\n",
      "Accuracy of adversarial data : 0.44375\n"
     ]
    }
   ],
   "source": [
    "print(\"Accuracy of clean data : {}\".format(model.evaluate(x_test, y_test)))\n",
    "\n",
    "adv_x = FGSM(model, x_test, y_test)\n",
    "print(\"Accuracy of adversarial data : {}\".format(model.evaluate(adv_x, y_test)))"
   ]
  },
  {
   "cell_type": "code",
   "execution_count": 21,
   "metadata": {},
   "outputs": [],
   "source": [
    "torch.save(model, \"base_model.pt\")"
   ]
  },
  {
   "cell_type": "code",
   "execution_count": 22,
   "metadata": {},
   "outputs": [],
   "source": [
    "class AdversarialModel(BaseModel):\n",
    "    def __init__(self, base_model, FGSM):\n",
    "        super().__init__()\n",
    "        self.base_model = base_model\n",
    "        self.fgsm = FGSM\n",
    "\n",
    "    def forward(self, inputs):\n",
    "        if self.training:\n",
    "            x, y = inputs \n",
    "            adv_x = self.fgsm(self.base_model, x, y)  \n",
    "            clean_preds = self.base_model(x)\n",
    "            adv_preds = self.base_model(adv_x)\n",
    "            return (clean_preds, adv_preds)\n",
    "        else:\n",
    "            try:\n",
    "                x, _ = inputs\n",
    "            except:\n",
    "                x = inputs \n",
    "            return self.base_model(x)"
   ]
  },
  {
   "cell_type": "code",
   "execution_count": 23,
   "metadata": {},
   "outputs": [],
   "source": [
    "class AdversarialLoss(torch.nn.Module):\n",
    "    def __init__(self):\n",
    "        super().__init__()\n",
    "        self.loss_func = torch.nn.CrossEntropyLoss()\n",
    "\n",
    "    def forward(self, y_pred, y_true):\n",
    "        clean_preds, adv_preds = y_pred\n",
    "        loss_clean = self.loss_func(clean_preds, y_true)\n",
    "        loss_adv = self.loss_func(adv_preds, y_true)\n",
    "        return 0.5 * loss_clean + 0.5 * loss_adv"
   ]
  },
  {
   "cell_type": "code",
   "execution_count": null,
   "metadata": {},
   "outputs": [],
   "source": [
    "model_adv = AdversarialModel(torch.load(\"base_model.pt\"), FGSM).to(device)\n",
    "opt_adv = torch.optim.Adam(model_adv.parameters())\n",
    "model_adv.compile(opt_adv, AdversarialLoss(), CategoryAccuracy(len(folders)), device=device)"
   ]
  },
  {
   "cell_type": "code",
   "execution_count": 25,
   "metadata": {},
   "outputs": [
    {
     "name": "stderr",
     "output_type": "stream",
     "text": [
      "Epoch 1/50: 100%|██████████| 80/80 [00:01<00:00, 63.74batch/s, loss=0.6, accuracy=0.941]\n",
      "Epoch 2/50: 100%|██████████| 80/80 [00:01<00:00, 65.84batch/s, loss=0.571, accuracy=0.938]\n",
      "Epoch 3/50: 100%|██████████| 80/80 [00:01<00:00, 61.08batch/s, loss=0.614, accuracy=0.953]\n",
      "Epoch 4/50: 100%|██████████| 80/80 [00:01<00:00, 56.97batch/s, loss=0.489, accuracy=0.975]\n",
      "Epoch 5/50: 100%|██████████| 80/80 [00:01<00:00, 57.27batch/s, loss=0.304, accuracy=0.963]\n",
      "Epoch 6/50: 100%|██████████| 80/80 [00:01<00:00, 59.45batch/s, loss=0.51, accuracy=0.973]\n",
      "Epoch 7/50: 100%|██████████| 80/80 [00:01<00:00, 61.22batch/s, loss=0.58, accuracy=0.973]\n",
      "Epoch 8/50: 100%|██████████| 80/80 [00:01<00:00, 59.96batch/s, loss=0.221, accuracy=0.978]\n",
      "Epoch 9/50: 100%|██████████| 80/80 [00:01<00:00, 64.25batch/s, loss=0.229, accuracy=0.991]\n",
      "Epoch 10/50: 100%|██████████| 80/80 [00:01<00:00, 61.32batch/s, loss=0.743, accuracy=0.978]\n",
      "Epoch 11/50: 100%|██████████| 80/80 [00:01<00:00, 62.14batch/s, loss=0.381, accuracy=0.991]\n",
      "Epoch 12/50: 100%|██████████| 80/80 [00:01<00:00, 56.69batch/s, loss=0.325, accuracy=0.988]\n",
      "Epoch 13/50: 100%|██████████| 80/80 [00:01<00:00, 59.63batch/s, loss=0.919, accuracy=0.994]\n",
      "Epoch 14/50: 100%|██████████| 80/80 [00:01<00:00, 60.17batch/s, loss=0.512, accuracy=0.984]\n",
      "Epoch 15/50: 100%|██████████| 80/80 [00:01<00:00, 59.25batch/s, loss=0.421, accuracy=0.995]\n",
      "Epoch 16/50: 100%|██████████| 80/80 [00:01<00:00, 60.04batch/s, loss=0.344, accuracy=0.992]\n",
      "Epoch 17/50: 100%|██████████| 80/80 [00:01<00:00, 60.03batch/s, loss=0.342, accuracy=0.994]\n",
      "Epoch 18/50: 100%|██████████| 80/80 [00:01<00:00, 60.26batch/s, loss=0.206, accuracy=0.994]\n",
      "Epoch 19/50: 100%|██████████| 80/80 [00:01<00:00, 59.62batch/s, loss=0.348, accuracy=0.995]\n",
      "Epoch 20/50: 100%|██████████| 80/80 [00:01<00:00, 62.80batch/s, loss=0.644, accuracy=0.998]\n",
      "Epoch 21/50: 100%|██████████| 80/80 [00:01<00:00, 58.70batch/s, loss=0.131, accuracy=0.992]\n",
      "Epoch 22/50: 100%|██████████| 80/80 [00:01<00:00, 61.72batch/s, loss=0.0606, accuracy=0.997]\n",
      "Epoch 23/50: 100%|██████████| 80/80 [00:01<00:00, 57.92batch/s, loss=0.148, accuracy=0.998]\n",
      "Epoch 24/50: 100%|██████████| 80/80 [00:01<00:00, 58.67batch/s, loss=0.192, accuracy=0.994]\n",
      "Epoch 25/50: 100%|██████████| 80/80 [00:01<00:00, 59.67batch/s, loss=0.644, accuracy=0.998]\n",
      "Epoch 26/50: 100%|██████████| 80/80 [00:01<00:00, 59.17batch/s, loss=0.121, accuracy=0.998]\n",
      "Epoch 27/50: 100%|██████████| 80/80 [00:01<00:00, 58.18batch/s, loss=0.199, accuracy=1]\n",
      "Epoch 28/50: 100%|██████████| 80/80 [00:01<00:00, 58.61batch/s, loss=0.162, accuracy=0.995]\n",
      "Epoch 29/50: 100%|██████████| 80/80 [00:01<00:00, 58.10batch/s, loss=0.285, accuracy=0.992]\n",
      "Epoch 30/50: 100%|██████████| 80/80 [00:01<00:00, 56.18batch/s, loss=0.127, accuracy=0.998]\n",
      "Epoch 31/50: 100%|██████████| 80/80 [00:01<00:00, 57.51batch/s, loss=0.337, accuracy=0.998]\n",
      "Epoch 32/50: 100%|██████████| 80/80 [00:01<00:00, 57.54batch/s, loss=0.205, accuracy=0.992]\n",
      "Epoch 33/50: 100%|██████████| 80/80 [00:01<00:00, 58.73batch/s, loss=0.0527, accuracy=0.997]\n",
      "Epoch 34/50: 100%|██████████| 80/80 [00:01<00:00, 54.56batch/s, loss=0.825, accuracy=0.997]\n",
      "Epoch 35/50: 100%|██████████| 80/80 [00:01<00:00, 55.62batch/s, loss=0.221, accuracy=0.995]\n",
      "Epoch 36/50: 100%|██████████| 80/80 [00:01<00:00, 60.27batch/s, loss=0.0245, accuracy=1]\n",
      "Epoch 37/50: 100%|██████████| 80/80 [00:01<00:00, 61.03batch/s, loss=0.105, accuracy=1]\n",
      "Epoch 38/50: 100%|██████████| 80/80 [00:01<00:00, 58.26batch/s, loss=0.152, accuracy=0.998]\n",
      "Epoch 39/50: 100%|██████████| 80/80 [00:01<00:00, 61.95batch/s, loss=0.713, accuracy=0.997]\n",
      "Epoch 40/50: 100%|██████████| 80/80 [00:01<00:00, 58.71batch/s, loss=0.514, accuracy=0.997]\n",
      "Epoch 41/50: 100%|██████████| 80/80 [00:01<00:00, 47.97batch/s, loss=0.146, accuracy=1]\n",
      "Epoch 42/50: 100%|██████████| 80/80 [00:01<00:00, 58.49batch/s, loss=0.0837, accuracy=1]\n",
      "Epoch 43/50: 100%|██████████| 80/80 [00:01<00:00, 55.88batch/s, loss=0.14, accuracy=1]\n",
      "Epoch 44/50: 100%|██████████| 80/80 [00:01<00:00, 58.30batch/s, loss=0.441, accuracy=1]\n",
      "Epoch 45/50: 100%|██████████| 80/80 [00:01<00:00, 56.46batch/s, loss=0.131, accuracy=1]\n",
      "Epoch 46/50: 100%|██████████| 80/80 [00:01<00:00, 59.14batch/s, loss=0.0846, accuracy=1]\n",
      "Epoch 47/50: 100%|██████████| 80/80 [00:01<00:00, 58.26batch/s, loss=0.063, accuracy=0.998]\n",
      "Epoch 48/50: 100%|██████████| 80/80 [00:01<00:00, 50.65batch/s, loss=0.0163, accuracy=0.998]\n",
      "Epoch 49/50: 100%|██████████| 80/80 [00:01<00:00, 46.99batch/s, loss=0.0816, accuracy=1]\n",
      "Epoch 50/50: 100%|██████████| 80/80 [00:01<00:00, 47.52batch/s, loss=0.165, accuracy=1]\n"
     ]
    }
   ],
   "source": [
    "history_adv = model_adv.fit((x_train, y_train), y_train, 8, 50)"
   ]
  },
  {
   "cell_type": "code",
   "execution_count": 26,
   "metadata": {},
   "outputs": [
    {
     "name": "stdout",
     "output_type": "stream",
     "text": [
      "Accuracy of clean data : 0.975\n",
      "Accuracy of adversarial data : 0.79375\n"
     ]
    }
   ],
   "source": [
    "print(\"Accuracy of clean data : {}\".format(model_adv.evaluate(x_test, y_test)))\n",
    "\n",
    "adv_x = FGSM(model_adv, x_test, y_test)\n",
    "print(\"Accuracy of adversarial data : {}\".format(model_adv.evaluate(adv_x, y_test)))"
   ]
  },
  {
   "cell_type": "code",
   "execution_count": 27,
   "metadata": {},
   "outputs": [],
   "source": [
    "def display_images(img, adv_img, model, model_adv):\n",
    "    model.eval()\n",
    "    model_adv.eval()\n",
    "    fig, axes = plt.subplots(2, 2)\n",
    "    epsilons = [0, eps]\n",
    "    descriptions = ['Epsilon = {:0.3f}'.format(eps) for eps in epsilons]\n",
    "    for i in range(2):\n",
    "        for j in range(2):\n",
    "            description = \"Origin Model, \" + descriptions[i] if j == 0 else \"Adv Model, \" + descriptions[i]\n",
    "            if i == 0:\n",
    "                pred = model(img) if j == 0 else model_adv(img)\n",
    "                label = torch.argmax(pred, -1).item()\n",
    "                confidence = torch.softmax(pred, -1)[0, label]\n",
    "                axes[i, j].imshow(cv2.cvtColor(torch.permute(img, [0, 2, 3, 1])[0].detach().numpy(), cv2.COLOR_BGR2RGB))\n",
    "                axes[i, j].set_title('{} \\n {} : {:.2f}% Confidence'.format(description, label, confidence*100))\n",
    "                axes[i, j].axis('off')\n",
    "            else:\n",
    "                pred = model(adv_img[0]) if j == 0 else model_adv(adv_img[1])\n",
    "                label = torch.argmax(pred, -1).item()\n",
    "                confidence = torch.softmax(pred, -1)[0, label]\n",
    "                axes[i, j].imshow(cv2.cvtColor(torch.permute(adv_img[j], [0, 2, 3, 1])[0].detach().numpy(), cv2.COLOR_BGR2RGB))\n",
    "                axes[i, j].set_title('{} \\n {} : {:.2f}% Confidence'.format(description, label, confidence*100))\n",
    "                axes[i, j].axis('off')\n",
    "    plt.tight_layout()\n",
    "    plt.show()"
   ]
  },
  {
   "cell_type": "code",
   "execution_count": 28,
   "metadata": {},
   "outputs": [
    {
     "name": "stdout",
     "output_type": "stream",
     "text": [
      "True Label : 12\n"
     ]
    },
    {
     "data": {
      "image/png": "[encoded data removed]",
      "text/plain": [
       "<Figure size 640x480 with 4 Axes>"
      ]
     },
     "metadata": {},
     "output_type": "display_data"
    }
   ],
   "source": [
    "model.eval()\n",
    "model_adv.eval()\n",
    "adv_x1 = FGSM(model, x_test, y_test)\n",
    "adv_x2 = FGSM(model_adv, x_test, y_test)\n",
    "\n",
    "for i in range(x_test.shape[0]):\n",
    "    img = x_test[i:i+1]\n",
    "    label = y_test[i:i+1]\n",
    "    if(torch.argmax(model(img), -1)[0] == label):\n",
    "        adv_x = [adv_x1[i:i+1], adv_x2[i:i+1]]\n",
    "        if(torch.argmax(model(img), -1)[0] != torch.argmax(model(adv_x[0]), -1)[0]):\n",
    "            if(torch.argmax(model_adv(img), -1)[0] == torch.argmax(model_adv(adv_x[1]), -1)[0]):\n",
    "                print(\"True Label : {}\".format(label.item()))\n",
    "                display_images(img, adv_x, model, model_adv)\n",
    "                break\n"
   ]
  }
 ],
 "metadata": {
  "kernelspec": {
   "display_name": "pytorch",
   "language": "python",
   "name": "python3"
  },
  "language_info": {
   "codemirror_mode": {
    "name": "ipython",
    "version": 3
   },
   "file_extension": ".py",
   "mimetype": "text/x-python",
   "name": "python",
   "nbconvert_exporter": "python",
   "pygments_lexer": "ipython3",
   "version": "3.12.8"
  }
 },
 "nbformat": 4,
 "nbformat_minor": 2
}
