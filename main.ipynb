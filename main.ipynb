{
 "cells": [
  {
   "cell_type": "code",
   "execution_count": 11,
   "metadata": {},
   "outputs": [],
   "source": [
    "import tensorflow as tf\n",
    "from tensorflow import keras\n",
    "import numpy as np\n",
    "import cv2\n",
    "import os\n",
    "import matplotlib.pyplot as plt\n",
    "from sklearn.model_selection import train_test_split"
   ]
  },
  {
   "cell_type": "code",
   "execution_count": 12,
   "metadata": {},
   "outputs": [],
   "source": [
    "eps = 0.01\n",
    "\n",
    "def FGSM(model, x, y, epsilon = eps):\n",
    "    with tf.GradientTape() as tape:\n",
    "        tape.watch(x)\n",
    "        predictions = model(x)\n",
    "        loss = tf.keras.losses.categorical_crossentropy(y, predictions)\n",
    "    gradient = tape.gradient(loss, x)\n",
    "    signed_grad = tf.sign(gradient)\n",
    "    adv_x = x + epsilon * signed_grad\n",
    "    adv_x = tf.clip_by_value(adv_x, 0.0, 1.0)\n",
    "    return adv_x"
   ]
  },
  {
   "cell_type": "code",
   "execution_count": 13,
   "metadata": {},
   "outputs": [
    {
     "name": "stdout",
     "output_type": "stream",
     "text": [
      "done\n"
     ]
    }
   ],
   "source": [
    "path = \"./ORL3232/\"\n",
    "folders = sorted(os.listdir(path)[:-1], key = lambda x : int(x))\n",
    "\n",
    "imgs = []\n",
    "labels = []\n",
    "\n",
    "for folder in folders:\n",
    "    p = path + folder + '/'\n",
    "    files = os.listdir(p)\n",
    "    files = [p+x for x in files if x.endswith(\".bmp\")]\n",
    "    for file in files:\n",
    "        img = cv2.imread(file, 0) / 255.0\n",
    "        imgs.append(np.reshape(img, [32, 32, 1]))\n",
    "        labels.append(int(folder) - 1)\n",
    "\n",
    "print(\"done\")"
   ]
  },
  {
   "cell_type": "code",
   "execution_count": 14,
   "metadata": {},
   "outputs": [],
   "source": [
    "x_data = imgs.copy()\n",
    "y_data = labels.copy()\n",
    "\n",
    "x_train, x_test, y_train, y_test = train_test_split(x_data, y_data, test_size=0.2)\n",
    "\n",
    "x_train = tf.constant(x_train, dtype=tf.float32)\n",
    "x_train = tf.concat([x_train, x_train], 0)\n",
    "y_train = tf.one_hot(y_train, len(folders))\n",
    "y_train = tf.concat([y_train, y_train], 0)\n",
    "\n",
    "x_test = tf.constant(x_test, dtype=tf.float32)\n",
    "y_test = tf.one_hot(y_test, len(folders))\n",
    "\n",
    "assert x_train.shape[0] == y_train.shape[0]"
   ]
  },
  {
   "cell_type": "markdown",
   "metadata": {},
   "source": [
    "Normal Training"
   ]
  },
  {
   "cell_type": "code",
   "execution_count": 15,
   "metadata": {},
   "outputs": [],
   "source": [
    "class Model(keras.models.Model):\n",
    "    def __init__(self, *args, **kwargs):\n",
    "        super().__init__(*args, **kwargs)\n",
    "        self.pool = keras.layers.MaxPool2D()\n",
    "        self.flat = keras.layers.Flatten()\n",
    "        self.conv1 = keras.layers.Conv2D(24, 3, activation=tf.nn.relu)\n",
    "        self.conv2 = keras.layers.Conv2D(16, 3, activation=tf.nn.relu)\n",
    "        self.conv3 = keras.layers.Conv2D(12, 3, activation=tf.nn.relu)\n",
    "        self.layer1 = keras.layers.Dense(64, activation=tf.nn.relu)\n",
    "        self.layer2 = keras.layers.Dense(64, activation=tf.nn.relu)\n",
    "        self.layer3 = keras.layers.Dense(40, activation=tf.nn.softmax)\n",
    "        \n",
    "    def call(self, input):\n",
    "        x = input\n",
    "        x = self.pool(self.conv1(x))\n",
    "        x = self.pool(self.conv2(x))\n",
    "        x = self.pool(self.conv3(x))\n",
    "        x = self.flat(x)\n",
    "        x = self.layer1(x)\n",
    "        x = self.layer2(x)\n",
    "        x = self.layer3(x)\n",
    "        return x"
   ]
  },
  {
   "cell_type": "code",
   "execution_count": 16,
   "metadata": {},
   "outputs": [
    {
     "name": "stdout",
     "output_type": "stream",
     "text": [
      "Epoch 1/50\n",
      "80/80 [==============================] - 1s 4ms/step - loss: 3.6908 - categorical_accuracy: 0.0188\n",
      "Epoch 2/50\n",
      "80/80 [==============================] - 0s 4ms/step - loss: 3.6866 - categorical_accuracy: 0.0297\n",
      "Epoch 3/50\n",
      "80/80 [==============================] - 0s 3ms/step - loss: 3.6836 - categorical_accuracy: 0.0359\n",
      "Epoch 4/50\n",
      "80/80 [==============================] - 0s 3ms/step - loss: 3.6733 - categorical_accuracy: 0.0312\n",
      "Epoch 5/50\n",
      "80/80 [==============================] - 0s 4ms/step - loss: 3.6325 - categorical_accuracy: 0.0453\n",
      "Epoch 6/50\n",
      "80/80 [==============================] - 0s 4ms/step - loss: 3.3882 - categorical_accuracy: 0.0922\n",
      "Epoch 7/50\n",
      "80/80 [==============================] - 0s 5ms/step - loss: 2.9107 - categorical_accuracy: 0.1766\n",
      "Epoch 8/50\n",
      "80/80 [==============================] - 0s 5ms/step - loss: 2.2832 - categorical_accuracy: 0.3359\n",
      "Epoch 9/50\n",
      "80/80 [==============================] - 0s 4ms/step - loss: 1.7774 - categorical_accuracy: 0.4547\n",
      "Epoch 10/50\n",
      "80/80 [==============================] - 0s 4ms/step - loss: 1.3864 - categorical_accuracy: 0.5750\n",
      "Epoch 11/50\n",
      "80/80 [==============================] - 0s 4ms/step - loss: 1.0093 - categorical_accuracy: 0.7156\n",
      "Epoch 12/50\n",
      "80/80 [==============================] - 0s 5ms/step - loss: 0.7873 - categorical_accuracy: 0.7656\n",
      "Epoch 13/50\n",
      "80/80 [==============================] - 0s 4ms/step - loss: 0.6881 - categorical_accuracy: 0.7906\n",
      "Epoch 14/50\n",
      "80/80 [==============================] - 0s 4ms/step - loss: 0.5286 - categorical_accuracy: 0.8438\n",
      "Epoch 15/50\n",
      "80/80 [==============================] - 0s 4ms/step - loss: 0.4702 - categorical_accuracy: 0.8547\n",
      "Epoch 16/50\n",
      "80/80 [==============================] - 0s 4ms/step - loss: 0.2983 - categorical_accuracy: 0.9125\n",
      "Epoch 17/50\n",
      "80/80 [==============================] - 0s 4ms/step - loss: 0.2328 - categorical_accuracy: 0.9391\n",
      "Epoch 18/50\n",
      "80/80 [==============================] - 0s 4ms/step - loss: 0.2022 - categorical_accuracy: 0.9438\n",
      "Epoch 19/50\n",
      "80/80 [==============================] - 0s 4ms/step - loss: 0.1979 - categorical_accuracy: 0.9516\n",
      "Epoch 20/50\n",
      "80/80 [==============================] - 0s 4ms/step - loss: 0.2088 - categorical_accuracy: 0.9422\n",
      "Epoch 21/50\n",
      "80/80 [==============================] - 0s 4ms/step - loss: 0.1226 - categorical_accuracy: 0.9719\n",
      "Epoch 22/50\n",
      "80/80 [==============================] - 0s 4ms/step - loss: 0.0742 - categorical_accuracy: 0.9859\n",
      "Epoch 23/50\n",
      "80/80 [==============================] - 0s 4ms/step - loss: 0.1208 - categorical_accuracy: 0.9609\n",
      "Epoch 24/50\n",
      "80/80 [==============================] - 0s 4ms/step - loss: 0.2871 - categorical_accuracy: 0.9078\n",
      "Epoch 25/50\n",
      "80/80 [==============================] - 0s 5ms/step - loss: 0.0769 - categorical_accuracy: 0.9766\n",
      "Epoch 26/50\n",
      "80/80 [==============================] - 0s 4ms/step - loss: 0.0292 - categorical_accuracy: 0.9984\n",
      "Epoch 27/50\n",
      "80/80 [==============================] - 0s 4ms/step - loss: 0.0226 - categorical_accuracy: 1.0000\n",
      "Epoch 28/50\n",
      "80/80 [==============================] - 0s 4ms/step - loss: 0.0191 - categorical_accuracy: 1.0000\n",
      "Epoch 29/50\n",
      "80/80 [==============================] - 0s 4ms/step - loss: 0.0148 - categorical_accuracy: 1.0000\n",
      "Epoch 30/50\n",
      "80/80 [==============================] - 0s 4ms/step - loss: 0.0128 - categorical_accuracy: 1.0000\n",
      "Epoch 31/50\n",
      "80/80 [==============================] - 0s 4ms/step - loss: 0.0119 - categorical_accuracy: 1.0000\n",
      "Epoch 32/50\n",
      "80/80 [==============================] - 0s 4ms/step - loss: 0.0101 - categorical_accuracy: 1.0000\n",
      "Epoch 33/50\n",
      "80/80 [==============================] - 0s 5ms/step - loss: 0.0082 - categorical_accuracy: 1.0000\n",
      "Epoch 34/50\n",
      "80/80 [==============================] - 0s 4ms/step - loss: 0.0081 - categorical_accuracy: 1.0000\n",
      "Epoch 35/50\n",
      "80/80 [==============================] - 0s 5ms/step - loss: 0.0064 - categorical_accuracy: 1.0000\n",
      "Epoch 36/50\n",
      "80/80 [==============================] - 0s 5ms/step - loss: 0.0057 - categorical_accuracy: 1.0000\n",
      "Epoch 37/50\n",
      "80/80 [==============================] - 0s 5ms/step - loss: 0.0055 - categorical_accuracy: 1.0000\n",
      "Epoch 38/50\n",
      "80/80 [==============================] - 0s 5ms/step - loss: 0.0050 - categorical_accuracy: 1.0000\n",
      "Epoch 39/50\n",
      "80/80 [==============================] - 0s 4ms/step - loss: 0.0048 - categorical_accuracy: 1.0000\n",
      "Epoch 40/50\n",
      "80/80 [==============================] - 0s 4ms/step - loss: 0.0042 - categorical_accuracy: 1.0000\n",
      "Epoch 41/50\n",
      "80/80 [==============================] - 0s 5ms/step - loss: 0.0040 - categorical_accuracy: 1.0000\n",
      "Epoch 42/50\n",
      "80/80 [==============================] - 0s 5ms/step - loss: 0.0031 - categorical_accuracy: 1.0000\n",
      "Epoch 43/50\n",
      "80/80 [==============================] - 0s 5ms/step - loss: 0.0030 - categorical_accuracy: 1.0000\n",
      "Epoch 44/50\n",
      "80/80 [==============================] - 0s 4ms/step - loss: 0.0028 - categorical_accuracy: 1.0000\n",
      "Epoch 45/50\n",
      "80/80 [==============================] - 0s 4ms/step - loss: 0.0024 - categorical_accuracy: 1.0000\n",
      "Epoch 46/50\n",
      "80/80 [==============================] - 0s 4ms/step - loss: 0.0023 - categorical_accuracy: 1.0000\n",
      "Epoch 47/50\n",
      "80/80 [==============================] - 0s 4ms/step - loss: 0.0021 - categorical_accuracy: 1.0000\n",
      "Epoch 48/50\n",
      "80/80 [==============================] - 0s 4ms/step - loss: 0.0021 - categorical_accuracy: 1.0000\n",
      "Epoch 49/50\n",
      "80/80 [==============================] - 0s 4ms/step - loss: 0.0018 - categorical_accuracy: 1.0000\n",
      "Epoch 50/50\n",
      "80/80 [==============================] - 0s 4ms/step - loss: 0.0017 - categorical_accuracy: 1.0000\n"
     ]
    }
   ],
   "source": [
    "model = Model()\n",
    "model.compile(keras.optimizers.Adam(), tf.losses.categorical_crossentropy, tf.metrics.categorical_accuracy)\n",
    "\n",
    "history = model.fit(x_train, y_train, batch_size=8, epochs=50)"
   ]
  },
  {
   "cell_type": "code",
   "execution_count": 17,
   "metadata": {},
   "outputs": [
    {
     "name": "stdout",
     "output_type": "stream",
     "text": [
      "Accuracy of clean data : 0.875\n",
      "Accuracy of adversarial data : 0.4\n"
     ]
    }
   ],
   "source": [
    "print(\"Accuracy of clean data : {}\".format(model.evaluate(x_test, y_test, verbose=0)[1]))\n",
    "\n",
    "adv_x = FGSM(model, x_test, y_test)\n",
    "rights = tf.reduce_sum(tf.where(tf.argmax(model.predict(adv_x, verbose=0), 1) == tf.argmax(y_test, 1), 1, 0)).numpy()\n",
    "print(\"Accuracy of adversarial data : {}\".format(rights / x_test.shape[0]))"
   ]
  },
  {
   "cell_type": "markdown",
   "metadata": {},
   "source": [
    "Adversarial Training"
   ]
  },
  {
   "cell_type": "code",
   "execution_count": 18,
   "metadata": {},
   "outputs": [],
   "source": [
    "class AdversarialModel(Model):\n",
    "    def __init__(self, base_model, epsilon):\n",
    "        super(AdversarialModel, self).__init__()\n",
    "        self.base_model = base_model\n",
    "        self.epsilon = epsilon\n",
    "\n",
    "    def fgsm_attack(self, x, y):\n",
    "        with tf.GradientTape() as tape:\n",
    "            tape.watch(x)\n",
    "            predictions = self.base_model(x)\n",
    "            loss = tf.keras.losses.categorical_crossentropy(y, predictions)\n",
    "        gradient = tape.gradient(loss, x)\n",
    "        signed_grad = tf.sign(gradient)\n",
    "        adv_x = x + self.epsilon * signed_grad\n",
    "        adv_x = tf.clip_by_value(adv_x, 0.0, 1.0)\n",
    "        return adv_x\n",
    "\n",
    "    def call(self, inputs, training = False):\n",
    "        if training:\n",
    "            x, y = inputs \n",
    "            adv_x = self.fgsm_attack(x, y)  \n",
    "            clean_preds = self.base_model(x)\n",
    "            adv_preds = self.base_model(adv_x)\n",
    "            return tf.concat([clean_preds, adv_preds], 0)\n",
    "        else:\n",
    "            x = inputs \n",
    "            return self.base_model(x)\n",
    "\n",
    "@tf.function\n",
    "def adversarial_loss(y_true, y_pred):\n",
    "    size = y_pred.shape[0] // 2\n",
    "    clean_preds, adv_preds = tf.split(y_pred, [size, size])\n",
    "    loss_clean = tf.keras.losses.categorical_crossentropy(y_true, clean_preds)\n",
    "    loss_adv = tf.keras.losses.categorical_crossentropy(y_true, adv_preds)\n",
    "    return 0.5 * tf.reduce_mean(loss_clean) + 0.5 * tf.reduce_mean(loss_adv)"
   ]
  },
  {
   "cell_type": "code",
   "execution_count": 19,
   "metadata": {},
   "outputs": [
    {
     "name": "stdout",
     "output_type": "stream",
     "text": [
      "Epoch 1/50\n",
      "80/80 [==============================] - 3s 9ms/step - loss: 0.6926\n",
      "Epoch 2/50\n",
      "80/80 [==============================] - 1s 10ms/step - loss: 0.3704\n",
      "Epoch 3/50\n",
      "80/80 [==============================] - 1s 10ms/step - loss: 0.3928\n",
      "Epoch 4/50\n",
      "80/80 [==============================] - 1s 9ms/step - loss: 0.2204\n",
      "Epoch 5/50\n",
      "80/80 [==============================] - 1s 9ms/step - loss: 0.2995\n",
      "Epoch 6/50\n",
      "80/80 [==============================] - 1s 9ms/step - loss: 0.2818\n",
      "Epoch 7/50\n",
      "80/80 [==============================] - 1s 9ms/step - loss: 0.2642\n",
      "Epoch 8/50\n",
      "80/80 [==============================] - 1s 9ms/step - loss: 0.2114\n",
      "Epoch 9/50\n",
      "80/80 [==============================] - 1s 9ms/step - loss: 0.2018\n",
      "Epoch 10/50\n",
      "80/80 [==============================] - 1s 9ms/step - loss: 0.1463\n",
      "Epoch 11/50\n",
      "80/80 [==============================] - 1s 10ms/step - loss: 0.1296\n",
      "Epoch 12/50\n",
      "80/80 [==============================] - 1s 9ms/step - loss: 0.1206\n",
      "Epoch 13/50\n",
      "80/80 [==============================] - 1s 9ms/step - loss: 0.1629\n",
      "Epoch 14/50\n",
      "80/80 [==============================] - 1s 10ms/step - loss: 0.1362\n",
      "Epoch 15/50\n",
      "80/80 [==============================] - 1s 9ms/step - loss: 0.2072\n",
      "Epoch 16/50\n",
      "80/80 [==============================] - 1s 9ms/step - loss: 0.1303\n",
      "Epoch 17/50\n",
      "80/80 [==============================] - 1s 10ms/step - loss: 0.1382\n",
      "Epoch 18/50\n",
      "80/80 [==============================] - 1s 10ms/step - loss: 0.1206\n",
      "Epoch 19/50\n",
      "80/80 [==============================] - 1s 9ms/step - loss: 0.1470\n",
      "Epoch 20/50\n",
      "80/80 [==============================] - 1s 9ms/step - loss: 0.1183\n",
      "Epoch 21/50\n",
      "80/80 [==============================] - 1s 9ms/step - loss: 0.0814\n",
      "Epoch 22/50\n",
      "80/80 [==============================] - 1s 10ms/step - loss: 0.0642\n",
      "Epoch 23/50\n",
      "80/80 [==============================] - 1s 10ms/step - loss: 0.0801\n",
      "Epoch 24/50\n",
      "80/80 [==============================] - 1s 9ms/step - loss: 0.0713\n",
      "Epoch 25/50\n",
      "80/80 [==============================] - 1s 10ms/step - loss: 0.0675\n",
      "Epoch 26/50\n",
      "80/80 [==============================] - 1s 10ms/step - loss: 0.0626\n",
      "Epoch 27/50\n",
      "80/80 [==============================] - 1s 10ms/step - loss: 0.1133\n",
      "Epoch 28/50\n",
      "80/80 [==============================] - 1s 10ms/step - loss: 0.1594\n",
      "Epoch 29/50\n",
      "80/80 [==============================] - 1s 10ms/step - loss: 0.1428\n",
      "Epoch 30/50\n",
      "80/80 [==============================] - 1s 11ms/step - loss: 0.0630\n",
      "Epoch 31/50\n",
      "80/80 [==============================] - 1s 10ms/step - loss: 0.0822\n",
      "Epoch 32/50\n",
      "80/80 [==============================] - 1s 11ms/step - loss: 0.0615\n",
      "Epoch 33/50\n",
      "80/80 [==============================] - 1s 11ms/step - loss: 0.0437\n",
      "Epoch 34/50\n",
      "80/80 [==============================] - 1s 10ms/step - loss: 0.0374\n",
      "Epoch 35/50\n",
      "80/80 [==============================] - 1s 10ms/step - loss: 0.0244\n",
      "Epoch 36/50\n",
      "80/80 [==============================] - 1s 10ms/step - loss: 0.0233\n",
      "Epoch 37/50\n",
      "80/80 [==============================] - 1s 10ms/step - loss: 0.0402\n",
      "Epoch 38/50\n",
      "80/80 [==============================] - 1s 10ms/step - loss: 0.0596\n",
      "Epoch 39/50\n",
      "80/80 [==============================] - 1s 11ms/step - loss: 0.0765\n",
      "Epoch 40/50\n",
      "80/80 [==============================] - 1s 11ms/step - loss: 0.1165\n",
      "Epoch 41/50\n",
      "80/80 [==============================] - 1s 10ms/step - loss: 0.2497\n",
      "Epoch 42/50\n",
      "80/80 [==============================] - 1s 11ms/step - loss: 0.0700\n",
      "Epoch 43/50\n",
      "80/80 [==============================] - 1s 11ms/step - loss: 0.0607\n",
      "Epoch 44/50\n",
      "80/80 [==============================] - 1s 11ms/step - loss: 0.0479\n",
      "Epoch 45/50\n",
      "80/80 [==============================] - 1s 11ms/step - loss: 0.0133\n",
      "Epoch 46/50\n",
      "80/80 [==============================] - 1s 11ms/step - loss: 0.0071\n",
      "Epoch 47/50\n",
      "80/80 [==============================] - 1s 11ms/step - loss: 0.0061\n",
      "Epoch 48/50\n",
      "80/80 [==============================] - 1s 10ms/step - loss: 0.0049\n",
      "Epoch 49/50\n",
      "80/80 [==============================] - 1s 10ms/step - loss: 0.0045\n",
      "Epoch 50/50\n",
      "80/80 [==============================] - 1s 10ms/step - loss: 0.0038\n"
     ]
    }
   ],
   "source": [
    "model_copy = Model()\n",
    "model_copy(tf.expand_dims(x_test[0], 0))\n",
    "model_copy.set_weights(model.get_weights())\n",
    "\n",
    "model_adv = AdversarialModel(model_copy, epsilon=eps)\n",
    "model_adv.compile(keras.optimizers.Adam(), adversarial_loss)\n",
    "history_adv = model_adv.fit((x_train, y_train), y_train, batch_size=8, epochs=50)"
   ]
  },
  {
   "cell_type": "code",
   "execution_count": 20,
   "metadata": {},
   "outputs": [
    {
     "name": "stdout",
     "output_type": "stream",
     "text": [
      "Accuracy of clean data : 0.925\n",
      "Accuracy of adversarial data : 0.7125\n"
     ]
    }
   ],
   "source": [
    "rights = tf.reduce_sum(tf.where(tf.argmax(model_adv.predict(x_test, verbose=0), 1) == tf.argmax(y_test, 1), 1, 0)).numpy()\n",
    "print(\"Accuracy of clean data : {}\".format(rights / x_test.shape[0]))\n",
    "\n",
    "adv_x = FGSM(model_adv, x_test, y_test)\n",
    "rights = tf.reduce_sum(tf.where(tf.argmax(model_adv.predict(adv_x, verbose=0), 1) == tf.argmax(y_test, 1), 1, 0)).numpy()\n",
    "print(\"Accuracy of adversarial data : {}\".format(rights / x_test.shape[0]))"
   ]
  },
  {
   "cell_type": "markdown",
   "metadata": {},
   "source": [
    "Visualization"
   ]
  },
  {
   "cell_type": "code",
   "execution_count": 26,
   "metadata": {},
   "outputs": [],
   "source": [
    "def display_images(img, adv_img):\n",
    "    fig, axes = plt.subplots(2, 2)\n",
    "    epsilons = [0, eps]\n",
    "    descriptions = ['Epsilon = {:0.3f}'.format(eps) for eps in epsilons]\n",
    "    for i in range(2):\n",
    "        for j in range(2):\n",
    "            description = \"Origin Model, \" + descriptions[i] if j == 0 else \"Adv Model, \" + descriptions[i]\n",
    "            if i == 0:\n",
    "                pred = model.predict(img, verbose=0) if j == 0 else model_adv.predict(img, verbose=0)\n",
    "                label = tf.argmax(pred, -1)[0]\n",
    "                confidence = pred[0, label]\n",
    "                axes[i, j].imshow(cv2.cvtColor(img[0].numpy(), cv2.COLOR_BGR2RGB))\n",
    "                axes[i, j].set_title('{} \\n {} : {:.2f}% Confidence'.format(description, label, confidence*100))\n",
    "                axes[i, j].axis('off')\n",
    "            else:\n",
    "                pred = model.predict(adv_img[0], verbose=0) if j == 0 else model_adv.predict(adv_img[1], verbose=0)\n",
    "                label = tf.argmax(pred, -1)[0]\n",
    "                confidence = pred[0, label]\n",
    "                axes[i, j].imshow(cv2.cvtColor(adv_img[j][0].numpy(), cv2.COLOR_BGR2RGB))\n",
    "                axes[i, j].set_title('{} \\n {} : {:.2f}% Confidence'.format(description, label, confidence*100))\n",
    "                axes[i, j].axis('off')\n",
    "    plt.tight_layout()\n",
    "    plt.show()"
   ]
  },
  {
   "cell_type": "code",
   "execution_count": 27,
   "metadata": {},
   "outputs": [
    {
     "name": "stdout",
     "output_type": "stream",
     "text": [
      "True Label : 38\n"
     ]
    },
    {
     "data": {
      "image/png": "[encoded data removed]",
      "text/plain": [
       "<Figure size 640x480 with 4 Axes>"
      ]
     },
     "metadata": {},
     "output_type": "display_data"
    }
   ],
   "source": [
    "for i in range(x_test.shape[0]):\n",
    "    image = tf.expand_dims(x_test[i], 0)\n",
    "    label = tf.expand_dims(y_test[i], 0)\n",
    "    if(tf.argmax(model.predict(image, verbose=0), -1)[0] == tf.argmax(label, -1)[0]):\n",
    "        adv_x = [FGSM(model, image, label), FGSM(model_adv, image, label)]\n",
    "        if(tf.argmax(model.predict(image, verbose=0), -1)[0] != tf.argmax(model.predict(adv_x[0], verbose=0), -1)[0]):\n",
    "            if(tf.argmax(model_adv.predict(image, verbose=0), -1)[0] == tf.argmax(model_adv.predict(adv_x[1], verbose=0), -1)[0]):\n",
    "                print(\"True Label : {}\".format(tf.argmax(label, -1)[0].numpy()))\n",
    "                display_images(image, adv_x)\n",
    "                break"
   ]
  }
 ],
 "metadata": {
  "kernelspec": {
   "display_name": "base",
   "language": "python",
   "name": "python3"
  },
  "language_info": {
   "codemirror_mode": {
    "name": "ipython",
    "version": 3
   },
   "file_extension": ".py",
   "mimetype": "text/x-python",
   "name": "python",
   "nbconvert_exporter": "python",
   "pygments_lexer": "ipython3",
   "version": "3.11.5"
  }
 },
 "nbformat": 4,
 "nbformat_minor": 2
}
