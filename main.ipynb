{
 "cells": [
  {
   "cell_type": "code",
   "execution_count": 1,
   "metadata": {},
   "outputs": [],
   "source": [
    "import tensorflow as tf\n",
    "from tensorflow import keras\n",
    "import numpy as np\n",
    "import cv2\n",
    "import os\n",
    "import matplotlib.pyplot as plt\n",
    "from sklearn.model_selection import train_test_split"
   ]
  },
  {
   "cell_type": "code",
   "execution_count": 2,
   "metadata": {},
   "outputs": [],
   "source": [
    "eps = 0.01\n",
    "\n",
    "def FGSM(model, x, y, epsilon = eps):\n",
    "    with tf.GradientTape() as tape:\n",
    "        tape.watch(x)\n",
    "        predictions = model(x)\n",
    "        loss = tf.keras.losses.categorical_crossentropy(y, predictions)\n",
    "    gradient = tape.gradient(loss, x)\n",
    "    signed_grad = tf.sign(gradient)\n",
    "    adv_x = x + epsilon * signed_grad\n",
    "    adv_x = tf.clip_by_value(adv_x, 0.0, 1.0)\n",
    "    return adv_x"
   ]
  },
  {
   "cell_type": "code",
   "execution_count": 3,
   "metadata": {},
   "outputs": [
    {
     "name": "stdout",
     "output_type": "stream",
     "text": [
      "done\n"
     ]
    }
   ],
   "source": [
    "path = \"./ORL3232/\"\n",
    "folders = sorted(os.listdir(path)[:-1], key = lambda x : int(x))\n",
    "\n",
    "imgs = []\n",
    "labels = []\n",
    "\n",
    "for folder in folders:\n",
    "    p = path + folder + '/'\n",
    "    files = os.listdir(p)\n",
    "    files = [p+x for x in files if x.endswith(\".bmp\")]\n",
    "    for file in files:\n",
    "        img = cv2.imread(file, 0) / 255.0\n",
    "        imgs.append(np.reshape(img, [32, 32, 1]))\n",
    "        labels.append(int(folder) - 1)\n",
    "\n",
    "print(\"done\")"
   ]
  },
  {
   "cell_type": "code",
   "execution_count": 4,
   "metadata": {},
   "outputs": [],
   "source": [
    "x_data = imgs.copy() * 2\n",
    "y_data = labels.copy() * 2\n",
    "\n",
    "x_train, x_test, y_train, y_test = train_test_split(x_data, y_data, test_size=0.2)\n",
    "\n",
    "x_train = tf.constant(x_train, dtype=tf.float32)\n",
    "y_train = tf.one_hot(y_train, len(folders))\n",
    "\n",
    "x_test = tf.constant(x_test, dtype=tf.float32)\n",
    "y_test = tf.one_hot(y_test, len(folders))\n",
    "\n",
    "assert x_train.shape[0] == y_train.shape[0]"
   ]
  },
  {
   "cell_type": "markdown",
   "metadata": {},
   "source": [
    "Normal Training"
   ]
  },
  {
   "cell_type": "code",
   "execution_count": 5,
   "metadata": {},
   "outputs": [],
   "source": [
    "class Model(keras.models.Model):\n",
    "    def __init__(self, *args, **kwargs):\n",
    "        super().__init__(*args, **kwargs)\n",
    "        self.pool = keras.layers.MaxPool2D()\n",
    "        self.flat = keras.layers.Flatten()\n",
    "        self.conv1 = keras.layers.Conv2D(24, 3, activation=tf.nn.relu)\n",
    "        self.conv2 = keras.layers.Conv2D(16, 3, activation=tf.nn.relu)\n",
    "        self.conv3 = keras.layers.Conv2D(12, 3, activation=tf.nn.relu)\n",
    "        self.layer1 = keras.layers.Dense(64, activation=tf.nn.relu)\n",
    "        self.layer2 = keras.layers.Dense(64, activation=tf.nn.relu)\n",
    "        self.layer3 = keras.layers.Dense(40, activation=tf.nn.softmax)\n",
    "        \n",
    "    def call(self, input):\n",
    "        x = input\n",
    "        x = self.pool(self.conv1(x))\n",
    "        x = self.pool(self.conv2(x))\n",
    "        x = self.pool(self.conv3(x))\n",
    "        x = self.flat(x)\n",
    "        x = self.layer1(x)\n",
    "        x = self.layer2(x)\n",
    "        x = self.layer3(x)\n",
    "        return x"
   ]
  },
  {
   "cell_type": "code",
   "execution_count": 6,
   "metadata": {},
   "outputs": [
    {
     "name": "stdout",
     "output_type": "stream",
     "text": [
      "Epoch 1/50\n",
      "80/80 [==============================] - 2s 4ms/step - loss: 3.6937 - categorical_accuracy: 0.0172\n",
      "Epoch 2/50\n",
      "80/80 [==============================] - 0s 4ms/step - loss: 3.6890 - categorical_accuracy: 0.0156\n",
      "Epoch 3/50\n",
      "80/80 [==============================] - 0s 5ms/step - loss: 3.6893 - categorical_accuracy: 0.0203\n",
      "Epoch 4/50\n",
      "80/80 [==============================] - 0s 4ms/step - loss: 3.6887 - categorical_accuracy: 0.0250\n",
      "Epoch 5/50\n",
      "80/80 [==============================] - 0s 4ms/step - loss: 3.6869 - categorical_accuracy: 0.0266\n",
      "Epoch 6/50\n",
      "80/80 [==============================] - 0s 4ms/step - loss: 3.6830 - categorical_accuracy: 0.0328\n",
      "Epoch 7/50\n",
      "80/80 [==============================] - 0s 4ms/step - loss: 3.6161 - categorical_accuracy: 0.0406\n",
      "Epoch 8/50\n",
      "80/80 [==============================] - 0s 4ms/step - loss: 3.2720 - categorical_accuracy: 0.0938\n",
      "Epoch 9/50\n",
      "80/80 [==============================] - 0s 4ms/step - loss: 2.7961 - categorical_accuracy: 0.2391\n",
      "Epoch 10/50\n",
      "80/80 [==============================] - 0s 4ms/step - loss: 2.2244 - categorical_accuracy: 0.3500\n",
      "Epoch 11/50\n",
      "80/80 [==============================] - 0s 4ms/step - loss: 1.7702 - categorical_accuracy: 0.4641\n",
      "Epoch 12/50\n",
      "80/80 [==============================] - 0s 4ms/step - loss: 1.3688 - categorical_accuracy: 0.5844\n",
      "Epoch 13/50\n",
      "80/80 [==============================] - 0s 4ms/step - loss: 1.1468 - categorical_accuracy: 0.6516\n",
      "Epoch 14/50\n",
      "80/80 [==============================] - 0s 4ms/step - loss: 0.9641 - categorical_accuracy: 0.7188\n",
      "Epoch 15/50\n",
      "80/80 [==============================] - 0s 4ms/step - loss: 0.8051 - categorical_accuracy: 0.7516\n",
      "Epoch 16/50\n",
      "80/80 [==============================] - 0s 4ms/step - loss: 0.6965 - categorical_accuracy: 0.8094\n",
      "Epoch 17/50\n",
      "80/80 [==============================] - 0s 4ms/step - loss: 0.5488 - categorical_accuracy: 0.8250\n",
      "Epoch 18/50\n",
      "80/80 [==============================] - 0s 4ms/step - loss: 0.4914 - categorical_accuracy: 0.8562\n",
      "Epoch 19/50\n",
      "80/80 [==============================] - 0s 4ms/step - loss: 0.4639 - categorical_accuracy: 0.8578\n",
      "Epoch 20/50\n",
      "80/80 [==============================] - 0s 4ms/step - loss: 0.3799 - categorical_accuracy: 0.8828\n",
      "Epoch 21/50\n",
      "80/80 [==============================] - 0s 4ms/step - loss: 0.3456 - categorical_accuracy: 0.9141\n",
      "Epoch 22/50\n",
      "80/80 [==============================] - 0s 4ms/step - loss: 0.2785 - categorical_accuracy: 0.9328\n",
      "Epoch 23/50\n",
      "80/80 [==============================] - 0s 4ms/step - loss: 0.2692 - categorical_accuracy: 0.9109\n",
      "Epoch 24/50\n",
      "80/80 [==============================] - 0s 4ms/step - loss: 0.2536 - categorical_accuracy: 0.9297\n",
      "Epoch 25/50\n",
      "80/80 [==============================] - 0s 4ms/step - loss: 0.2022 - categorical_accuracy: 0.9453\n",
      "Epoch 26/50\n",
      "80/80 [==============================] - 0s 4ms/step - loss: 0.1863 - categorical_accuracy: 0.9516\n",
      "Epoch 27/50\n",
      "80/80 [==============================] - 0s 4ms/step - loss: 0.1428 - categorical_accuracy: 0.9672\n",
      "Epoch 28/50\n",
      "80/80 [==============================] - 0s 4ms/step - loss: 0.1349 - categorical_accuracy: 0.9609\n",
      "Epoch 29/50\n",
      "80/80 [==============================] - 0s 4ms/step - loss: 0.1645 - categorical_accuracy: 0.9438\n",
      "Epoch 30/50\n",
      "80/80 [==============================] - 0s 4ms/step - loss: 0.1358 - categorical_accuracy: 0.9656\n",
      "Epoch 31/50\n",
      "80/80 [==============================] - 0s 4ms/step - loss: 0.1980 - categorical_accuracy: 0.9297\n",
      "Epoch 32/50\n",
      "80/80 [==============================] - 0s 4ms/step - loss: 0.1242 - categorical_accuracy: 0.9625\n",
      "Epoch 33/50\n",
      "80/80 [==============================] - 0s 4ms/step - loss: 0.0686 - categorical_accuracy: 0.9891\n",
      "Epoch 34/50\n",
      "80/80 [==============================] - 0s 4ms/step - loss: 0.1006 - categorical_accuracy: 0.9750\n",
      "Epoch 35/50\n",
      "80/80 [==============================] - 0s 4ms/step - loss: 0.0629 - categorical_accuracy: 0.9875\n",
      "Epoch 36/50\n",
      "80/80 [==============================] - 0s 4ms/step - loss: 0.0490 - categorical_accuracy: 0.9875\n",
      "Epoch 37/50\n",
      "80/80 [==============================] - 0s 4ms/step - loss: 0.0665 - categorical_accuracy: 0.9812\n",
      "Epoch 38/50\n",
      "80/80 [==============================] - 0s 4ms/step - loss: 0.0810 - categorical_accuracy: 0.9828\n",
      "Epoch 39/50\n",
      "80/80 [==============================] - 0s 4ms/step - loss: 0.0360 - categorical_accuracy: 0.9969\n",
      "Epoch 40/50\n",
      "80/80 [==============================] - 0s 4ms/step - loss: 0.0315 - categorical_accuracy: 0.9969\n",
      "Epoch 41/50\n",
      "80/80 [==============================] - 0s 4ms/step - loss: 0.0484 - categorical_accuracy: 0.9906\n",
      "Epoch 42/50\n",
      "80/80 [==============================] - 0s 4ms/step - loss: 0.0748 - categorical_accuracy: 0.9797\n",
      "Epoch 43/50\n",
      "80/80 [==============================] - 0s 4ms/step - loss: 0.0774 - categorical_accuracy: 0.9781\n",
      "Epoch 44/50\n",
      "80/80 [==============================] - 0s 4ms/step - loss: 0.0494 - categorical_accuracy: 0.9875\n",
      "Epoch 45/50\n",
      "80/80 [==============================] - 0s 4ms/step - loss: 0.0662 - categorical_accuracy: 0.9797\n",
      "Epoch 46/50\n",
      "80/80 [==============================] - 0s 4ms/step - loss: 0.0464 - categorical_accuracy: 0.9859\n",
      "Epoch 47/50\n",
      "80/80 [==============================] - 0s 4ms/step - loss: 0.0409 - categorical_accuracy: 0.9891\n",
      "Epoch 48/50\n",
      "80/80 [==============================] - 0s 4ms/step - loss: 0.0222 - categorical_accuracy: 0.9984\n",
      "Epoch 49/50\n",
      "80/80 [==============================] - 0s 4ms/step - loss: 0.0090 - categorical_accuracy: 1.0000\n",
      "Epoch 50/50\n",
      "80/80 [==============================] - 0s 4ms/step - loss: 0.0058 - categorical_accuracy: 1.0000\n"
     ]
    }
   ],
   "source": [
    "model = Model()\n",
    "model.compile(keras.optimizers.Adam(), tf.losses.categorical_crossentropy, tf.metrics.categorical_accuracy)\n",
    "\n",
    "history = model.fit(x_train, y_train, batch_size=8, epochs=50)"
   ]
  },
  {
   "cell_type": "code",
   "execution_count": 7,
   "metadata": {},
   "outputs": [
    {
     "name": "stdout",
     "output_type": "stream",
     "text": [
      "Accuracy of clean data : 0.9750000238418579\n",
      "Accuracy of adversarial data : 0.49375\n"
     ]
    }
   ],
   "source": [
    "print(\"Accuracy of clean data : {}\".format(model.evaluate(x_test, y_test, verbose=0)[1]))\n",
    "\n",
    "adv_x = FGSM(model, x_test, y_test)\n",
    "rights = tf.reduce_sum(tf.where(tf.argmax(model.predict(adv_x, verbose=0), 1) == tf.argmax(y_test, 1), 1, 0)).numpy()\n",
    "print(\"Accuracy of adversarial data : {}\".format(rights / x_test.shape[0]))"
   ]
  },
  {
   "cell_type": "markdown",
   "metadata": {},
   "source": [
    "Adversarial Training"
   ]
  },
  {
   "cell_type": "code",
   "execution_count": 8,
   "metadata": {},
   "outputs": [],
   "source": [
    "class AdversarialModel(Model):\n",
    "    def __init__(self, base_model, epsilon):\n",
    "        super(AdversarialModel, self).__init__()\n",
    "        self.base_model = base_model\n",
    "        self.epsilon = epsilon\n",
    "\n",
    "    def fgsm_attack(self, x, y):\n",
    "        with tf.GradientTape() as tape:\n",
    "            tape.watch(x)\n",
    "            predictions = self.base_model(x)\n",
    "            loss = tf.keras.losses.categorical_crossentropy(y, predictions)\n",
    "        gradient = tape.gradient(loss, x)\n",
    "        signed_grad = tf.sign(gradient)\n",
    "        adv_x = x + self.epsilon * signed_grad\n",
    "        adv_x = tf.clip_by_value(adv_x, 0.0, 1.0)\n",
    "        return adv_x\n",
    "\n",
    "    def call(self, inputs, training = False):\n",
    "        if training:\n",
    "            x, y = inputs \n",
    "            adv_x = self.fgsm_attack(x, y)  \n",
    "            clean_preds = self.base_model(x)\n",
    "            adv_preds = self.base_model(adv_x)\n",
    "            return tf.concat([clean_preds, adv_preds], 0)\n",
    "        else:\n",
    "            x = inputs \n",
    "            return self.base_model(x)\n",
    "\n",
    "@tf.function\n",
    "def adversarial_loss(y_true, y_pred):\n",
    "    size = y_pred.shape[0] // 2\n",
    "    clean_preds, adv_preds = tf.split(y_pred, [size, size])\n",
    "    loss_clean = tf.keras.losses.categorical_crossentropy(y_true, clean_preds)\n",
    "    loss_adv = tf.keras.losses.categorical_crossentropy(y_true, adv_preds)\n",
    "    return 0.5 * tf.reduce_mean(loss_clean) + 0.5 * tf.reduce_mean(loss_adv)"
   ]
  },
  {
   "cell_type": "code",
   "execution_count": 9,
   "metadata": {},
   "outputs": [
    {
     "name": "stdout",
     "output_type": "stream",
     "text": [
      "Epoch 1/50\n",
      "80/80 [==============================] - 3s 8ms/step - loss: 0.8261\n",
      "Epoch 2/50\n",
      "80/80 [==============================] - 1s 8ms/step - loss: 0.5568\n",
      "Epoch 3/50\n",
      "80/80 [==============================] - 1s 8ms/step - loss: 0.5858\n",
      "Epoch 4/50\n",
      "80/80 [==============================] - 1s 9ms/step - loss: 0.4747\n",
      "Epoch 5/50\n",
      "80/80 [==============================] - 1s 9ms/step - loss: 0.3842\n",
      "Epoch 6/50\n",
      "80/80 [==============================] - 1s 9ms/step - loss: 0.3737\n",
      "Epoch 7/50\n",
      "80/80 [==============================] - 1s 9ms/step - loss: 0.3135\n",
      "Epoch 8/50\n",
      "80/80 [==============================] - 1s 9ms/step - loss: 0.3303\n",
      "Epoch 9/50\n",
      "80/80 [==============================] - 1s 9ms/step - loss: 0.2784\n",
      "Epoch 10/50\n",
      "80/80 [==============================] - 1s 9ms/step - loss: 0.2879\n",
      "Epoch 11/50\n",
      "80/80 [==============================] - 1s 9ms/step - loss: 0.2217\n",
      "Epoch 12/50\n",
      "80/80 [==============================] - 1s 9ms/step - loss: 0.2561\n",
      "Epoch 13/50\n",
      "80/80 [==============================] - 1s 9ms/step - loss: 0.2395\n",
      "Epoch 14/50\n",
      "80/80 [==============================] - 1s 9ms/step - loss: 0.2278\n",
      "Epoch 15/50\n",
      "80/80 [==============================] - 1s 9ms/step - loss: 0.1999\n",
      "Epoch 16/50\n",
      "80/80 [==============================] - 1s 9ms/step - loss: 0.2194\n",
      "Epoch 17/50\n",
      "80/80 [==============================] - 1s 9ms/step - loss: 0.1977\n",
      "Epoch 18/50\n",
      "80/80 [==============================] - 1s 9ms/step - loss: 0.1889\n",
      "Epoch 19/50\n",
      "80/80 [==============================] - 1s 9ms/step - loss: 0.1713\n",
      "Epoch 20/50\n",
      "80/80 [==============================] - 1s 9ms/step - loss: 0.1515\n",
      "Epoch 21/50\n",
      "80/80 [==============================] - 1s 9ms/step - loss: 0.1565\n",
      "Epoch 22/50\n",
      "80/80 [==============================] - 1s 9ms/step - loss: 0.1356\n",
      "Epoch 23/50\n",
      "80/80 [==============================] - 1s 11ms/step - loss: 0.1437\n",
      "Epoch 24/50\n",
      "80/80 [==============================] - 1s 10ms/step - loss: 0.1415\n",
      "Epoch 25/50\n",
      "80/80 [==============================] - 1s 10ms/step - loss: 0.1579\n",
      "Epoch 26/50\n",
      "80/80 [==============================] - 1s 9ms/step - loss: 0.1333\n",
      "Epoch 27/50\n",
      "80/80 [==============================] - 1s 9ms/step - loss: 0.1091\n",
      "Epoch 28/50\n",
      "80/80 [==============================] - 1s 9ms/step - loss: 0.1103\n",
      "Epoch 29/50\n",
      "80/80 [==============================] - 1s 9ms/step - loss: 0.1111\n",
      "Epoch 30/50\n",
      "80/80 [==============================] - 1s 9ms/step - loss: 0.0950\n",
      "Epoch 31/50\n",
      "80/80 [==============================] - 1s 9ms/step - loss: 0.1090\n",
      "Epoch 32/50\n",
      "80/80 [==============================] - 1s 9ms/step - loss: 0.1227\n",
      "Epoch 33/50\n",
      "80/80 [==============================] - 1s 9ms/step - loss: 0.1118\n",
      "Epoch 34/50\n",
      "80/80 [==============================] - 1s 9ms/step - loss: 0.1406\n",
      "Epoch 35/50\n",
      "80/80 [==============================] - 1s 9ms/step - loss: 0.0991\n",
      "Epoch 36/50\n",
      "80/80 [==============================] - 1s 9ms/step - loss: 0.1127\n",
      "Epoch 37/50\n",
      "80/80 [==============================] - 1s 9ms/step - loss: 0.1012\n",
      "Epoch 38/50\n",
      "80/80 [==============================] - 1s 9ms/step - loss: 0.0725\n",
      "Epoch 39/50\n",
      "80/80 [==============================] - 1s 9ms/step - loss: 0.1248\n",
      "Epoch 40/50\n",
      "80/80 [==============================] - 1s 9ms/step - loss: 0.1134\n",
      "Epoch 41/50\n",
      "80/80 [==============================] - 1s 9ms/step - loss: 0.0872\n",
      "Epoch 42/50\n",
      "80/80 [==============================] - 1s 10ms/step - loss: 0.0725\n",
      "Epoch 43/50\n",
      "80/80 [==============================] - 1s 9ms/step - loss: 0.0724\n",
      "Epoch 44/50\n",
      "80/80 [==============================] - 1s 9ms/step - loss: 0.0695\n",
      "Epoch 45/50\n",
      "80/80 [==============================] - 1s 9ms/step - loss: 0.0816\n",
      "Epoch 46/50\n",
      "80/80 [==============================] - 1s 9ms/step - loss: 0.0818\n",
      "Epoch 47/50\n",
      "80/80 [==============================] - 1s 9ms/step - loss: 0.0711\n",
      "Epoch 48/50\n",
      "80/80 [==============================] - 1s 9ms/step - loss: 0.0539\n",
      "Epoch 49/50\n",
      "80/80 [==============================] - 1s 9ms/step - loss: 0.0463\n",
      "Epoch 50/50\n",
      "80/80 [==============================] - 1s 9ms/step - loss: 0.0386\n"
     ]
    }
   ],
   "source": [
    "model_copy = Model()\n",
    "model_copy(tf.expand_dims(x_test[0], 0))\n",
    "model_copy.set_weights(model.get_weights())\n",
    "\n",
    "model_adv = AdversarialModel(model_copy, epsilon=eps)\n",
    "model_adv.compile(keras.optimizers.Adam(), adversarial_loss)\n",
    "history_adv = model_adv.fit((x_train, y_train), y_train, batch_size=8, epochs=50)"
   ]
  },
  {
   "cell_type": "code",
   "execution_count": 10,
   "metadata": {},
   "outputs": [
    {
     "name": "stdout",
     "output_type": "stream",
     "text": [
      "Accuracy of clean data : 1.0\n",
      "Accuracy of adversarial data : 0.9125\n"
     ]
    }
   ],
   "source": [
    "rights = tf.reduce_sum(tf.where(tf.argmax(model_adv.predict(x_test, verbose=0), 1) == tf.argmax(y_test, 1), 1, 0)).numpy()\n",
    "print(\"Accuracy of clean data : {}\".format(rights / x_test.shape[0]))\n",
    "\n",
    "adv_x = FGSM(model_adv, x_test, y_test)\n",
    "rights = tf.reduce_sum(tf.where(tf.argmax(model_adv.predict(adv_x, verbose=0), 1) == tf.argmax(y_test, 1), 1, 0)).numpy()\n",
    "print(\"Accuracy of adversarial data : {}\".format(rights / x_test.shape[0]))"
   ]
  },
  {
   "cell_type": "markdown",
   "metadata": {},
   "source": [
    "Visualization"
   ]
  },
  {
   "cell_type": "code",
   "execution_count": 11,
   "metadata": {},
   "outputs": [],
   "source": [
    "def display_images(img, adv_img):\n",
    "    fig, axes = plt.subplots(2, 2)\n",
    "    epsilons = [0, eps]\n",
    "    descriptions = ['Epsilon = {:0.3f}'.format(eps) for eps in epsilons]\n",
    "    for i in range(2):\n",
    "        for j in range(2):\n",
    "            description = \"Origin Model, \" + descriptions[i] if j == 0 else \"Adv Model, \" + descriptions[i]\n",
    "            if i == 0:\n",
    "                pred = model.predict(img, verbose=0) if j == 0 else model_adv.predict(img, verbose=0)\n",
    "                label = tf.argmax(pred, -1)[0]\n",
    "                confidence = pred[0, label]\n",
    "                axes[i, j].imshow(cv2.cvtColor(img[0].numpy(), cv2.COLOR_BGR2RGB))\n",
    "                axes[i, j].set_title('{} \\n {} : {:.2f}% Confidence'.format(description, label, confidence*100))\n",
    "                axes[i, j].axis('off')\n",
    "            else:\n",
    "                pred = model.predict(adv_img[0], verbose=0) if j == 0 else model_adv.predict(adv_img[1], verbose=0)\n",
    "                label = tf.argmax(pred, -1)[0]\n",
    "                confidence = pred[0, label]\n",
    "                axes[i, j].imshow(cv2.cvtColor(adv_img[j][0].numpy(), cv2.COLOR_BGR2RGB))\n",
    "                axes[i, j].set_title('{} \\n {} : {:.2f}% Confidence'.format(description, label, confidence*100))\n",
    "                axes[i, j].axis('off')\n",
    "    plt.tight_layout()\n",
    "    plt.show()"
   ]
  },
  {
   "cell_type": "code",
   "execution_count": 12,
   "metadata": {},
   "outputs": [
    {
     "name": "stdout",
     "output_type": "stream",
     "text": [
      "True Label : 29\n"
     ]
    },
    {
     "data": {
      "image/png": "[encoded data removed]",
      "text/plain": [
       "<Figure size 640x480 with 4 Axes>"
      ]
     },
     "metadata": {},
     "output_type": "display_data"
    }
   ],
   "source": [
    "for i in range(x_test.shape[0]):\n",
    "    image = tf.expand_dims(x_test[i], 0)\n",
    "    label = tf.expand_dims(y_test[i], 0)\n",
    "    if(tf.argmax(model.predict(image, verbose=0), -1)[0] == tf.argmax(label, -1)[0]):\n",
    "        adv_x = [FGSM(model, image, label), FGSM(model_adv, image, label)]\n",
    "        if(tf.argmax(model.predict(image, verbose=0), -1)[0] != tf.argmax(model.predict(adv_x[0], verbose=0), -1)[0]):\n",
    "            if(tf.argmax(model_adv.predict(image, verbose=0), -1)[0] == tf.argmax(model_adv.predict(adv_x[1], verbose=0), -1)[0]):\n",
    "                print(\"True Label : {}\".format(tf.argmax(label, -1)[0].numpy()))\n",
    "                display_images(image, adv_x)\n",
    "                break"
   ]
  }
 ],
 "metadata": {
  "kernelspec": {
   "display_name": "base",
   "language": "python",
   "name": "python3"
  },
  "language_info": {
   "codemirror_mode": {
    "name": "ipython",
    "version": 3
   },
   "file_extension": ".py",
   "mimetype": "text/x-python",
   "name": "python",
   "nbconvert_exporter": "python",
   "pygments_lexer": "ipython3",
   "version": "3.11.5"
  }
 },
 "nbformat": 4,
 "nbformat_minor": 2
}
