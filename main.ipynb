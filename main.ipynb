{
 "cells": [
  {
   "cell_type": "code",
   "execution_count": 285,
   "metadata": {},
   "outputs": [],
   "source": [
    "import tensorflow as tf\n",
    "from tensorflow import keras\n",
    "import numpy as np\n",
    "import cv2\n",
    "import os\n",
    "import matplotlib.pyplot as plt\n",
    "from sklearn.model_selection import train_test_split"
   ]
  },
  {
   "cell_type": "code",
   "execution_count": 286,
   "metadata": {},
   "outputs": [
    {
     "name": "stdout",
     "output_type": "stream",
     "text": [
      "done\n"
     ]
    }
   ],
   "source": [
    "eps = 0.01\n",
    "\n",
    "path = \"./ORL3232/\"\n",
    "folders = sorted(os.listdir(path)[:-1], key = lambda x : int(x))\n",
    "\n",
    "imgs = []\n",
    "labels = []\n",
    "\n",
    "for folder in folders:\n",
    "    p = path + folder + '/'\n",
    "    files = os.listdir(p)\n",
    "    files = [p+x for x in files if x.endswith(\".bmp\")]\n",
    "    for file in files:\n",
    "        img = cv2.imread(file, 0) / 255.0\n",
    "        #img = img.reshape([-1])\n",
    "        imgs.append(np.reshape(img, [32, 32, 1]))\n",
    "        labels.append(int(folder) - 1)\n",
    "\n",
    "print(\"done\")"
   ]
  },
  {
   "cell_type": "code",
   "execution_count": 287,
   "metadata": {},
   "outputs": [],
   "source": [
    "x_data = imgs.copy() * 2\n",
    "y_data = labels.copy() * 2\n",
    "\n",
    "x_train, x_test, y_train, y_test = train_test_split(x_data, y_data, test_size=0.2, random_state=1207)\n",
    "\n",
    "x_train = tf.constant(x_train, dtype=tf.float32)\n",
    "x_test = tf.constant(x_test, dtype=tf.float32)\n",
    "y_train = tf.one_hot(y_train, len(folders))\n",
    "y_test = tf.one_hot(y_test, len(folders))\n",
    "\n",
    "assert x_train.shape[0] == y_train.shape[0]\n",
    "assert x_test.shape[0] == y_test.shape[0]"
   ]
  },
  {
   "cell_type": "code",
   "execution_count": 288,
   "metadata": {},
   "outputs": [],
   "source": [
    "class Model(keras.models.Model):\n",
    "    def __init__(self, *args, **kwargs):\n",
    "        super().__init__(*args, **kwargs)\n",
    "        self.pool = keras.layers.MaxPool2D()\n",
    "        self.flat = keras.layers.Flatten()\n",
    "        self.conv1 = keras.layers.Conv2D(32, 3, activation=tf.nn.relu)\n",
    "        self.conv2 = keras.layers.Conv2D(24, 3, activation=tf.nn.relu)\n",
    "        self.conv3 = keras.layers.Conv2D(16, 3, activation=tf.nn.relu)\n",
    "        self.layer1 = keras.layers.Dense(128, activation=tf.nn.relu)\n",
    "        self.layer2 = keras.layers.Dense(64, activation=tf.nn.relu)\n",
    "        self.layer3 = keras.layers.Dense(40, activation=tf.nn.softmax)\n",
    "        \n",
    "    def call(self, input):\n",
    "        x = input\n",
    "        x = self.pool(self.conv1(x))\n",
    "        x = self.pool(self.conv2(x))\n",
    "        x = self.pool(self.conv3(x))\n",
    "        x = self.flat(x)\n",
    "        x = self.layer1(x)\n",
    "        x = self.layer2(x)\n",
    "        x = self.layer3(x)\n",
    "        return x"
   ]
  },
  {
   "cell_type": "code",
   "execution_count": 289,
   "metadata": {},
   "outputs": [
    {
     "name": "stdout",
     "output_type": "stream",
     "text": [
      "Epoch 1/50\n",
      "64/64 [==============================] - 1s 7ms/step - loss: 3.6926 - categorical_accuracy: 0.0273 - val_loss: 3.6915 - val_categorical_accuracy: 0.0156\n",
      "Epoch 2/50\n",
      "64/64 [==============================] - 0s 5ms/step - loss: 3.6892 - categorical_accuracy: 0.0254 - val_loss: 3.6950 - val_categorical_accuracy: 0.0000e+00\n",
      "Epoch 3/50\n",
      "64/64 [==============================] - 0s 5ms/step - loss: 3.6863 - categorical_accuracy: 0.0254 - val_loss: 3.7074 - val_categorical_accuracy: 0.0000e+00\n",
      "Epoch 4/50\n",
      "64/64 [==============================] - 0s 5ms/step - loss: 3.6867 - categorical_accuracy: 0.0332 - val_loss: 3.6954 - val_categorical_accuracy: 0.0000e+00\n",
      "Epoch 5/50\n",
      "64/64 [==============================] - 0s 5ms/step - loss: 3.6791 - categorical_accuracy: 0.0352 - val_loss: 3.7024 - val_categorical_accuracy: 0.0000e+00\n",
      "Epoch 6/50\n",
      "64/64 [==============================] - 0s 5ms/step - loss: 3.6651 - categorical_accuracy: 0.0293 - val_loss: 3.6821 - val_categorical_accuracy: 0.0078\n",
      "Epoch 7/50\n",
      "64/64 [==============================] - 0s 5ms/step - loss: 3.5742 - categorical_accuracy: 0.0527 - val_loss: 3.4611 - val_categorical_accuracy: 0.0781\n",
      "Epoch 8/50\n",
      "64/64 [==============================] - 0s 5ms/step - loss: 3.1234 - categorical_accuracy: 0.1250 - val_loss: 2.8090 - val_categorical_accuracy: 0.1797\n",
      "Epoch 9/50\n",
      "64/64 [==============================] - 0s 5ms/step - loss: 2.5001 - categorical_accuracy: 0.2305 - val_loss: 2.3312 - val_categorical_accuracy: 0.3516\n",
      "Epoch 10/50\n",
      "64/64 [==============================] - 0s 5ms/step - loss: 2.0757 - categorical_accuracy: 0.3594 - val_loss: 1.9739 - val_categorical_accuracy: 0.3984\n",
      "Epoch 11/50\n",
      "64/64 [==============================] - 0s 6ms/step - loss: 1.6742 - categorical_accuracy: 0.4785 - val_loss: 1.6599 - val_categorical_accuracy: 0.4922\n",
      "Epoch 12/50\n",
      "64/64 [==============================] - 0s 6ms/step - loss: 1.3805 - categorical_accuracy: 0.5566 - val_loss: 1.5318 - val_categorical_accuracy: 0.5156\n",
      "Epoch 13/50\n",
      "64/64 [==============================] - 0s 5ms/step - loss: 1.2844 - categorical_accuracy: 0.5840 - val_loss: 1.5916 - val_categorical_accuracy: 0.4609\n",
      "Epoch 14/50\n",
      "64/64 [==============================] - 0s 5ms/step - loss: 0.9737 - categorical_accuracy: 0.6973 - val_loss: 1.2404 - val_categorical_accuracy: 0.6016\n",
      "Epoch 15/50\n",
      "64/64 [==============================] - 0s 6ms/step - loss: 0.8376 - categorical_accuracy: 0.7520 - val_loss: 1.1014 - val_categorical_accuracy: 0.7188\n",
      "Epoch 16/50\n",
      "64/64 [==============================] - 0s 6ms/step - loss: 0.7176 - categorical_accuracy: 0.7773 - val_loss: 1.0481 - val_categorical_accuracy: 0.7031\n",
      "Epoch 17/50\n",
      "64/64 [==============================] - 0s 5ms/step - loss: 0.7024 - categorical_accuracy: 0.7676 - val_loss: 0.9180 - val_categorical_accuracy: 0.7344\n",
      "Epoch 18/50\n",
      "64/64 [==============================] - 0s 5ms/step - loss: 0.5715 - categorical_accuracy: 0.8145 - val_loss: 1.0915 - val_categorical_accuracy: 0.7109\n",
      "Epoch 19/50\n",
      "64/64 [==============================] - 0s 6ms/step - loss: 0.5421 - categorical_accuracy: 0.8477 - val_loss: 0.8125 - val_categorical_accuracy: 0.8359\n",
      "Epoch 20/50\n",
      "64/64 [==============================] - 0s 6ms/step - loss: 0.3810 - categorical_accuracy: 0.8887 - val_loss: 0.6380 - val_categorical_accuracy: 0.8125\n",
      "Epoch 21/50\n",
      "64/64 [==============================] - 0s 5ms/step - loss: 0.3672 - categorical_accuracy: 0.8828 - val_loss: 0.7601 - val_categorical_accuracy: 0.8047\n",
      "Epoch 22/50\n",
      "64/64 [==============================] - 0s 5ms/step - loss: 0.2597 - categorical_accuracy: 0.9375 - val_loss: 0.6796 - val_categorical_accuracy: 0.8281\n",
      "Epoch 23/50\n",
      "64/64 [==============================] - 0s 5ms/step - loss: 0.3110 - categorical_accuracy: 0.9121 - val_loss: 0.7550 - val_categorical_accuracy: 0.8125\n",
      "Epoch 24/50\n",
      "64/64 [==============================] - 0s 5ms/step - loss: 0.2399 - categorical_accuracy: 0.9453 - val_loss: 0.5119 - val_categorical_accuracy: 0.8984\n",
      "Epoch 25/50\n",
      "64/64 [==============================] - 0s 6ms/step - loss: 0.1718 - categorical_accuracy: 0.9570 - val_loss: 0.5721 - val_categorical_accuracy: 0.8906\n",
      "Epoch 26/50\n",
      "64/64 [==============================] - 0s 5ms/step - loss: 0.1896 - categorical_accuracy: 0.9551 - val_loss: 0.5628 - val_categorical_accuracy: 0.8672\n",
      "Epoch 27/50\n",
      "64/64 [==============================] - 0s 5ms/step - loss: 0.1396 - categorical_accuracy: 0.9707 - val_loss: 0.5900 - val_categorical_accuracy: 0.8438\n",
      "Epoch 28/50\n",
      "64/64 [==============================] - 0s 5ms/step - loss: 0.1254 - categorical_accuracy: 0.9707 - val_loss: 0.5588 - val_categorical_accuracy: 0.8984\n",
      "Epoch 29/50\n",
      "64/64 [==============================] - 0s 6ms/step - loss: 0.1289 - categorical_accuracy: 0.9727 - val_loss: 0.7362 - val_categorical_accuracy: 0.8516\n",
      "Epoch 30/50\n",
      "64/64 [==============================] - 0s 6ms/step - loss: 0.1052 - categorical_accuracy: 0.9727 - val_loss: 0.5550 - val_categorical_accuracy: 0.8906\n",
      "Epoch 31/50\n",
      "64/64 [==============================] - 0s 5ms/step - loss: 0.0774 - categorical_accuracy: 0.9844 - val_loss: 0.5332 - val_categorical_accuracy: 0.8984\n",
      "Epoch 32/50\n",
      "64/64 [==============================] - 0s 5ms/step - loss: 0.1239 - categorical_accuracy: 0.9668 - val_loss: 0.6623 - val_categorical_accuracy: 0.8438\n",
      "Epoch 33/50\n",
      "64/64 [==============================] - 0s 5ms/step - loss: 0.1563 - categorical_accuracy: 0.9590 - val_loss: 0.4542 - val_categorical_accuracy: 0.9219\n",
      "Epoch 34/50\n",
      "64/64 [==============================] - 0s 6ms/step - loss: 0.0450 - categorical_accuracy: 0.9980 - val_loss: 0.4689 - val_categorical_accuracy: 0.9297\n",
      "Epoch 35/50\n",
      "64/64 [==============================] - 0s 6ms/step - loss: 0.0298 - categorical_accuracy: 0.9961 - val_loss: 0.4903 - val_categorical_accuracy: 0.9141\n",
      "Epoch 36/50\n",
      "64/64 [==============================] - 0s 5ms/step - loss: 0.0392 - categorical_accuracy: 0.9961 - val_loss: 0.5194 - val_categorical_accuracy: 0.9297\n",
      "Epoch 37/50\n",
      "64/64 [==============================] - 0s 6ms/step - loss: 0.0347 - categorical_accuracy: 0.9961 - val_loss: 0.3995 - val_categorical_accuracy: 0.9375\n",
      "Epoch 38/50\n",
      "64/64 [==============================] - 0s 5ms/step - loss: 0.0209 - categorical_accuracy: 1.0000 - val_loss: 0.3925 - val_categorical_accuracy: 0.9375\n",
      "Epoch 39/50\n",
      "64/64 [==============================] - 0s 6ms/step - loss: 0.0190 - categorical_accuracy: 1.0000 - val_loss: 0.5913 - val_categorical_accuracy: 0.9141\n",
      "Epoch 40/50\n",
      "64/64 [==============================] - 0s 6ms/step - loss: 0.0175 - categorical_accuracy: 1.0000 - val_loss: 0.4501 - val_categorical_accuracy: 0.9062\n",
      "Epoch 41/50\n",
      "64/64 [==============================] - 0s 6ms/step - loss: 0.0111 - categorical_accuracy: 1.0000 - val_loss: 0.5020 - val_categorical_accuracy: 0.9141\n",
      "Epoch 42/50\n",
      "64/64 [==============================] - 0s 6ms/step - loss: 0.0093 - categorical_accuracy: 1.0000 - val_loss: 0.4677 - val_categorical_accuracy: 0.9141\n",
      "Epoch 43/50\n",
      "64/64 [==============================] - 0s 6ms/step - loss: 0.0074 - categorical_accuracy: 1.0000 - val_loss: 0.4780 - val_categorical_accuracy: 0.9297\n",
      "Epoch 44/50\n",
      "64/64 [==============================] - 0s 6ms/step - loss: 0.0066 - categorical_accuracy: 1.0000 - val_loss: 0.5076 - val_categorical_accuracy: 0.9297\n",
      "Epoch 45/50\n",
      "64/64 [==============================] - 0s 6ms/step - loss: 0.0055 - categorical_accuracy: 1.0000 - val_loss: 0.5060 - val_categorical_accuracy: 0.9141\n",
      "Epoch 46/50\n",
      "64/64 [==============================] - 0s 6ms/step - loss: 0.0052 - categorical_accuracy: 1.0000 - val_loss: 0.5477 - val_categorical_accuracy: 0.9141\n",
      "Epoch 47/50\n",
      "64/64 [==============================] - 0s 6ms/step - loss: 0.0046 - categorical_accuracy: 1.0000 - val_loss: 0.5105 - val_categorical_accuracy: 0.9297\n",
      "Epoch 48/50\n",
      "64/64 [==============================] - 0s 6ms/step - loss: 0.0042 - categorical_accuracy: 1.0000 - val_loss: 0.4908 - val_categorical_accuracy: 0.9297\n",
      "Epoch 49/50\n",
      "64/64 [==============================] - 0s 6ms/step - loss: 0.0043 - categorical_accuracy: 1.0000 - val_loss: 0.5176 - val_categorical_accuracy: 0.9297\n",
      "Epoch 50/50\n",
      "64/64 [==============================] - 0s 6ms/step - loss: 0.0040 - categorical_accuracy: 1.0000 - val_loss: 0.4922 - val_categorical_accuracy: 0.9141\n"
     ]
    }
   ],
   "source": [
    "model = Model()\n",
    "model.compile(keras.optimizers.Adam(), tf.losses.categorical_crossentropy, tf.metrics.categorical_accuracy)\n",
    "\n",
    "history = model.fit(x_train, y_train, batch_size=8, epochs=50, validation_split=0.2)"
   ]
  },
  {
   "cell_type": "code",
   "execution_count": 290,
   "metadata": {},
   "outputs": [
    {
     "name": "stdout",
     "output_type": "stream",
     "text": [
      "5/5 [==============================] - 0s 4ms/step - loss: 0.9907 - categorical_accuracy: 0.9563\n"
     ]
    },
    {
     "data": {
      "text/plain": [
       "[0.9906856417655945, 0.956250011920929]"
      ]
     },
     "execution_count": 290,
     "metadata": {},
     "output_type": "execute_result"
    }
   ],
   "source": [
    "model.evaluate(x_test, y_test)"
   ]
  },
  {
   "cell_type": "markdown",
   "metadata": {},
   "source": [
    "FGSM"
   ]
  },
  {
   "cell_type": "code",
   "execution_count": 291,
   "metadata": {},
   "outputs": [],
   "source": [
    "loss_object = tf.keras.losses.CategoricalCrossentropy()\n",
    "\n",
    "def create_adversarial_pattern(input_image, input_label, model):\n",
    "    with tf.GradientTape() as tape:\n",
    "        tape.watch(input_image)\n",
    "        prediction = model(input_image)\n",
    "        loss = loss_object(input_label, prediction)\n",
    "\n",
    "    # Get the gradients of the loss w.r.t to the input image.\n",
    "    gradient = tape.gradient(loss, input_image)\n",
    "    # Get the sign of the gradients to create the perturbation\n",
    "    signed_grad = tf.sign(gradient)\n",
    "    return signed_grad"
   ]
  },
  {
   "cell_type": "markdown",
   "metadata": {},
   "source": [
    "Adversarial Training"
   ]
  },
  {
   "cell_type": "code",
   "execution_count": 292,
   "metadata": {},
   "outputs": [],
   "source": [
    "def generate_adv(img, label, model, epsilon = eps):\n",
    "    img = tf.expand_dims(tf.constant(img, dtype=tf.float32), 0)\n",
    "    label = tf.expand_dims(tf.one_hot(label, len(folders)), 0)\n",
    "    perturbations = create_adversarial_pattern(img, label, model)\n",
    "    return img + epsilon*perturbations"
   ]
  },
  {
   "cell_type": "code",
   "execution_count": 293,
   "metadata": {},
   "outputs": [],
   "source": [
    "img_adv = [imgs[i] + generate_adv(imgs[i], labels[i], model)[0].numpy() for i in range(len(imgs))]\n",
    "\n",
    "x_data_adv = imgs.copy()\n",
    "x_data_adv.extend(img_adv)\n",
    "y_data_adv = labels.copy()\n",
    "y_data_adv.extend(labels.copy())\n",
    "\n",
    "x_train_adv, x_test_adv, y_train_adv, y_test_adv = train_test_split(x_data_adv, y_data_adv, test_size=0.2, random_state=1207)\n",
    "\n",
    "x_train_adv = tf.constant(x_train_adv, dtype=tf.float32)\n",
    "x_test_adv = tf.constant(x_test_adv, dtype=tf.float32)\n",
    "y_train_adv = tf.one_hot(y_train_adv, len(folders))\n",
    "y_test_adv = tf.one_hot(y_test_adv, len(folders))\n",
    "\n",
    "assert x_train_adv.shape[0] == y_train_adv.shape[0]\n",
    "assert x_test_adv.shape[0] == y_test_adv.shape[0]\n"
   ]
  },
  {
   "cell_type": "code",
   "execution_count": 294,
   "metadata": {},
   "outputs": [
    {
     "name": "stdout",
     "output_type": "stream",
     "text": [
      "Epoch 1/50\n",
      "64/64 [==============================] - 2s 9ms/step - loss: 3.6931 - categorical_accuracy: 0.0215 - val_loss: 3.6933 - val_categorical_accuracy: 0.0156\n",
      "Epoch 2/50\n",
      "64/64 [==============================] - 0s 6ms/step - loss: 3.6879 - categorical_accuracy: 0.0312 - val_loss: 3.6943 - val_categorical_accuracy: 0.0156\n",
      "Epoch 3/50\n",
      "64/64 [==============================] - 0s 6ms/step - loss: 3.6832 - categorical_accuracy: 0.0410 - val_loss: 3.7039 - val_categorical_accuracy: 0.0156\n",
      "Epoch 4/50\n",
      "64/64 [==============================] - 0s 6ms/step - loss: 3.6778 - categorical_accuracy: 0.0410 - val_loss: 3.6893 - val_categorical_accuracy: 0.0156\n",
      "Epoch 5/50\n",
      "64/64 [==============================] - 1s 9ms/step - loss: 3.6354 - categorical_accuracy: 0.0469 - val_loss: 3.6190 - val_categorical_accuracy: 0.0156\n",
      "Epoch 6/50\n",
      "64/64 [==============================] - 0s 7ms/step - loss: 3.3203 - categorical_accuracy: 0.1074 - val_loss: 3.3299 - val_categorical_accuracy: 0.0859\n",
      "Epoch 7/50\n",
      "64/64 [==============================] - 0s 6ms/step - loss: 2.7303 - categorical_accuracy: 0.2715 - val_loss: 2.6172 - val_categorical_accuracy: 0.3047\n",
      "Epoch 8/50\n",
      "64/64 [==============================] - 0s 6ms/step - loss: 2.1623 - categorical_accuracy: 0.3945 - val_loss: 2.2835 - val_categorical_accuracy: 0.4531\n",
      "Epoch 9/50\n",
      "64/64 [==============================] - 0s 6ms/step - loss: 1.7913 - categorical_accuracy: 0.4902 - val_loss: 2.0050 - val_categorical_accuracy: 0.5078\n",
      "Epoch 10/50\n",
      "64/64 [==============================] - 0s 6ms/step - loss: 1.4076 - categorical_accuracy: 0.6055 - val_loss: 1.9047 - val_categorical_accuracy: 0.5078\n",
      "Epoch 11/50\n",
      "64/64 [==============================] - 0s 6ms/step - loss: 1.1686 - categorical_accuracy: 0.6758 - val_loss: 1.5205 - val_categorical_accuracy: 0.5938\n",
      "Epoch 12/50\n",
      "64/64 [==============================] - 0s 7ms/step - loss: 0.9580 - categorical_accuracy: 0.7109 - val_loss: 1.5279 - val_categorical_accuracy: 0.6797\n",
      "Epoch 13/50\n",
      "64/64 [==============================] - 0s 7ms/step - loss: 0.8160 - categorical_accuracy: 0.7676 - val_loss: 1.3196 - val_categorical_accuracy: 0.6406\n",
      "Epoch 14/50\n",
      "64/64 [==============================] - 0s 6ms/step - loss: 0.6419 - categorical_accuracy: 0.8164 - val_loss: 1.1656 - val_categorical_accuracy: 0.6719\n",
      "Epoch 15/50\n",
      "64/64 [==============================] - 0s 6ms/step - loss: 0.4781 - categorical_accuracy: 0.8789 - val_loss: 1.0542 - val_categorical_accuracy: 0.7109\n",
      "Epoch 16/50\n",
      "64/64 [==============================] - 0s 6ms/step - loss: 0.4818 - categorical_accuracy: 0.8750 - val_loss: 1.0972 - val_categorical_accuracy: 0.7344\n",
      "Epoch 17/50\n",
      "64/64 [==============================] - 0s 6ms/step - loss: 0.3436 - categorical_accuracy: 0.9062 - val_loss: 0.7886 - val_categorical_accuracy: 0.7422\n",
      "Epoch 18/50\n",
      "64/64 [==============================] - 0s 6ms/step - loss: 0.2773 - categorical_accuracy: 0.9180 - val_loss: 0.8925 - val_categorical_accuracy: 0.7656\n",
      "Epoch 19/50\n",
      "64/64 [==============================] - 0s 6ms/step - loss: 0.2712 - categorical_accuracy: 0.9160 - val_loss: 1.0213 - val_categorical_accuracy: 0.7109\n",
      "Epoch 20/50\n",
      "64/64 [==============================] - 0s 6ms/step - loss: 0.2330 - categorical_accuracy: 0.9375 - val_loss: 0.7414 - val_categorical_accuracy: 0.8203\n",
      "Epoch 21/50\n",
      "64/64 [==============================] - 0s 6ms/step - loss: 0.2162 - categorical_accuracy: 0.9492 - val_loss: 0.5836 - val_categorical_accuracy: 0.8281\n",
      "Epoch 22/50\n",
      "64/64 [==============================] - 0s 6ms/step - loss: 0.1382 - categorical_accuracy: 0.9629 - val_loss: 0.5690 - val_categorical_accuracy: 0.8672\n",
      "Epoch 23/50\n",
      "64/64 [==============================] - 0s 6ms/step - loss: 0.0992 - categorical_accuracy: 0.9883 - val_loss: 0.6541 - val_categorical_accuracy: 0.8438\n",
      "Epoch 24/50\n",
      "64/64 [==============================] - 0s 6ms/step - loss: 0.0943 - categorical_accuracy: 0.9766 - val_loss: 0.5648 - val_categorical_accuracy: 0.8672\n",
      "Epoch 25/50\n",
      "64/64 [==============================] - 0s 6ms/step - loss: 0.0802 - categorical_accuracy: 0.9844 - val_loss: 0.7493 - val_categorical_accuracy: 0.8281\n",
      "Epoch 26/50\n",
      "64/64 [==============================] - 0s 6ms/step - loss: 0.0894 - categorical_accuracy: 0.9824 - val_loss: 0.7304 - val_categorical_accuracy: 0.8203\n",
      "Epoch 27/50\n",
      "64/64 [==============================] - 0s 6ms/step - loss: 0.1291 - categorical_accuracy: 0.9551 - val_loss: 0.6856 - val_categorical_accuracy: 0.8047\n",
      "Epoch 28/50\n",
      "64/64 [==============================] - 0s 7ms/step - loss: 0.0976 - categorical_accuracy: 0.9727 - val_loss: 0.6120 - val_categorical_accuracy: 0.8516\n",
      "Epoch 29/50\n",
      "64/64 [==============================] - 0s 6ms/step - loss: 0.0414 - categorical_accuracy: 0.9941 - val_loss: 0.5209 - val_categorical_accuracy: 0.8984\n",
      "Epoch 30/50\n",
      "64/64 [==============================] - 0s 6ms/step - loss: 0.0291 - categorical_accuracy: 0.9961 - val_loss: 0.8288 - val_categorical_accuracy: 0.8594\n",
      "Epoch 31/50\n",
      "64/64 [==============================] - 0s 6ms/step - loss: 0.0277 - categorical_accuracy: 1.0000 - val_loss: 0.5052 - val_categorical_accuracy: 0.8906\n",
      "Epoch 32/50\n",
      "64/64 [==============================] - 0s 6ms/step - loss: 0.0203 - categorical_accuracy: 0.9980 - val_loss: 0.4531 - val_categorical_accuracy: 0.9062\n",
      "Epoch 33/50\n",
      "64/64 [==============================] - 0s 6ms/step - loss: 0.0120 - categorical_accuracy: 1.0000 - val_loss: 0.4579 - val_categorical_accuracy: 0.9062\n",
      "Epoch 34/50\n",
      "64/64 [==============================] - 0s 6ms/step - loss: 0.0102 - categorical_accuracy: 1.0000 - val_loss: 0.4697 - val_categorical_accuracy: 0.9062\n",
      "Epoch 35/50\n",
      "64/64 [==============================] - 0s 6ms/step - loss: 0.0114 - categorical_accuracy: 1.0000 - val_loss: 0.5113 - val_categorical_accuracy: 0.8984\n",
      "Epoch 36/50\n",
      "64/64 [==============================] - 0s 7ms/step - loss: 0.0100 - categorical_accuracy: 1.0000 - val_loss: 0.4977 - val_categorical_accuracy: 0.9141\n",
      "Epoch 37/50\n",
      "64/64 [==============================] - 0s 6ms/step - loss: 0.0068 - categorical_accuracy: 1.0000 - val_loss: 0.4747 - val_categorical_accuracy: 0.9219\n",
      "Epoch 38/50\n",
      "64/64 [==============================] - 0s 6ms/step - loss: 0.0062 - categorical_accuracy: 1.0000 - val_loss: 0.4860 - val_categorical_accuracy: 0.9062\n",
      "Epoch 39/50\n",
      "64/64 [==============================] - 0s 6ms/step - loss: 0.0059 - categorical_accuracy: 1.0000 - val_loss: 0.4923 - val_categorical_accuracy: 0.9219\n",
      "Epoch 40/50\n",
      "64/64 [==============================] - 0s 6ms/step - loss: 0.0051 - categorical_accuracy: 1.0000 - val_loss: 0.4924 - val_categorical_accuracy: 0.9219\n",
      "Epoch 41/50\n",
      "64/64 [==============================] - 0s 6ms/step - loss: 0.0046 - categorical_accuracy: 1.0000 - val_loss: 0.5008 - val_categorical_accuracy: 0.9219\n",
      "Epoch 42/50\n",
      "64/64 [==============================] - 0s 6ms/step - loss: 0.0043 - categorical_accuracy: 1.0000 - val_loss: 0.4978 - val_categorical_accuracy: 0.9219\n",
      "Epoch 43/50\n",
      "64/64 [==============================] - 0s 6ms/step - loss: 0.0038 - categorical_accuracy: 1.0000 - val_loss: 0.4936 - val_categorical_accuracy: 0.9219\n",
      "Epoch 44/50\n",
      "64/64 [==============================] - 0s 6ms/step - loss: 0.0036 - categorical_accuracy: 1.0000 - val_loss: 0.4855 - val_categorical_accuracy: 0.9297\n",
      "Epoch 45/50\n",
      "64/64 [==============================] - 0s 6ms/step - loss: 0.0033 - categorical_accuracy: 1.0000 - val_loss: 0.4959 - val_categorical_accuracy: 0.9219\n",
      "Epoch 46/50\n",
      "64/64 [==============================] - 0s 5ms/step - loss: 0.0032 - categorical_accuracy: 1.0000 - val_loss: 0.4899 - val_categorical_accuracy: 0.9219\n",
      "Epoch 47/50\n",
      "64/64 [==============================] - 0s 6ms/step - loss: 0.0029 - categorical_accuracy: 1.0000 - val_loss: 0.5055 - val_categorical_accuracy: 0.9219\n",
      "Epoch 48/50\n",
      "64/64 [==============================] - 0s 6ms/step - loss: 0.0028 - categorical_accuracy: 1.0000 - val_loss: 0.5150 - val_categorical_accuracy: 0.9219\n",
      "Epoch 49/50\n",
      "64/64 [==============================] - 0s 6ms/step - loss: 0.0028 - categorical_accuracy: 1.0000 - val_loss: 0.5059 - val_categorical_accuracy: 0.9219\n",
      "Epoch 50/50\n",
      "64/64 [==============================] - 0s 6ms/step - loss: 0.0025 - categorical_accuracy: 1.0000 - val_loss: 0.5209 - val_categorical_accuracy: 0.9297\n"
     ]
    }
   ],
   "source": [
    "model_adv = Model()\n",
    "model_adv.compile(keras.optimizers.Adam(), tf.losses.categorical_crossentropy, tf.metrics.categorical_accuracy)\n",
    "\n",
    "history_adv = model_adv.fit(x_train_adv, y_train_adv, batch_size=8, epochs=50, validation_split=0.2)"
   ]
  },
  {
   "cell_type": "code",
   "execution_count": 295,
   "metadata": {},
   "outputs": [
    {
     "name": "stdout",
     "output_type": "stream",
     "text": [
      "5/5 [==============================] - 0s 6ms/step - loss: 0.3917 - categorical_accuracy: 0.9500\n"
     ]
    },
    {
     "data": {
      "text/plain": [
       "[0.39169734716415405, 0.949999988079071]"
      ]
     },
     "execution_count": 295,
     "metadata": {},
     "output_type": "execute_result"
    }
   ],
   "source": [
    "model_adv.evaluate(x_test, y_test)"
   ]
  },
  {
   "cell_type": "markdown",
   "metadata": {},
   "source": [
    "Compare"
   ]
  },
  {
   "cell_type": "code",
   "execution_count": 296,
   "metadata": {},
   "outputs": [],
   "source": [
    "def display_images(image, gt):\n",
    "    fig, axes = plt.subplots(2, 2)\n",
    "    epsilons = [0, eps]\n",
    "    descriptions = ['Epsilon = {:0.3f}'.format(eps) for eps in epsilons]\n",
    "    perturbations = create_adversarial_pattern(image, gt, model)\n",
    "    for i in range(2):\n",
    "        for j in range(2):\n",
    "            img = image + epsilons[j] * perturbations\n",
    "            description = \"Origin Model, \" + descriptions[j] if i == 0 else \"Adv Model, \" + descriptions[j]\n",
    "            pred = model.predict(img, verbose=0) if i == 0 else model_adv.predict(img, verbose=0)\n",
    "            label = tf.argmax(pred, -1)[0]\n",
    "            confidence = pred[0, label]\n",
    "            axes[j, i].imshow(cv2.cvtColor(img[0].numpy()*0.5+0.5, cv2.COLOR_BGR2RGB))\n",
    "            axes[j, i].set_title('{} \\n {} : {:.2f}% Confidence'.format(description, label, confidence*100))\n",
    "            axes[j, i].axis('off')\n",
    "    plt.tight_layout()\n",
    "    plt.show()"
   ]
  },
  {
   "cell_type": "code",
   "execution_count": 297,
   "metadata": {},
   "outputs": [
    {
     "name": "stdout",
     "output_type": "stream",
     "text": [
      "True Label : 36\n"
     ]
    },
    {
     "data": {
      "image/png": "[encoded data removed]",
      "text/plain": [
       "<Figure size 640x480 with 4 Axes>"
      ]
     },
     "metadata": {},
     "output_type": "display_data"
    }
   ],
   "source": [
    "for i in range(x_test.shape[0]):\n",
    "    image = tf.expand_dims(x_test[i], 0)\n",
    "    label = tf.expand_dims(y_test[i], 0)\n",
    "    if(tf.argmax(model.predict(image, verbose=0), -1)[0] == tf.argmax(label, -1)[0]):\n",
    "        perturbations = create_adversarial_pattern(image, label, model)\n",
    "        adv_x = image + eps*perturbations\n",
    "        if(tf.argmax(model.predict(image, verbose=0), -1)[0] != tf.argmax(model.predict(adv_x, verbose=0), -1)[0]):\n",
    "            if(tf.argmax(model_adv.predict(image, verbose=0), -1)[0] == tf.argmax(model_adv.predict(adv_x, verbose=0), -1)[0]):\n",
    "                print(\"True Label : {}\".format(tf.argmax(label, -1)[0].numpy()))\n",
    "                break\n",
    "\n",
    "display_images(image, label)"
   ]
  },
  {
   "cell_type": "code",
   "execution_count": 298,
   "metadata": {},
   "outputs": [
    {
     "name": "stdout",
     "output_type": "stream",
     "text": [
      "5/5 [==============================] - 0s 5ms/step - loss: 34.8246 - categorical_accuracy: 0.4250\n",
      "5/5 [==============================] - 0s 5ms/step - loss: 0.5617 - categorical_accuracy: 0.9375\n"
     ]
    },
    {
     "data": {
      "text/plain": [
       "[0.5616599917411804, 0.9375]"
      ]
     },
     "execution_count": 298,
     "metadata": {},
     "output_type": "execute_result"
    }
   ],
   "source": [
    "model.evaluate(x_test_adv, y_test_adv)\n",
    "model_adv.evaluate(x_test_adv, y_test_adv)"
   ]
  }
 ],
 "metadata": {
  "kernelspec": {
   "display_name": "base",
   "language": "python",
   "name": "python3"
  },
  "language_info": {
   "codemirror_mode": {
    "name": "ipython",
    "version": 3
   },
   "file_extension": ".py",
   "mimetype": "text/x-python",
   "name": "python",
   "nbconvert_exporter": "python",
   "pygments_lexer": "ipython3",
   "version": "3.11.5"
  }
 },
 "nbformat": 4,
 "nbformat_minor": 2
}
