{
 "cells": [
  {
   "cell_type": "code",
   "execution_count": 1,
   "metadata": {},
   "outputs": [],
   "source": [
    "import tensorflow as tf\n",
    "from tensorflow import keras\n",
    "import numpy as np\n",
    "import cv2\n",
    "import os\n",
    "import matplotlib.pyplot as plt\n",
    "from sklearn.model_selection import train_test_split"
   ]
  },
  {
   "cell_type": "code",
   "execution_count": 2,
   "metadata": {},
   "outputs": [],
   "source": [
    "eps = 0.01\n",
    "\n",
    "def FGSM(model, x, y, epsilon = eps):\n",
    "    with tf.GradientTape() as tape:\n",
    "        tape.watch(x)\n",
    "        predictions = model(x)\n",
    "        loss = tf.keras.losses.categorical_crossentropy(y, predictions)\n",
    "    gradient = tape.gradient(loss, x)\n",
    "    signed_grad = tf.sign(gradient)\n",
    "    adv_x = x + epsilon * signed_grad\n",
    "    adv_x = tf.clip_by_value(adv_x, 0.0, 1.0)\n",
    "    return adv_x"
   ]
  },
  {
   "cell_type": "code",
   "execution_count": 3,
   "metadata": {},
   "outputs": [
    {
     "name": "stdout",
     "output_type": "stream",
     "text": [
      "done\n"
     ]
    }
   ],
   "source": [
    "path = \"../ORL3232/\"\n",
    "folders = sorted(os.listdir(path)[:-1], key = lambda x : int(x))\n",
    "\n",
    "imgs = []\n",
    "labels = []\n",
    "\n",
    "for folder in folders:\n",
    "    p = path + folder + '/'\n",
    "    files = os.listdir(p)\n",
    "    files = [p+x for x in files if x.endswith(\".bmp\")]\n",
    "    for file in files:\n",
    "        img = cv2.imread(file, 0) / 255.0\n",
    "        imgs.append(np.reshape(img, [32, 32, 1]))\n",
    "        labels.append(int(folder) - 1)\n",
    "\n",
    "print(\"done\")"
   ]
  },
  {
   "cell_type": "code",
   "execution_count": 4,
   "metadata": {},
   "outputs": [],
   "source": [
    "x_data = imgs.copy() * 2\n",
    "y_data = labels.copy() * 2\n",
    "\n",
    "x_train, x_test, y_train, y_test = train_test_split(x_data, y_data, test_size=0.2)\n",
    "\n",
    "x_train = tf.constant(x_train, dtype=tf.float32)\n",
    "y_train = tf.one_hot(y_train, len(folders))\n",
    "\n",
    "x_test = tf.constant(x_test, dtype=tf.float32)\n",
    "y_test = tf.one_hot(y_test, len(folders))\n",
    "\n",
    "assert x_train.shape[0] == y_train.shape[0]"
   ]
  },
  {
   "cell_type": "markdown",
   "metadata": {},
   "source": [
    "Normal Training"
   ]
  },
  {
   "cell_type": "code",
   "execution_count": 5,
   "metadata": {},
   "outputs": [],
   "source": [
    "class Model(keras.models.Model):\n",
    "    def __init__(self, *args, **kwargs):\n",
    "        super().__init__(*args, **kwargs)\n",
    "        self.pool = keras.layers.MaxPool2D()\n",
    "        self.flat = keras.layers.Flatten()\n",
    "        self.conv1 = keras.layers.Conv2D(24, 3, activation=tf.nn.relu)\n",
    "        self.conv2 = keras.layers.Conv2D(16, 3, activation=tf.nn.relu)\n",
    "        self.conv3 = keras.layers.Conv2D(12, 3, activation=tf.nn.relu)\n",
    "        self.layer1 = keras.layers.Dense(64, activation=tf.nn.relu)\n",
    "        self.layer2 = keras.layers.Dense(64, activation=tf.nn.relu)\n",
    "        self.layer3 = keras.layers.Dense(40, activation=tf.nn.softmax)\n",
    "        \n",
    "    def call(self, input):\n",
    "        x = input\n",
    "        x = self.pool(self.conv1(x))\n",
    "        x = self.pool(self.conv2(x))\n",
    "        x = self.pool(self.conv3(x))\n",
    "        x = self.flat(x)\n",
    "        x = self.layer1(x)\n",
    "        x = self.layer2(x)\n",
    "        x = self.layer3(x)\n",
    "        return x"
   ]
  },
  {
   "cell_type": "code",
   "execution_count": 6,
   "metadata": {},
   "outputs": [
    {
     "name": "stdout",
     "output_type": "stream",
     "text": [
      "Epoch 1/50\n",
      "80/80 [==============================] - 1s 6ms/step - loss: 3.6928 - categorical_accuracy: 0.0172\n",
      "Epoch 2/50\n",
      "80/80 [==============================] - 0s 5ms/step - loss: 3.6896 - categorical_accuracy: 0.0188\n",
      "Epoch 3/50\n",
      "80/80 [==============================] - 1s 7ms/step - loss: 3.6891 - categorical_accuracy: 0.0297\n",
      "Epoch 4/50\n",
      "80/80 [==============================] - 0s 5ms/step - loss: 3.6875 - categorical_accuracy: 0.0203\n",
      "Epoch 5/50\n",
      "80/80 [==============================] - 0s 4ms/step - loss: 3.6744 - categorical_accuracy: 0.0328\n",
      "Epoch 6/50\n",
      "80/80 [==============================] - 1s 7ms/step - loss: 3.4788 - categorical_accuracy: 0.0984\n",
      "Epoch 7/50\n",
      "80/80 [==============================] - 0s 4ms/step - loss: 2.7605 - categorical_accuracy: 0.2016\n",
      "Epoch 8/50\n",
      "80/80 [==============================] - 0s 5ms/step - loss: 2.1409 - categorical_accuracy: 0.3828\n",
      "Epoch 9/50\n",
      "80/80 [==============================] - 0s 5ms/step - loss: 1.6464 - categorical_accuracy: 0.5016\n",
      "Epoch 10/50\n",
      "80/80 [==============================] - 1s 8ms/step - loss: 1.2368 - categorical_accuracy: 0.6516\n",
      "Epoch 11/50\n",
      "80/80 [==============================] - 1s 8ms/step - loss: 1.0454 - categorical_accuracy: 0.6750\n",
      "Epoch 12/50\n",
      "80/80 [==============================] - 1s 7ms/step - loss: 0.9072 - categorical_accuracy: 0.7437\n",
      "Epoch 13/50\n",
      "80/80 [==============================] - 0s 4ms/step - loss: 0.7088 - categorical_accuracy: 0.8172\n",
      "Epoch 14/50\n",
      "80/80 [==============================] - 0s 6ms/step - loss: 0.5804 - categorical_accuracy: 0.8391\n",
      "Epoch 15/50\n",
      "80/80 [==============================] - 1s 8ms/step - loss: 0.5071 - categorical_accuracy: 0.8641\n",
      "Epoch 16/50\n",
      "80/80 [==============================] - 1s 7ms/step - loss: 0.3961 - categorical_accuracy: 0.8969\n",
      "Epoch 17/50\n",
      "80/80 [==============================] - 1s 9ms/step - loss: 0.3278 - categorical_accuracy: 0.9031\n",
      "Epoch 18/50\n",
      "80/80 [==============================] - 1s 9ms/step - loss: 0.2929 - categorical_accuracy: 0.9250\n",
      "Epoch 19/50\n",
      "80/80 [==============================] - 1s 7ms/step - loss: 0.2637 - categorical_accuracy: 0.9312\n",
      "Epoch 20/50\n",
      "80/80 [==============================] - 1s 7ms/step - loss: 0.2113 - categorical_accuracy: 0.9438\n",
      "Epoch 21/50\n",
      "80/80 [==============================] - 0s 5ms/step - loss: 0.1616 - categorical_accuracy: 0.9609\n",
      "Epoch 22/50\n",
      "80/80 [==============================] - 1s 10ms/step - loss: 0.2213 - categorical_accuracy: 0.9281\n",
      "Epoch 23/50\n",
      "80/80 [==============================] - 0s 6ms/step - loss: 0.1267 - categorical_accuracy: 0.9688\n",
      "Epoch 24/50\n",
      "80/80 [==============================] - 1s 9ms/step - loss: 0.1117 - categorical_accuracy: 0.9719\n",
      "Epoch 25/50\n",
      "80/80 [==============================] - 1s 9ms/step - loss: 0.1228 - categorical_accuracy: 0.9703\n",
      "Epoch 26/50\n",
      "80/80 [==============================] - 1s 6ms/step - loss: 0.1277 - categorical_accuracy: 0.9672\n",
      "Epoch 27/50\n",
      "80/80 [==============================] - 1s 11ms/step - loss: 0.0818 - categorical_accuracy: 0.9859\n",
      "Epoch 28/50\n",
      "80/80 [==============================] - 0s 6ms/step - loss: 0.1819 - categorical_accuracy: 0.9406\n",
      "Epoch 29/50\n",
      "80/80 [==============================] - 0s 6ms/step - loss: 0.0813 - categorical_accuracy: 0.9844\n",
      "Epoch 30/50\n",
      "80/80 [==============================] - 0s 4ms/step - loss: 0.0621 - categorical_accuracy: 0.9891\n",
      "Epoch 31/50\n",
      "80/80 [==============================] - 1s 10ms/step - loss: 0.0389 - categorical_accuracy: 0.9953\n",
      "Epoch 32/50\n",
      "80/80 [==============================] - 1s 7ms/step - loss: 0.0419 - categorical_accuracy: 0.9891\n",
      "Epoch 33/50\n",
      "80/80 [==============================] - 0s 6ms/step - loss: 0.0439 - categorical_accuracy: 0.9891\n",
      "Epoch 34/50\n",
      "80/80 [==============================] - 1s 7ms/step - loss: 0.0648 - categorical_accuracy: 0.9828\n",
      "Epoch 35/50\n",
      "80/80 [==============================] - 1s 7ms/step - loss: 0.0834 - categorical_accuracy: 0.9734\n",
      "Epoch 36/50\n",
      "80/80 [==============================] - 1s 7ms/step - loss: 0.0329 - categorical_accuracy: 0.9937\n",
      "Epoch 37/50\n",
      "80/80 [==============================] - 1s 6ms/step - loss: 0.0161 - categorical_accuracy: 0.9984\n",
      "Epoch 38/50\n",
      "80/80 [==============================] - 0s 6ms/step - loss: 0.0137 - categorical_accuracy: 1.0000\n",
      "Epoch 39/50\n",
      "80/80 [==============================] - 1s 7ms/step - loss: 0.0096 - categorical_accuracy: 1.0000\n",
      "Epoch 40/50\n",
      "80/80 [==============================] - 1s 8ms/step - loss: 0.0088 - categorical_accuracy: 1.0000\n",
      "Epoch 41/50\n",
      "80/80 [==============================] - 1s 7ms/step - loss: 0.0108 - categorical_accuracy: 1.0000\n",
      "Epoch 42/50\n",
      "80/80 [==============================] - 1s 7ms/step - loss: 0.0087 - categorical_accuracy: 1.0000\n",
      "Epoch 43/50\n",
      "80/80 [==============================] - 1s 6ms/step - loss: 0.0091 - categorical_accuracy: 1.0000\n",
      "Epoch 44/50\n",
      "80/80 [==============================] - 0s 5ms/step - loss: 0.0060 - categorical_accuracy: 1.0000\n",
      "Epoch 45/50\n",
      "80/80 [==============================] - 0s 6ms/step - loss: 0.0057 - categorical_accuracy: 1.0000\n",
      "Epoch 46/50\n",
      "80/80 [==============================] - 1s 8ms/step - loss: 0.0052 - categorical_accuracy: 1.0000\n",
      "Epoch 47/50\n",
      "80/80 [==============================] - 1s 9ms/step - loss: 0.0045 - categorical_accuracy: 1.0000\n",
      "Epoch 48/50\n",
      "80/80 [==============================] - 1s 8ms/step - loss: 0.0043 - categorical_accuracy: 1.0000\n",
      "Epoch 49/50\n",
      "80/80 [==============================] - 1s 6ms/step - loss: 0.0037 - categorical_accuracy: 1.0000\n",
      "Epoch 50/50\n",
      "80/80 [==============================] - 1s 6ms/step - loss: 0.0032 - categorical_accuracy: 1.0000\n"
     ]
    }
   ],
   "source": [
    "model = Model()\n",
    "model.compile(keras.optimizers.Adam(), tf.losses.categorical_crossentropy, tf.metrics.categorical_accuracy)\n",
    "\n",
    "history = model.fit(x_train, y_train, batch_size=8, epochs=50)"
   ]
  },
  {
   "cell_type": "code",
   "execution_count": 7,
   "metadata": {},
   "outputs": [
    {
     "name": "stdout",
     "output_type": "stream",
     "text": [
      "Accuracy of clean data : 0.9750000238418579\n",
      "Accuracy of adversarial data : 0.40625\n"
     ]
    }
   ],
   "source": [
    "print(\"Accuracy of clean data : {}\".format(model.evaluate(x_test, y_test, verbose=0)[1]))\n",
    "\n",
    "adv_x = FGSM(model, x_test, y_test)\n",
    "rights = tf.reduce_sum(tf.where(tf.argmax(model.predict(adv_x, verbose=0), 1) == tf.argmax(y_test, 1), 1, 0)).numpy()\n",
    "print(\"Accuracy of adversarial data : {}\".format(rights / x_test.shape[0]))"
   ]
  },
  {
   "cell_type": "markdown",
   "metadata": {},
   "source": [
    "Adversarial Training"
   ]
  },
  {
   "cell_type": "code",
   "execution_count": 8,
   "metadata": {},
   "outputs": [],
   "source": [
    "class AdversarialModel(Model):\n",
    "    def __init__(self, base_model, epsilon):\n",
    "        super(AdversarialModel, self).__init__()\n",
    "        self.base_model = base_model\n",
    "        self.epsilon = epsilon\n",
    "\n",
    "    def fgsm_attack(self, x, y):\n",
    "        with tf.GradientTape() as tape:\n",
    "            tape.watch(x)\n",
    "            predictions = self.base_model(x)\n",
    "            loss = tf.keras.losses.categorical_crossentropy(y, predictions)\n",
    "        gradient = tape.gradient(loss, x)\n",
    "        signed_grad = tf.sign(gradient)\n",
    "        adv_x = x + self.epsilon * signed_grad\n",
    "        adv_x = tf.clip_by_value(adv_x, 0.0, 1.0)\n",
    "        return adv_x\n",
    "\n",
    "    def call(self, inputs, training = False):\n",
    "        if training:\n",
    "            x, y = inputs \n",
    "            adv_x = self.fgsm_attack(x, y)  \n",
    "            clean_preds = self.base_model(x)\n",
    "            adv_preds = self.base_model(adv_x)\n",
    "            return tf.concat([clean_preds, adv_preds], 0)\n",
    "        else:\n",
    "            x = inputs \n",
    "            return self.base_model(x)\n",
    "\n",
    "@tf.function\n",
    "def adversarial_loss(y_true, y_pred):\n",
    "    size = y_pred.shape[0] // 2\n",
    "    clean_preds, adv_preds = tf.split(y_pred, [size, size])\n",
    "    loss_clean = tf.keras.losses.categorical_crossentropy(y_true, clean_preds)\n",
    "    loss_adv = tf.keras.losses.categorical_crossentropy(y_true, adv_preds)\n",
    "    return 0.5 * tf.reduce_mean(loss_clean) + 0.5 * tf.reduce_mean(loss_adv)"
   ]
  },
  {
   "cell_type": "code",
   "execution_count": 9,
   "metadata": {},
   "outputs": [
    {
     "name": "stdout",
     "output_type": "stream",
     "text": [
      "Epoch 1/50\n",
      "80/80 [==============================] - 5s 39ms/step - loss: 0.9921\n",
      "Epoch 2/50\n",
      "80/80 [==============================] - 2s 26ms/step - loss: 0.6159\n",
      "Epoch 3/50\n",
      "80/80 [==============================] - 1s 18ms/step - loss: 0.4974\n",
      "Epoch 4/50\n",
      "80/80 [==============================] - 1s 19ms/step - loss: 0.4928\n",
      "Epoch 5/50\n",
      "80/80 [==============================] - 2s 25ms/step - loss: 0.4548\n",
      "Epoch 6/50\n",
      "80/80 [==============================] - 4s 48ms/step - loss: 0.3570\n",
      "Epoch 7/50\n",
      "80/80 [==============================] - 4s 51ms/step - loss: 0.3617\n",
      "Epoch 8/50\n",
      "80/80 [==============================] - 4s 51ms/step - loss: 0.2925\n",
      "Epoch 9/50\n",
      "80/80 [==============================] - 4s 56ms/step - loss: 0.3122\n",
      "Epoch 10/50\n",
      "80/80 [==============================] - 5s 62ms/step - loss: 0.3022\n",
      "Epoch 11/50\n",
      "80/80 [==============================] - 3s 39ms/step - loss: 0.2834\n",
      "Epoch 12/50\n",
      "80/80 [==============================] - 3s 33ms/step - loss: 0.2238\n",
      "Epoch 13/50\n",
      "80/80 [==============================] - 3s 37ms/step - loss: 0.2591\n",
      "Epoch 14/50\n",
      "80/80 [==============================] - 2s 28ms/step - loss: 0.2085\n",
      "Epoch 15/50\n",
      "80/80 [==============================] - 2s 30ms/step - loss: 0.2125\n",
      "Epoch 16/50\n",
      "80/80 [==============================] - 2s 27ms/step - loss: 0.1819\n",
      "Epoch 17/50\n",
      "80/80 [==============================] - 2s 30ms/step - loss: 0.1875\n",
      "Epoch 18/50\n",
      "80/80 [==============================] - 2s 29ms/step - loss: 0.1668\n",
      "Epoch 19/50\n",
      "80/80 [==============================] - 2s 30ms/step - loss: 0.1861\n",
      "Epoch 20/50\n",
      "80/80 [==============================] - 2s 28ms/step - loss: 0.1606\n",
      "Epoch 21/50\n",
      "80/80 [==============================] - 3s 31ms/step - loss: 0.1664\n",
      "Epoch 22/50\n",
      "80/80 [==============================] - 3s 35ms/step - loss: 0.1818\n",
      "Epoch 23/50\n",
      "80/80 [==============================] - 3s 34ms/step - loss: 0.2207\n",
      "Epoch 24/50\n",
      "80/80 [==============================] - 2s 28ms/step - loss: 0.1296\n",
      "Epoch 25/50\n",
      "80/80 [==============================] - 3s 32ms/step - loss: 0.1253\n",
      "Epoch 26/50\n",
      "80/80 [==============================] - 2s 28ms/step - loss: 0.1022\n",
      "Epoch 27/50\n",
      "80/80 [==============================] - 2s 30ms/step - loss: 0.1117\n",
      "Epoch 28/50\n",
      "80/80 [==============================] - 3s 32ms/step - loss: 0.1294\n",
      "Epoch 29/50\n",
      "80/80 [==============================] - 3s 35ms/step - loss: 0.0896\n",
      "Epoch 30/50\n",
      "80/80 [==============================] - 2s 28ms/step - loss: 0.0866\n",
      "Epoch 31/50\n",
      "80/80 [==============================] - 2s 31ms/step - loss: 0.0924\n",
      "Epoch 32/50\n",
      "80/80 [==============================] - 3s 32ms/step - loss: 0.1164\n",
      "Epoch 33/50\n",
      "80/80 [==============================] - 2s 29ms/step - loss: 0.1185\n",
      "Epoch 34/50\n",
      "80/80 [==============================] - 2s 28ms/step - loss: 0.0743\n",
      "Epoch 35/50\n",
      "80/80 [==============================] - 3s 32ms/step - loss: 0.0534\n",
      "Epoch 36/50\n",
      "80/80 [==============================] - 3s 42ms/step - loss: 0.0652\n",
      "Epoch 37/50\n",
      "80/80 [==============================] - 3s 40ms/step - loss: 0.0523\n",
      "Epoch 38/50\n",
      "80/80 [==============================] - 3s 31ms/step - loss: 0.0390\n",
      "Epoch 39/50\n",
      "80/80 [==============================] - 3s 30ms/step - loss: 0.0710\n",
      "Epoch 40/50\n",
      "80/80 [==============================] - 3s 33ms/step - loss: 0.1116\n",
      "Epoch 41/50\n",
      "80/80 [==============================] - 3s 34ms/step - loss: 0.0978\n",
      "Epoch 42/50\n",
      "80/80 [==============================] - 3s 34ms/step - loss: 0.0570\n",
      "Epoch 43/50\n",
      "80/80 [==============================] - 3s 32ms/step - loss: 0.0774\n",
      "Epoch 44/50\n",
      "80/80 [==============================] - 2s 30ms/step - loss: 0.1084\n",
      "Epoch 45/50\n",
      "80/80 [==============================] - 3s 38ms/step - loss: 0.0793\n",
      "Epoch 46/50\n",
      "80/80 [==============================] - 3s 37ms/step - loss: 0.1068\n",
      "Epoch 47/50\n",
      "80/80 [==============================] - 3s 40ms/step - loss: 0.1505\n",
      "Epoch 48/50\n",
      "80/80 [==============================] - 3s 32ms/step - loss: 0.0552\n",
      "Epoch 49/50\n",
      "80/80 [==============================] - 2s 24ms/step - loss: 0.0563\n",
      "Epoch 50/50\n",
      "80/80 [==============================] - 3s 32ms/step - loss: 0.0484\n"
     ]
    }
   ],
   "source": [
    "model_copy = Model()\n",
    "model_copy(tf.expand_dims(x_test[0], 0))\n",
    "model_copy.set_weights(model.get_weights())\n",
    "\n",
    "model_adv = AdversarialModel(model_copy, epsilon=eps)\n",
    "model_adv.compile(keras.optimizers.Adam(), adversarial_loss)\n",
    "history_adv = model_adv.fit((x_train, y_train), y_train, batch_size=8, epochs=50)"
   ]
  },
  {
   "cell_type": "code",
   "execution_count": 10,
   "metadata": {},
   "outputs": [
    {
     "name": "stdout",
     "output_type": "stream",
     "text": [
      "Accuracy of clean data : 0.9875\n",
      "Accuracy of adversarial data : 0.90625\n"
     ]
    }
   ],
   "source": [
    "rights = tf.reduce_sum(tf.where(tf.argmax(model_adv.predict(x_test, verbose=0), 1) == tf.argmax(y_test, 1), 1, 0)).numpy()\n",
    "print(\"Accuracy of clean data : {}\".format(rights / x_test.shape[0]))\n",
    "\n",
    "adv_x = FGSM(model_adv, x_test, y_test)\n",
    "rights = tf.reduce_sum(tf.where(tf.argmax(model_adv.predict(adv_x, verbose=0), 1) == tf.argmax(y_test, 1), 1, 0)).numpy()\n",
    "print(\"Accuracy of adversarial data : {}\".format(rights / x_test.shape[0]))"
   ]
  },
  {
   "cell_type": "markdown",
   "metadata": {},
   "source": [
    "Visualization"
   ]
  },
  {
   "cell_type": "code",
   "execution_count": 11,
   "metadata": {},
   "outputs": [],
   "source": [
    "def display_images(img, adv_img):\n",
    "    fig, axes = plt.subplots(2, 2)\n",
    "    epsilons = [0, eps]\n",
    "    descriptions = ['Epsilon = {:0.3f}'.format(eps) for eps in epsilons]\n",
    "    for i in range(2):\n",
    "        for j in range(2):\n",
    "            description = \"Origin Model, \" + descriptions[i] if j == 0 else \"Adv Model, \" + descriptions[i]\n",
    "            if i == 0:\n",
    "                pred = model.predict(img, verbose=0) if j == 0 else model_adv.predict(img, verbose=0)\n",
    "                label = tf.argmax(pred, -1)[0]\n",
    "                confidence = pred[0, label]\n",
    "                axes[i, j].imshow(cv2.cvtColor(img[0].numpy(), cv2.COLOR_BGR2RGB))\n",
    "                axes[i, j].set_title('{} \\n {} : {:.2f}% Confidence'.format(description, label, confidence*100))\n",
    "                axes[i, j].axis('off')\n",
    "            else:\n",
    "                pred = model.predict(adv_img[0], verbose=0) if j == 0 else model_adv.predict(adv_img[1], verbose=0)\n",
    "                label = tf.argmax(pred, -1)[0]\n",
    "                confidence = pred[0, label]\n",
    "                axes[i, j].imshow(cv2.cvtColor(adv_img[j][0].numpy(), cv2.COLOR_BGR2RGB))\n",
    "                axes[i, j].set_title('{} \\n {} : {:.2f}% Confidence'.format(description, label, confidence*100))\n",
    "                axes[i, j].axis('off')\n",
    "    plt.tight_layout()\n",
    "    plt.show()"
   ]
  },
  {
   "cell_type": "code",
   "execution_count": 12,
   "metadata": {},
   "outputs": [
    {
     "name": "stdout",
     "output_type": "stream",
     "text": [
      "True Label : 15\n"
     ]
    },
    {
     "data": {
      "image/png": "[encoded data removed]",
      "text/plain": [
       "<Figure size 640x480 with 4 Axes>"
      ]
     },
     "metadata": {},
     "output_type": "display_data"
    }
   ],
   "source": [
    "for i in range(x_test.shape[0]):\n",
    "    image = tf.expand_dims(x_test[i], 0)\n",
    "    label = tf.expand_dims(y_test[i], 0)\n",
    "    if(tf.argmax(model.predict(image, verbose=0), -1)[0] == tf.argmax(label, -1)[0]):\n",
    "        adv_x = [FGSM(model, image, label), FGSM(model_adv, image, label)]\n",
    "        if(tf.argmax(model.predict(image, verbose=0), -1)[0] != tf.argmax(model.predict(adv_x[0], verbose=0), -1)[0]):\n",
    "            if(tf.argmax(model_adv.predict(image, verbose=0), -1)[0] == tf.argmax(model_adv.predict(adv_x[1], verbose=0), -1)[0]):\n",
    "                print(\"True Label : {}\".format(tf.argmax(label, -1)[0].numpy()))\n",
    "                display_images(image, adv_x)\n",
    "                break"
   ]
  }
 ],
 "metadata": {
  "kernelspec": {
   "display_name": "tensorflow",
   "language": "python",
   "name": "python3"
  },
  "language_info": {
   "codemirror_mode": {
    "name": "ipython",
    "version": 3
   },
   "file_extension": ".py",
   "mimetype": "text/x-python",
   "name": "python",
   "nbconvert_exporter": "python",
   "pygments_lexer": "ipython3",
   "version": "3.10.13"
  }
 },
 "nbformat": 4,
 "nbformat_minor": 2
}
