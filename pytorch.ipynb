{
 "cells": [
  {
   "cell_type": "code",
   "execution_count": 128,
   "metadata": {},
   "outputs": [],
   "source": [
    "import torch\n",
    "from torch.utils.data import DataLoader, Dataset\n",
    "import numpy as np\n",
    "import cv2\n",
    "import os\n",
    "from tqdm import tqdm\n",
    "import matplotlib.pyplot as plt\n",
    "from sklearn.model_selection import train_test_split"
   ]
  },
  {
   "cell_type": "code",
   "execution_count": 129,
   "metadata": {},
   "outputs": [
    {
     "name": "stdout",
     "output_type": "stream",
     "text": [
      "Using cpu device\n"
     ]
    }
   ],
   "source": [
    "device = \"cuda\" if torch.cuda.is_available() else \"cpu\"   \n",
    "\n",
    "print(f\"Using {device} device\")"
   ]
  },
  {
   "cell_type": "code",
   "execution_count": 130,
   "metadata": {},
   "outputs": [],
   "source": [
    "eps = 0.01\n",
    "\n",
    "def FGSM(model, x, y, loss_func = torch.nn.CrossEntropyLoss(), epsilon = eps):\n",
    "    model.eval()\n",
    "    x.requires_grad = True\n",
    "    pred = model(x)\n",
    "    loss = loss_func(pred, y)\n",
    "    loss.backward()\n",
    "    signed_grad = torch.sign(x.grad)\n",
    "    adv_x = x + epsilon * signed_grad\n",
    "    adv_x = torch.clamp(adv_x, 0.0, 1.0)\n",
    "    return adv_x"
   ]
  },
  {
   "cell_type": "code",
   "execution_count": 131,
   "metadata": {},
   "outputs": [
    {
     "name": "stdout",
     "output_type": "stream",
     "text": [
      "done\n"
     ]
    }
   ],
   "source": [
    "path = \"./ORL3232/\"\n",
    "folders = sorted(os.listdir(path)[:-1], key = lambda x : int(x))\n",
    "\n",
    "imgs = []\n",
    "labels = []\n",
    "\n",
    "for folder in folders:\n",
    "    p = path + folder + '/'\n",
    "    files = os.listdir(p)\n",
    "    files = [p+x for x in files if x.endswith(\".bmp\")]\n",
    "    for file in files:\n",
    "        img = cv2.imread(file, 0) / 255.0\n",
    "        imgs.append(np.reshape(img, [32, 32, 1]))\n",
    "        labels.append(int(folder) - 1)\n",
    "\n",
    "print(\"done\")"
   ]
  },
  {
   "cell_type": "code",
   "execution_count": 132,
   "metadata": {},
   "outputs": [],
   "source": [
    "class Data(Dataset):\n",
    "    def __init__(self, data, labels):\n",
    "        self.data = data\n",
    "        self.labels = labels\n",
    "\n",
    "    def __len__(self):\n",
    "        return len(self.data)\n",
    "\n",
    "    def __getitem__(self, idx):\n",
    "        return self.data[idx], self.labels[idx]"
   ]
  },
  {
   "cell_type": "code",
   "execution_count": 133,
   "metadata": {},
   "outputs": [],
   "source": [
    "x_data = imgs.copy() * 2\n",
    "y_data = labels.copy() * 2\n",
    "\n",
    "x_train, x_test, y_train, y_test = train_test_split(x_data, y_data, test_size=0.2)\n",
    "\n",
    "x_train = torch.tensor(np.array(x_train), dtype=torch.float32)\n",
    "x_train = torch.permute(x_train, [0, 3, 1, 2])\n",
    "y_train = torch.tensor(np.array(y_train), dtype=torch.int64)\n",
    "\n",
    "x_test = torch.tensor(np.array(x_test), dtype=torch.float32)\n",
    "x_test = torch.permute(x_test, [0, 3, 1, 2])\n",
    "y_test = torch.tensor(np.array(y_test), dtype=torch.int64)\n",
    "\n",
    "assert x_train.shape[0] == y_train.shape[0]"
   ]
  },
  {
   "cell_type": "code",
   "execution_count": 134,
   "metadata": {},
   "outputs": [],
   "source": [
    "class Model(torch.nn.Module):\n",
    "    def __init__(self, *args, **kwargs):\n",
    "        super().__init__(*args, **kwargs)\n",
    "        self.pool = torch.nn.MaxPool2d(2)\n",
    "        self.flat = torch.nn.Flatten()\n",
    "        self.relu = torch.nn.ReLU()\n",
    "        self.conv1 = torch.nn.Conv2d(1, 24, 3)\n",
    "        self.conv2 = torch.nn.Conv2d(24, 16, 3)\n",
    "        self.conv3 = torch.nn.Conv2d(16, 12, 3)\n",
    "        self.linear1 = None\n",
    "        self.linear2 = torch.nn.Linear(64, 64)\n",
    "        self.linear3 = torch.nn.Linear(64, 40)\n",
    "    \n",
    "    def forward(self, input):\n",
    "        x = input\n",
    "        x = self.relu(self.pool(self.conv1(x)))\n",
    "        x = self.relu(self.pool(self.conv2(x)))\n",
    "        x = self.relu(self.pool(self.conv3(x)))\n",
    "        x = self.flat(x)\n",
    "        if self.linear1 is None:\n",
    "            self.linear1 = torch.nn.Linear(x.shape[1], 64).to(x.device)\n",
    "        x = self.relu(self.linear1(x))\n",
    "        x = self.relu(self.linear2(x))\n",
    "        x = self.linear3(x)\n",
    "        return x\n",
    "    \n",
    "    def compile(self, optimizer, loss_function, metrics = None):\n",
    "        self.opt = optimizer\n",
    "        self.loss_func = loss_function\n",
    "        self.metrics = metrics\n",
    "    \n",
    "    def _validate(self, data):\n",
    "        total_samples = 0\n",
    "        self.eval()\n",
    "        running_loss = 0.0\n",
    "        accuracy = 0.0\n",
    "        info = dict()\n",
    "\n",
    "        with torch.no_grad():\n",
    "            for batch, (x_data, y_data) in enumerate(data):\n",
    "                x_data, y_data = x_data.to(device), y_data.to(device)\n",
    "                pred = self.forward(x_data)\n",
    "                loss = self.loss_func(pred, y_data)\n",
    "\n",
    "                # Accumulate validation loss\n",
    "                running_loss = running_loss + loss.item() * y_data.shape[0]\n",
    "                total_samples = total_samples + y_data.shape[0]\n",
    "                \n",
    "                if self.metrics is not None:\n",
    "                    accuracy = accuracy + self.metrics(pred, y_data) * y_data.shape[0]\n",
    "\n",
    "        info[\"val_loss\"] = running_loss / total_samples\n",
    "        \n",
    "        if self.metrics is not None:\n",
    "            info[\"val_accuracy\"] = accuracy / total_samples\n",
    "\n",
    "        return info\n",
    "    \n",
    "    def fit(self, x_data, y_data, batch_size, epochs, validation_split = 0):\n",
    "        assert validation_split >= 0 and validation_split < 1\n",
    "        if validation_split != 0:\n",
    "            x_train, x_val, y_train, y_val = train_test_split(x_data, y_data, test_size=validation_split)\n",
    "            training_data = DataLoader(Data(x_train, y_train), batch_size, True)\n",
    "            validation_data = DataLoader(Data(x_val, y_val), batch_size, True)\n",
    "        else:           \n",
    "            training_data = DataLoader(Data(x_data, y_data), batch_size, True)\n",
    "        \n",
    "        num_batches = len(training_data)\n",
    "        history = []\n",
    "        \n",
    "        for epoch in range(epochs):\n",
    "            accuracy = 0.0\n",
    "            num_samples = 0\n",
    "            \n",
    "            with tqdm(total=num_batches, desc=f'Epoch {epoch + 1}/{epochs}', unit='batch', leave=True) as pbar:\n",
    "                for batch, (x_data, y_data) in enumerate(training_data):\n",
    "                    self.train()\n",
    "                    x_data, y_data = x_data.to(device), y_data.to(device)\n",
    "                    info = dict()\n",
    "                    # Compute prediction error\n",
    "                    pred = self.forward(x_data)\n",
    "                    loss = self.loss_func(pred, y_data)\n",
    "\n",
    "                    # Backpropagation\n",
    "                    self.opt.zero_grad()\n",
    "                    loss.backward()\n",
    "                    self.opt.step()\n",
    "                    info[\"loss\"] = loss.item()\n",
    "                    \n",
    "                    if self.metrics is not None:\n",
    "                        num_samples = num_samples + y_data.shape[0]\n",
    "                        accuracy = accuracy + self.metrics(pred, y_data) * y_data.shape[0]\n",
    "                        if batch == num_batches - 1:\n",
    "                            info[\"accuracy\"] = accuracy / num_samples\n",
    "                    \n",
    "                    if validation_split != 0 and batch == num_batches - 1:\n",
    "                        info.update(self._validate(validation_data))\n",
    "                        \n",
    "                    pbar.set_postfix(info)\n",
    "                    pbar.update(1)\n",
    "            \n",
    "            history.append(loss.item())\n",
    "        \n",
    "        return history\n",
    "    \n",
    "    def evaluate(self, x_data, y_data):\n",
    "        self.eval()\n",
    "        return self.metrics(self.forward(x_data), y_data)"
   ]
  },
  {
   "cell_type": "code",
   "execution_count": 135,
   "metadata": {},
   "outputs": [],
   "source": [
    "class CategoryAccuracy(torch.nn.Module):\n",
    "    def __init__(self, *args, **kwargs):\n",
    "        super().__init__(*args, **kwargs)\n",
    "    \n",
    "    def forward(self, y_pred, y_true):\n",
    "        assert y_true.shape[0] == y_pred.shape[0]\n",
    "        y_true = torch.nn.functional.one_hot(y_true, len(folders)).to(torch.float32)\n",
    "        rights = torch.sum(torch.argmax(y_true, 1) == torch.argmax(y_pred, 1)).item()\n",
    "        return rights / y_true.shape[0]"
   ]
  },
  {
   "cell_type": "code",
   "execution_count": 136,
   "metadata": {},
   "outputs": [],
   "source": [
    "model = Model().to(device)\n",
    "model.compile(torch.optim.Adam(model.parameters()), torch.nn.CrossEntropyLoss(), CategoryAccuracy())"
   ]
  },
  {
   "cell_type": "code",
   "execution_count": 137,
   "metadata": {},
   "outputs": [
    {
     "name": "stderr",
     "output_type": "stream",
     "text": [
      "Epoch 1/50: 100%|██████████| 80/80 [00:00<00:00, 131.36batch/s, loss=3.72, accuracy=0.0266]\n",
      "Epoch 2/50: 100%|██████████| 80/80 [00:00<00:00, 146.82batch/s, loss=3.69, accuracy=0.0234]\n",
      "Epoch 3/50: 100%|██████████| 80/80 [00:00<00:00, 146.47batch/s, loss=3.72, accuracy=0.0187]\n",
      "Epoch 4/50: 100%|██████████| 80/80 [00:00<00:00, 144.62batch/s, loss=3.63, accuracy=0.0297]\n",
      "Epoch 5/50: 100%|██████████| 80/80 [00:00<00:00, 135.29batch/s, loss=3.69, accuracy=0.0422]\n",
      "Epoch 6/50: 100%|██████████| 80/80 [00:00<00:00, 138.23batch/s, loss=3.41, accuracy=0.0422]\n",
      "Epoch 7/50: 100%|██████████| 80/80 [00:00<00:00, 150.74batch/s, loss=2.34, accuracy=0.127]\n",
      "Epoch 8/50: 100%|██████████| 80/80 [00:00<00:00, 137.14batch/s, loss=2.07, accuracy=0.18]\n",
      "Epoch 9/50: 100%|██████████| 80/80 [00:00<00:00, 150.85batch/s, loss=1.97, accuracy=0.258]\n",
      "Epoch 10/50: 100%|██████████| 80/80 [00:00<00:00, 128.05batch/s, loss=1.97, accuracy=0.319]\n",
      "Epoch 11/50: 100%|██████████| 80/80 [00:00<00:00, 149.53batch/s, loss=2.08, accuracy=0.362]\n",
      "Epoch 12/50: 100%|██████████| 80/80 [00:00<00:00, 146.50batch/s, loss=1.85, accuracy=0.431]\n",
      "Epoch 13/50: 100%|██████████| 80/80 [00:00<00:00, 148.16batch/s, loss=2.24, accuracy=0.447]\n",
      "Epoch 14/50: 100%|██████████| 80/80 [00:00<00:00, 123.99batch/s, loss=1.58, accuracy=0.512]\n",
      "Epoch 15/50: 100%|██████████| 80/80 [00:00<00:00, 138.60batch/s, loss=1.73, accuracy=0.562]\n",
      "Epoch 16/50: 100%|██████████| 80/80 [00:00<00:00, 138.77batch/s, loss=1.13, accuracy=0.606]\n",
      "Epoch 17/50: 100%|██████████| 80/80 [00:00<00:00, 143.45batch/s, loss=1.28, accuracy=0.662]\n",
      "Epoch 18/50: 100%|██████████| 80/80 [00:00<00:00, 121.45batch/s, loss=0.775, accuracy=0.678]\n",
      "Epoch 19/50: 100%|██████████| 80/80 [00:00<00:00, 143.28batch/s, loss=0.959, accuracy=0.692]\n",
      "Epoch 20/50: 100%|██████████| 80/80 [00:00<00:00, 131.75batch/s, loss=0.897, accuracy=0.748]\n",
      "Epoch 21/50: 100%|██████████| 80/80 [00:00<00:00, 98.74batch/s, loss=0.848, accuracy=0.755] \n",
      "Epoch 22/50: 100%|██████████| 80/80 [00:00<00:00, 137.69batch/s, loss=0.485, accuracy=0.792]\n",
      "Epoch 23/50: 100%|██████████| 80/80 [00:00<00:00, 125.36batch/s, loss=0.644, accuracy=0.816]\n",
      "Epoch 24/50: 100%|██████████| 80/80 [00:00<00:00, 130.76batch/s, loss=0.494, accuracy=0.836]\n",
      "Epoch 25/50: 100%|██████████| 80/80 [00:00<00:00, 122.64batch/s, loss=0.874, accuracy=0.847]\n",
      "Epoch 26/50: 100%|██████████| 80/80 [00:00<00:00, 138.24batch/s, loss=0.614, accuracy=0.844]\n",
      "Epoch 27/50: 100%|██████████| 80/80 [00:00<00:00, 124.71batch/s, loss=0.664, accuracy=0.856]\n",
      "Epoch 28/50: 100%|██████████| 80/80 [00:00<00:00, 128.58batch/s, loss=0.462, accuracy=0.877]\n",
      "Epoch 29/50: 100%|██████████| 80/80 [00:00<00:00, 121.85batch/s, loss=1.28, accuracy=0.875]\n",
      "Epoch 30/50: 100%|██████████| 80/80 [00:00<00:00, 130.18batch/s, loss=0.16, accuracy=0.875]\n",
      "Epoch 31/50: 100%|██████████| 80/80 [00:00<00:00, 122.51batch/s, loss=0.317, accuracy=0.902]\n",
      "Epoch 32/50: 100%|██████████| 80/80 [00:00<00:00, 130.74batch/s, loss=0.473, accuracy=0.919]\n",
      "Epoch 33/50: 100%|██████████| 80/80 [00:00<00:00, 137.47batch/s, loss=0.297, accuracy=0.912]\n",
      "Epoch 34/50: 100%|██████████| 80/80 [00:00<00:00, 118.80batch/s, loss=0.252, accuracy=0.936]\n",
      "Epoch 35/50: 100%|██████████| 80/80 [00:00<00:00, 130.51batch/s, loss=0.229, accuracy=0.934]\n",
      "Epoch 36/50: 100%|██████████| 80/80 [00:00<00:00, 122.13batch/s, loss=0.279, accuracy=0.938]\n",
      "Epoch 37/50: 100%|██████████| 80/80 [00:00<00:00, 91.84batch/s, loss=0.475, accuracy=0.948]\n",
      "Epoch 38/50: 100%|██████████| 80/80 [00:00<00:00, 92.88batch/s, loss=0.205, accuracy=0.958]\n",
      "Epoch 39/50: 100%|██████████| 80/80 [00:00<00:00, 97.20batch/s, loss=0.0559, accuracy=0.969]\n",
      "Epoch 40/50: 100%|██████████| 80/80 [00:00<00:00, 91.68batch/s, loss=0.191, accuracy=0.973]\n",
      "Epoch 41/50: 100%|██████████| 80/80 [00:00<00:00, 122.23batch/s, loss=0.0984, accuracy=0.966]\n",
      "Epoch 42/50: 100%|██████████| 80/80 [00:00<00:00, 101.76batch/s, loss=0.0713, accuracy=0.969]\n",
      "Epoch 43/50: 100%|██████████| 80/80 [00:00<00:00, 108.07batch/s, loss=0.0153, accuracy=0.964]\n",
      "Epoch 44/50: 100%|██████████| 80/80 [00:00<00:00, 109.52batch/s, loss=0.124, accuracy=0.989]\n",
      "Epoch 45/50: 100%|██████████| 80/80 [00:00<00:00, 103.91batch/s, loss=0.109, accuracy=0.986]\n",
      "Epoch 46/50: 100%|██████████| 80/80 [00:00<00:00, 119.96batch/s, loss=0.0261, accuracy=0.983]\n",
      "Epoch 47/50: 100%|██████████| 80/80 [00:00<00:00, 123.83batch/s, loss=0.0829, accuracy=0.988]\n",
      "Epoch 48/50: 100%|██████████| 80/80 [00:00<00:00, 107.10batch/s, loss=0.038, accuracy=0.989]\n",
      "Epoch 49/50: 100%|██████████| 80/80 [00:00<00:00, 125.08batch/s, loss=0.0789, accuracy=0.988]\n",
      "Epoch 50/50: 100%|██████████| 80/80 [00:00<00:00, 108.68batch/s, loss=0.0338, accuracy=0.995]\n"
     ]
    }
   ],
   "source": [
    "history = model.fit(x_train, y_train, 8, 50)"
   ]
  },
  {
   "cell_type": "code",
   "execution_count": 138,
   "metadata": {},
   "outputs": [
    {
     "name": "stdout",
     "output_type": "stream",
     "text": [
      "Accuracy of clean data : 0.95625\n",
      "Accuracy of adversarial data : 0.58125\n"
     ]
    }
   ],
   "source": [
    "print(\"Accuracy of clean data : {}\".format(model.evaluate(x_test, y_test)))\n",
    "\n",
    "adv_x = FGSM(model, x_test, y_test)\n",
    "print(\"Accuracy of adversarial data : {}\".format(model.evaluate(adv_x, y_test)))"
   ]
  },
  {
   "cell_type": "code",
   "execution_count": 139,
   "metadata": {},
   "outputs": [],
   "source": [
    "torch.save(model, \"base_model.pth\")"
   ]
  },
  {
   "cell_type": "code",
   "execution_count": 140,
   "metadata": {},
   "outputs": [],
   "source": [
    "class AdversarialModel(torch.nn.Module):\n",
    "    def __init__(self, base_model, FGSM):\n",
    "        super().__init__()\n",
    "        self.base_model = base_model\n",
    "        self.fgsm = FGSM\n",
    "\n",
    "    def forward(self, inputs):\n",
    "        if self.training:\n",
    "            x, y = inputs \n",
    "            adv_x = self.fgsm(self.base_model, x, y)  \n",
    "            clean_preds = self.base_model(x)\n",
    "            adv_preds = self.base_model(adv_x)\n",
    "            return (clean_preds, adv_preds)\n",
    "        else:\n",
    "            x = inputs \n",
    "            return self.base_model(x)\n",
    "    \n",
    "    def compile(self, optimizer, loss_function, metrics = None):\n",
    "        self.opt = optimizer\n",
    "        self.loss_func = loss_function\n",
    "        self.metrics = metrics\n",
    "\n",
    "    def _validate(self, data):\n",
    "        total_samples = 0\n",
    "        self.eval()\n",
    "        running_loss = 0.0\n",
    "        accuracy = 0.0\n",
    "        info = dict()\n",
    "\n",
    "        with torch.no_grad():\n",
    "            for batch, (x_data, y_data) in enumerate(data):\n",
    "                x_data, y_data = x_data.to(device), y_data.to(device)\n",
    "                pred = self.forward(x_data)\n",
    "                loss = self.loss_func(pred, y_data)\n",
    "\n",
    "                # Accumulate validation loss\n",
    "                running_loss = running_loss + loss.item() * y_data.shape[0]\n",
    "                total_samples = total_samples + y_data.shape[0]\n",
    "                \n",
    "                if self.metrics is not None:\n",
    "                    accuracy = accuracy + self.metrics(pred[0], y_data) * y_data.shape[0]\n",
    "                        \n",
    "\n",
    "        info[\"val_loss\"] = running_loss / total_samples\n",
    "        \n",
    "        if self.metrics is not None:\n",
    "            info[\"val_accuracy\"] = accuracy / total_samples\n",
    "\n",
    "        return info\n",
    "    \n",
    "    def fit(self, x_data, y_data, batch_size, epochs, validation_split = 0):\n",
    "        assert validation_split >= 0 and validation_split < 1\n",
    "        if validation_split != 0:\n",
    "            x_train, x_val, y_train, y_val = train_test_split(x_data, y_data, test_size=validation_split)\n",
    "            training_data = DataLoader(Data(x_train, y_train), batch_size, True)\n",
    "            validation_data = DataLoader(Data(x_val, y_val), batch_size, True)\n",
    "        else:           \n",
    "            training_data = DataLoader(Data(x_data, y_data), batch_size, True)\n",
    "        \n",
    "        num_batches = len(training_data)\n",
    "        history = []\n",
    "        \n",
    "        for epoch in range(epochs):\n",
    "            accuracy = 0.0\n",
    "            num_samples = 0\n",
    "            \n",
    "            with tqdm(total=num_batches, desc=f'Epoch {epoch + 1}/{epochs}', unit='batch', leave=True) as pbar:\n",
    "                for batch, (x_data, y_data) in enumerate(training_data):\n",
    "                    self.train()\n",
    "                    x_data, y_data = (x_data.to(device), y_data.to(device)), y_data.to(device)\n",
    "                    info = dict()\n",
    "                    # Compute prediction error\n",
    "                    pred = self.forward(x_data)\n",
    "                    loss = self.loss_func(pred, y_data)\n",
    "\n",
    "                    # Backpropagation\n",
    "                    self.opt.zero_grad()\n",
    "                    loss.backward()\n",
    "                    self.opt.step()\n",
    "                    info[\"loss\"] = loss.item()\n",
    "                    \n",
    "                    if self.metrics is not None:\n",
    "                        num_samples = num_samples + y_data.shape[0]\n",
    "                        accuracy = accuracy + self.metrics(pred[0], y_data) * y_data.shape[0]\n",
    "                        if batch == num_batches - 1:\n",
    "                            info[\"accuracy\"] = accuracy / num_samples\n",
    "                    \n",
    "                    if validation_split != 0 and batch == num_batches - 1:\n",
    "                        info.update(self._validate(validation_data))\n",
    "                        \n",
    "                    pbar.set_postfix(info)\n",
    "                    pbar.update(1)\n",
    "            \n",
    "            history.append(loss.item())\n",
    "        \n",
    "        return history\n",
    "    \n",
    "    def evaluate(self, x_data, y_data):\n",
    "        self.eval()\n",
    "        return self.metrics(self.forward(x_data), y_data)"
   ]
  },
  {
   "cell_type": "code",
   "execution_count": 141,
   "metadata": {},
   "outputs": [],
   "source": [
    "class AdversarialLoss(torch.nn.Module):\n",
    "    def __init__(self):\n",
    "        super().__init__()\n",
    "        self.loss_func = torch.nn.CrossEntropyLoss()\n",
    "\n",
    "    def forward(self, y_pred, y_true):\n",
    "        clean_preds, adv_preds = y_pred\n",
    "        loss_clean = self.loss_func(clean_preds, y_true)\n",
    "        loss_adv = self.loss_func(adv_preds, y_true)\n",
    "        return 0.5 * loss_clean + 0.5 * loss_adv"
   ]
  },
  {
   "cell_type": "code",
   "execution_count": 142,
   "metadata": {},
   "outputs": [
    {
     "name": "stderr",
     "output_type": "stream",
     "text": [
      "C:\\Users\\wby95\\AppData\\Local\\Temp\\ipykernel_33780\\2281097763.py:1: FutureWarning: You are using `torch.load` with `weights_only=False` (the current default value), which uses the default pickle module implicitly. It is possible to construct malicious pickle data which will execute arbitrary code during unpickling (See https://github.com/pytorch/pytorch/blob/main/SECURITY.md#untrusted-models for more details). In a future release, the default value for `weights_only` will be flipped to `True`. This limits the functions that could be executed during unpickling. Arbitrary objects will no longer be allowed to be loaded via this mode unless they are explicitly allowlisted by the user via `torch.serialization.add_safe_globals`. We recommend you start setting `weights_only=True` for any use case where you don't have full control of the loaded file. Please open an issue on GitHub for any issues related to this experimental feature.\n",
      "  model_adv = AdversarialModel(torch.load(\"base_model.pth\"), FGSM).to(device)\n"
     ]
    }
   ],
   "source": [
    "model_adv = AdversarialModel(torch.load(\"base_model.pth\"), FGSM).to(device)\n",
    "model_adv.compile(torch.optim.Adam(model_adv.parameters()), AdversarialLoss(), CategoryAccuracy())"
   ]
  },
  {
   "cell_type": "code",
   "execution_count": 143,
   "metadata": {},
   "outputs": [
    {
     "name": "stderr",
     "output_type": "stream",
     "text": [
      "Epoch 1/50: 100%|██████████| 80/80 [00:01<00:00, 53.19batch/s, loss=0.954, accuracy=0.925]\n",
      "Epoch 2/50: 100%|██████████| 80/80 [00:01<00:00, 56.35batch/s, loss=0.836, accuracy=0.948]\n",
      "Epoch 3/50: 100%|██████████| 80/80 [00:01<00:00, 57.93batch/s, loss=1.11, accuracy=0.953]\n",
      "Epoch 4/50: 100%|██████████| 80/80 [00:01<00:00, 56.01batch/s, loss=0.188, accuracy=0.963]\n",
      "Epoch 5/50: 100%|██████████| 80/80 [00:01<00:00, 61.02batch/s, loss=0.873, accuracy=0.948]\n",
      "Epoch 6/50: 100%|██████████| 80/80 [00:01<00:00, 59.05batch/s, loss=0.616, accuracy=0.953]\n",
      "Epoch 7/50: 100%|██████████| 80/80 [00:01<00:00, 55.36batch/s, loss=0.517, accuracy=0.967]\n",
      "Epoch 8/50: 100%|██████████| 80/80 [00:01<00:00, 60.73batch/s, loss=0.117, accuracy=0.975]\n",
      "Epoch 9/50: 100%|██████████| 80/80 [00:01<00:00, 58.20batch/s, loss=0.553, accuracy=0.97]\n",
      "Epoch 10/50: 100%|██████████| 80/80 [00:01<00:00, 60.59batch/s, loss=0.188, accuracy=0.948]\n",
      "Epoch 11/50: 100%|██████████| 80/80 [00:01<00:00, 55.11batch/s, loss=0.327, accuracy=0.963]\n",
      "Epoch 12/50: 100%|██████████| 80/80 [00:01<00:00, 53.66batch/s, loss=0.749, accuracy=0.964]\n",
      "Epoch 13/50: 100%|██████████| 80/80 [00:01<00:00, 50.81batch/s, loss=0.13, accuracy=0.967]\n",
      "Epoch 14/50: 100%|██████████| 80/80 [00:01<00:00, 46.54batch/s, loss=0.522, accuracy=0.984]\n",
      "Epoch 15/50: 100%|██████████| 80/80 [00:01<00:00, 47.73batch/s, loss=0.0645, accuracy=0.988]\n",
      "Epoch 16/50: 100%|██████████| 80/80 [00:01<00:00, 46.49batch/s, loss=0.207, accuracy=0.988]\n",
      "Epoch 17/50: 100%|██████████| 80/80 [00:01<00:00, 49.87batch/s, loss=0.202, accuracy=0.988]\n",
      "Epoch 18/50: 100%|██████████| 80/80 [00:01<00:00, 48.40batch/s, loss=0.291, accuracy=0.988]\n",
      "Epoch 19/50: 100%|██████████| 80/80 [00:01<00:00, 49.64batch/s, loss=0.237, accuracy=0.983]\n",
      "Epoch 20/50: 100%|██████████| 80/80 [00:01<00:00, 46.50batch/s, loss=0.545, accuracy=0.988]\n",
      "Epoch 21/50: 100%|██████████| 80/80 [00:01<00:00, 49.07batch/s, loss=0.579, accuracy=0.978]\n",
      "Epoch 22/50: 100%|██████████| 80/80 [00:01<00:00, 42.61batch/s, loss=0.316, accuracy=0.986]\n",
      "Epoch 23/50: 100%|██████████| 80/80 [00:01<00:00, 45.75batch/s, loss=0.0672, accuracy=0.984]\n",
      "Epoch 24/50: 100%|██████████| 80/80 [00:01<00:00, 43.86batch/s, loss=1.15, accuracy=0.992]\n",
      "Epoch 25/50: 100%|██████████| 80/80 [00:01<00:00, 45.31batch/s, loss=0.228, accuracy=0.988]\n",
      "Epoch 26/50: 100%|██████████| 80/80 [00:01<00:00, 44.38batch/s, loss=0.373, accuracy=0.952]\n",
      "Epoch 27/50: 100%|██████████| 80/80 [00:01<00:00, 46.32batch/s, loss=0.131, accuracy=0.988]\n",
      "Epoch 28/50: 100%|██████████| 80/80 [00:01<00:00, 55.03batch/s, loss=0.3, accuracy=0.991]\n",
      "Epoch 29/50: 100%|██████████| 80/80 [00:01<00:00, 54.11batch/s, loss=0.405, accuracy=0.988]\n",
      "Epoch 30/50: 100%|██████████| 80/80 [00:01<00:00, 45.63batch/s, loss=0.356, accuracy=0.986]\n",
      "Epoch 31/50: 100%|██████████| 80/80 [00:01<00:00, 49.82batch/s, loss=0.164, accuracy=0.973]\n",
      "Epoch 32/50: 100%|██████████| 80/80 [00:01<00:00, 55.68batch/s, loss=0.166, accuracy=0.997]\n",
      "Epoch 33/50: 100%|██████████| 80/80 [00:01<00:00, 53.69batch/s, loss=0.0363, accuracy=0.992]\n",
      "Epoch 34/50: 100%|██████████| 80/80 [00:01<00:00, 54.43batch/s, loss=0.227, accuracy=0.995]\n",
      "Epoch 35/50: 100%|██████████| 80/80 [00:01<00:00, 53.95batch/s, loss=0.679, accuracy=0.992]\n",
      "Epoch 36/50: 100%|██████████| 80/80 [00:01<00:00, 53.01batch/s, loss=0.0483, accuracy=0.989]\n",
      "Epoch 37/50: 100%|██████████| 80/80 [00:01<00:00, 46.58batch/s, loss=0.0875, accuracy=0.995]\n",
      "Epoch 38/50: 100%|██████████| 80/80 [00:01<00:00, 48.50batch/s, loss=0.147, accuracy=0.995]\n",
      "Epoch 39/50: 100%|██████████| 80/80 [00:01<00:00, 47.18batch/s, loss=0.0533, accuracy=0.994]\n",
      "Epoch 40/50: 100%|██████████| 80/80 [00:01<00:00, 48.27batch/s, loss=0.519, accuracy=0.997]\n",
      "Epoch 41/50: 100%|██████████| 80/80 [00:01<00:00, 51.38batch/s, loss=0.0991, accuracy=0.992]\n",
      "Epoch 42/50: 100%|██████████| 80/80 [00:01<00:00, 55.82batch/s, loss=0.0264, accuracy=0.986]\n",
      "Epoch 43/50: 100%|██████████| 80/80 [00:01<00:00, 51.76batch/s, loss=0.0184, accuracy=0.991]\n",
      "Epoch 44/50: 100%|██████████| 80/80 [00:01<00:00, 42.85batch/s, loss=0.027, accuracy=0.992]\n",
      "Epoch 45/50: 100%|██████████| 80/80 [00:01<00:00, 42.21batch/s, loss=0.54, accuracy=0.992]\n",
      "Epoch 46/50: 100%|██████████| 80/80 [00:01<00:00, 44.67batch/s, loss=0.026, accuracy=1]\n",
      "Epoch 47/50: 100%|██████████| 80/80 [00:01<00:00, 47.94batch/s, loss=0.127, accuracy=0.997]\n",
      "Epoch 48/50: 100%|██████████| 80/80 [00:01<00:00, 47.50batch/s, loss=0.107, accuracy=0.997]\n",
      "Epoch 49/50: 100%|██████████| 80/80 [00:01<00:00, 50.31batch/s, loss=0.093, accuracy=0.994]\n",
      "Epoch 50/50: 100%|██████████| 80/80 [00:01<00:00, 49.44batch/s, loss=0.136, accuracy=0.994]\n"
     ]
    }
   ],
   "source": [
    "history_adv = model_adv.fit(x_train, y_train, 8, 50)"
   ]
  },
  {
   "cell_type": "code",
   "execution_count": 144,
   "metadata": {},
   "outputs": [
    {
     "name": "stdout",
     "output_type": "stream",
     "text": [
      "Accuracy of clean data : 0.95625\n",
      "Accuracy of adversarial data : 0.78125\n"
     ]
    }
   ],
   "source": [
    "print(\"Accuracy of clean data : {}\".format(model_adv.evaluate(x_test, y_test)))\n",
    "\n",
    "adv_x = FGSM(model_adv, x_test, y_test)\n",
    "print(\"Accuracy of adversarial data : {}\".format(model_adv.evaluate(adv_x, y_test)))"
   ]
  },
  {
   "cell_type": "code",
   "execution_count": 145,
   "metadata": {},
   "outputs": [],
   "source": [
    "def display_images(img, adv_img, model, model_adv):\n",
    "    model.eval()\n",
    "    model_adv.eval()\n",
    "    fig, axes = plt.subplots(2, 2)\n",
    "    epsilons = [0, eps]\n",
    "    descriptions = ['Epsilon = {:0.3f}'.format(eps) for eps in epsilons]\n",
    "    for i in range(2):\n",
    "        for j in range(2):\n",
    "            description = \"Origin Model, \" + descriptions[i] if j == 0 else \"Adv Model, \" + descriptions[i]\n",
    "            if i == 0:\n",
    "                pred = model(img) if j == 0 else model_adv(img)\n",
    "                label = torch.argmax(pred, -1).item()\n",
    "                confidence = torch.softmax(pred, -1)[0, label]\n",
    "                axes[i, j].imshow(cv2.cvtColor(torch.permute(img, [0, 2, 3, 1])[0].detach().numpy(), cv2.COLOR_BGR2RGB))\n",
    "                axes[i, j].set_title('{} \\n {} : {:.2f}% Confidence'.format(description, label, confidence*100))\n",
    "                axes[i, j].axis('off')\n",
    "            else:\n",
    "                pred = model(adv_img[0]) if j == 0 else model_adv(adv_img[1])\n",
    "                label = torch.argmax(pred, -1).item()\n",
    "                confidence = torch.softmax(pred, -1)[0, label]\n",
    "                axes[i, j].imshow(cv2.cvtColor(torch.permute(adv_img[j], [0, 2, 3, 1])[0].detach().numpy(), cv2.COLOR_BGR2RGB))\n",
    "                axes[i, j].set_title('{} \\n {} : {:.2f}% Confidence'.format(description, label, confidence*100))\n",
    "                axes[i, j].axis('off')\n",
    "    plt.tight_layout()\n",
    "    plt.show()"
   ]
  },
  {
   "cell_type": "code",
   "execution_count": 146,
   "metadata": {},
   "outputs": [
    {
     "name": "stdout",
     "output_type": "stream",
     "text": [
      "True Label : 26\n"
     ]
    },
    {
     "data": {
      "image/png": "[encoded data removed]",
      "text/plain": [
       "<Figure size 640x480 with 4 Axes>"
      ]
     },
     "metadata": {},
     "output_type": "display_data"
    }
   ],
   "source": [
    "model.eval()\n",
    "model_adv.eval()\n",
    "adv_x1 = FGSM(model, x_test, y_test)\n",
    "adv_x2 = FGSM(model_adv, x_test, y_test)\n",
    "\n",
    "for i in range(x_test.shape[0]):\n",
    "    img = x_test[i:i+1]\n",
    "    label = y_test[i:i+1]\n",
    "    if(torch.argmax(model(img), -1)[0] == label):\n",
    "        adv_x = [adv_x1[i:i+1], adv_x2[i:i+1]]\n",
    "        if(torch.argmax(model(img), -1)[0] != torch.argmax(model(adv_x[0]), -1)[0]):\n",
    "            if(torch.argmax(model_adv(img), -1)[0] == torch.argmax(model_adv(adv_x[1]), -1)[0]):\n",
    "                print(\"True Label : {}\".format(label.item()))\n",
    "                display_images(img, adv_x, model, model_adv)\n",
    "                break\n"
   ]
  }
 ],
 "metadata": {
  "kernelspec": {
   "display_name": "pytorch",
   "language": "python",
   "name": "python3"
  },
  "language_info": {
   "codemirror_mode": {
    "name": "ipython",
    "version": 3
   },
   "file_extension": ".py",
   "mimetype": "text/x-python",
   "name": "python",
   "nbconvert_exporter": "python",
   "pygments_lexer": "ipython3",
   "version": "3.12.8"
  }
 },
 "nbformat": 4,
 "nbformat_minor": 2
}
